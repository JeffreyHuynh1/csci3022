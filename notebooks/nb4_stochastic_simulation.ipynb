{
 "cells": [
  {
   "cell_type": "markdown",
   "metadata": {},
   "source": [
    "# Lecture 4: Probability Intuition and Random Simulation \n",
    "***\n",
    "\n",
    "In this notebook you'll see how we can use Numpy to run simple probability simulations to estimate probabilities and  to gain intuition about random processes and to check your pencil and paper work.  Later in the course we'll talk about how to implement and analyze an important random simulation technique called Monte Carlo. \n",
    "\n",
    "We'll need Numpy and Matplotlib for this notebook, so let's load and setup those libraries. "
   ]
  },
  {
   "cell_type": "code",
   "execution_count": 1,
   "metadata": {
    "collapsed": true
   },
   "outputs": [],
   "source": [
    "import numpy as np \n",
    "import matplotlib.pylab as plt\n",
    "%matplotlib inline "
   ]
  },
  {
   "cell_type": "markdown",
   "metadata": {},
   "source": [
    "### Example - Estimating the Probability that a Fair Coin Comes Up Heads\n",
    "*** \n",
    "\n",
    "In this example we'll see how we can use the Numpy function [random.choice](https://docs.scipy.org/doc/numpy/reference/generated/numpy.random.choice.html) to make random draws from a sample space and estimate the probability of certain random events. As a simple example, consider a fair coin.  We can represent the sample space for this coin with a Numpy array with two entries: \"H\" and \"T\""
   ]
  },
  {
   "cell_type": "code",
   "execution_count": 2,
   "metadata": {},
   "outputs": [
    {
     "name": "stdout",
     "output_type": "stream",
     "text": [
      "['H' 'T']\n"
     ]
    }
   ],
   "source": [
    "coin = np.array([\"H\", \"T\"])\n",
    "print(coin)"
   ]
  },
  {
   "cell_type": "markdown",
   "metadata": {},
   "source": [
    "We can simulate flipping the coin using np.random.choice, which returns a randomly selected entry from a Numpy array.  If no optional parameters are passed in, np.random.choice assigns an **equal probability** to each entry of the array.   "
   ]
  },
  {
   "cell_type": "code",
   "execution_count": 3,
   "metadata": {},
   "outputs": [
    {
     "name": "stdout",
     "output_type": "stream",
     "text": [
      "T H H H H "
     ]
    }
   ],
   "source": [
    "for ii in range(5):\n",
    "    print(np.random.choice(coin), end=\" \")"
   ]
  },
  {
   "cell_type": "markdown",
   "metadata": {},
   "source": [
    "We can simulate many flips of the coin and store the results in an array by passing the size parameter to np.random.choice. "
   ]
  },
  {
   "cell_type": "code",
   "execution_count": 4,
   "metadata": {},
   "outputs": [
    {
     "name": "stdout",
     "output_type": "stream",
     "text": [
      "['H' 'T' 'H' 'H' 'T' 'T' 'T' 'T' 'T' 'H']\n"
     ]
    }
   ],
   "source": [
    "flips = np.random.choice(coin, size=10)\n",
    "print(flips)"
   ]
  },
  {
   "cell_type": "markdown",
   "metadata": {},
   "source": [
    "Now suppose we want to run a simple simulation to estimate the probability  that the coin comes up Heads (which we expect to be $0.5$ because the coin is fair).  One way to do this is to do a large number of coin flips and then divide the number of flips that come up Heads by the total number of flips. The following code flips the coin 50 times and computes the desired ratio: "
   ]
  },
  {
   "cell_type": "code",
   "execution_count": 16,
   "metadata": {},
   "outputs": [
    {
     "name": "stdout",
     "output_type": "stream",
     "text": [
      "the probability of heads is approximately 0.740\n"
     ]
    }
   ],
   "source": [
    "np.random.seed(12345)\n",
    "flips = np.random.choice(coin, size=50)\n",
    "approx_prob_heads = np.sum(flips == \"H\") / len(flips)\n",
    "print(\"the probability of heads is approximately {:.3f}\".format(approx_prob_heads))"
   ]
  },
  {
   "cell_type": "markdown",
   "metadata": {},
   "source": [
    "OK, so the simulation estimated that the probability of the coin coming up heads is $0.36$, which is pretty far off from the $0.5$ that we expected.  This is likely because we didn't do very many coin flips.  Let's see what happens if we rerun the simulation with $500$ coin flips. "
   ]
  },
  {
   "cell_type": "code",
   "execution_count": 17,
   "metadata": {},
   "outputs": [
    {
     "name": "stdout",
     "output_type": "stream",
     "text": [
      "the probability of heads is approximately 0.752\n"
     ]
    }
   ],
   "source": [
    "flips = np.random.choice(coin, size=3000,p=[.75,.25])\n",
    "approx_prob_heads = np.sum(flips == \"H\") / len(flips)\n",
    "print(\"the probability of heads is approximately {:.3f}\".format(approx_prob_heads))"
   ]
  },
  {
   "cell_type": "markdown",
   "metadata": {},
   "source": [
    "With $500$ coin flips our estimate came out to be $0.512$, which seems much better.  It's an interesting exercise to make a plot of the running estimate of the probability as the number of coin flips increases.  We'll use the same random sequence of coin flips from the previous simulation.  \n"
   ]
  },
  {
   "cell_type": "code",
   "execution_count": 18,
   "metadata": {},
   "outputs": [
    {
     "data": {
      "image/png": "[encoded data removed]",
      "text/plain": [
       "<matplotlib.figure.Figure at 0x1101f4a20>"
      ]
     },
     "metadata": {},
     "output_type": "display_data"
    }
   ],
   "source": [
    "p = np.zeros(len(flips))\n",
    "for ii in range(len(p)):\n",
    "    p[ii] = np.sum(flips[:ii+1] == \"H\") / len(flips[:ii+1])\n",
    "    \n",
    "fig, ax = plt.subplots(figsize=(12,6))\n",
    "ax.plot(p, color=\"steelblue\")\n",
    "ax.set_title(\"Running Estimate of Probability of Heads\", fontsize=20)\n",
    "ax.set_xlabel(\"Number of Flips\", fontsize=16)\n",
    "ax.set_ylabel(\"Estimate of Probability\", fontsize=16)\n",
    "\n",
    "ax.grid(True, alpha=0.25)"
   ]
  },
  {
   "cell_type": "markdown",
   "metadata": {},
   "source": [
    "Notice that for very few flips the estimate of the probability is understandably poor.  But as the number of flips increases the estimate settles down to very close to the expected $0.5$. Try cranking up the number of flips in the simulation and see the estimated probability get closer to $0.5$. "
   ]
  },
  {
   "cell_type": "markdown",
   "metadata": {},
   "source": [
    "### Exercise 1 - The Biased Coin\n",
    "***\n",
    "\n",
    "Now let's make it more interesting by considering a biased coin where the probability of the coin landing heads is $0.75$.  We can alter the probability with which np.random.choice selects a particular entry of the sample space array by passing in an optional array of probabilities, e.g. p = [0.75, 0.25].  Rerun the simulation from above with the biased coin by passing in such an array of probabilities into np.random.choice. Does your running estimate of the probability of Heads seem to settle down to $0.75$ as expected?  If not, try increasing the number of coin flips until it does. "
   ]
  },
  {
   "cell_type": "code",
   "execution_count": 15,
   "metadata": {},
   "outputs": [
    {
     "name": "stdout",
     "output_type": "stream",
     "text": [
      "H\n",
      "H\n",
      "H\n",
      "H\n",
      "H\n",
      "H\n",
      "T\n",
      "T\n",
      "H\n",
      "H\n"
     ]
    }
   ],
   "source": [
    "for i in range(10):\n",
    "    print(np.random.choice(coin, p=[0.75,0.25]))"
   ]
  },
  {
   "cell_type": "markdown",
   "metadata": {},
   "source": [
    "### Exercise 2 - Double Tails\n",
    "***\n",
    "\n",
    "In class we showed that the probability of flipping two fair coins and getting two Tails was $\\frac{1}{4}$.  Write a simple simulation to estimate this probability. Does your estimate from your simulation agree with the pencil-and-paper results? "
   ]
  },
  {
   "cell_type": "code",
   "execution_count": 20,
   "metadata": {},
   "outputs": [
    {
     "data": {
      "text/plain": [
       "'TH'"
      ]
     },
     "execution_count": 20,
     "metadata": {},
     "output_type": "execute_result"
    }
   ],
   "source": [
    "two_coins= np.array([\"HH\", \"TT\", \"HT\", \"TH\"])\n",
    "np.random.choice(two_coins)"
   ]
  },
  {
   "cell_type": "markdown",
   "metadata": {},
   "source": [
    "### Exercise 3 - The Birthday Game \n",
    "***\n",
    "\n",
    "The so-called Birthday Paradox tells us that if there are more than $70$ people in the room, there is a $99.9\\%$ chance that at least two people have the same birthday.  It turns out that _paradox_ is a misnomer, because the facts of the problem are very clear after a bit of probability analysis.  We'll talk about this problem in detail in class on Wednesday, but for now we can simulate it and get some intuition.  \n",
    "\n",
    "The following code does all the work for you.  You just need to play around with it and see how it works.  \n",
    "\n",
    "- The function random_bday() returns a string representing a valid birthday in a non-leap year. \n",
    "\n",
    "- The function birthday_game(...) assigns $n$ birthdays randomly and then checks if there is a birthday match.  \n",
    "\n",
    "- The function birthday_sim(...) runs many trials of the birthday game and returns the fraction of trials in which there was a birthday match. \n",
    "\n",
    "Try running birthday_sim(...) for various number of people and number of trials and look at the results!"
   ]
  },
  {
   "cell_type": "code",
   "execution_count": null,
   "metadata": {
    "collapsed": true
   },
   "outputs": [],
   "source": [
    "def random_bday():\n",
    "    \n",
    "    # Dictionary telling how many days are in each month  \n",
    "    days_in_month = {\"Jan\" : 31, \"Feb\" : 28, \"Mar\" : 31, \"Apr\" : 30, \"May\" : 31, \"Jun\" : 30, \"Jul\" : 31, \"Aug\" : 31, \n",
    "                     \"Sep\" : 30, \"Oct\" : 31, \"Nov\" : 30, \"Dec\" : 31}\n",
    "    # Array of months \n",
    "    months = np.array(list(days_in_month.keys()))\n",
    "    \n",
    "    # Probability of randomly selecting each month \n",
    "    month_probs = np.array(list(days_in_month.values()))/365\n",
    "    \n",
    "    # Draw random month \n",
    "    m = np.random.choice(months, p=month_probs)\n",
    "    \n",
    "    # Draw random day of month \n",
    "    d = np.random.choice(range(1,days_in_month[m]+1))\n",
    "    \n",
    "    return m + \" \" + str(d)\n",
    "    "
   ]
  },
  {
   "cell_type": "code",
   "execution_count": null,
   "metadata": {
    "collapsed": true
   },
   "outputs": [],
   "source": [
    "def birthday_game(num_people):\n",
    "    \n",
    "    # draw random birthday for each person in the room \n",
    "    birthdays = [random_bday() for ii in range(num_people)]\n",
    "    \n",
    "    # check if there is a birthday match \n",
    "    return True if len(set(birthdays)) < len(birthdays) else False \n"
   ]
  },
  {
   "cell_type": "code",
   "execution_count": null,
   "metadata": {
    "collapsed": true
   },
   "outputs": [],
   "source": [
    "def birthday_sim(num_people, num_trials=1000):\n",
    "    \n",
    "    # Simulate num_trials of the birthday game \n",
    "    random_rooms = [birthday_game(num_people) for ii in range(num_trials)]\n",
    "    \n",
    "    # Print fraction of trials where birthday match occurred \n",
    "    print('The approximate probability of a birthday match in a room of {} people is {:.16f}'.format(num_people,np.sum(random_rooms)/num_trials))"
   ]
  },
  {
   "cell_type": "code",
   "execution_count": null,
   "metadata": {
    "collapsed": true
   },
   "outputs": [],
   "source": [
    "birthday_sim(20)"
   ]
  },
  {
   "cell_type": "markdown",
   "metadata": {},
   "source": [
    "### Exercise 4 - How Many Flips Until  we Get a Double Heads\n",
    "***\n",
    "\n",
    "Later we'll see that we can use probabilities to compute average quantities of interest.  For instance, we could compute the average number of coin flips we have to do until we flip two Heads in a row.  Can you write a simulation to estimate this? Can you extend this to $m$ Heads in a row? "
   ]
  },
  {
   "cell_type": "code",
   "execution_count": null,
   "metadata": {
    "collapsed": true
   },
   "outputs": [],
   "source": []
  },
  {
   "cell_type": "markdown",
   "metadata": {},
   "source": [
    "### Challenge Exercise - Poker Hands\n",
    "***\n",
    "\n",
    "Consider drawing a hand of five-card poker.  Write a simulation to estimate the probability of being dealt common hands like two pair, a straight, a flush, or a full house.  You can check your estimate for the probability of particular hands [here](http://www.math.hawaii.edu/~ramsey/Probability/PokerHands.html). Note that there are around 2.5 million distinct hands in 5-card poker, so to get accurate probability estimates you'll probably have to simulate **many** hands.   \n",
    "\n",
    "Notice that drawing cards from a deck is slightly different than flipping a coin and rolling a die, because once we've drawn a card, that card is no longer in the deck for the remaining draws.  You can implement this behavior with np.random.choice using the parameter replace=False. "
   ]
  },
  {
   "cell_type": "code",
   "execution_count": null,
   "metadata": {
    "collapsed": true
   },
   "outputs": [],
   "source": []
  }
 ],
 "metadata": {
  "kernelspec": {
   "display_name": "Python 3",
   "language": "python",
   "name": "python3"
  },
  "language_info": {
   "codemirror_mode": {
    "name": "ipython",
    "version": 3
   },
   "file_extension": ".py",
   "mimetype": "text/x-python",
   "name": "python",
   "nbconvert_exporter": "python",
   "pygments_lexer": "ipython3",
   "version": "3.6.3"
  }
 },
 "nbformat": 4,
 "nbformat_minor": 2
}
