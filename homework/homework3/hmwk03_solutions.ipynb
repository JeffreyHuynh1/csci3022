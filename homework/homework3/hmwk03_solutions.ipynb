{
 "cells": [
  {
   "cell_type": "markdown",
   "metadata": {},
   "source": [
    "# Homework 3: Random Variables and Their Distributions\n",
    "***\n",
    "\n",
    "**Name**: Dan Larremore\n",
    "\n",
    "***\n",
    "\n",
    "This assignment is due on Moodle by **5pm on Friday March 2nd**. Your solutions to theoretical questions should be done in Markdown/MathJax directly below the associated question.  Your solutions to computational questions should include any specified Python code and results as well as written commentary on your conclusions.  Remember that you are encouraged to discuss the problems with your instructors and classmates, but **you must write all code and solutions on your own**.  For a refresher on the course **Collaboration Policy** click [here](https://github.com/dblarremore/csci3022/blob/master/resources/syllabus.md#collaboration-policy).  \n",
    "\n",
    "**NOTES**: \n",
    "\n",
    "- Do **NOT** load or use any Python packages that are not available in Anaconda 3.6. \n",
    "- Some problems with code may be autograded.  If we provide a function API **do not** change it.  If we do not provide a function API then you're free to structure your code however you like. \n",
    "- Because you can technically evaluate notebook cells is a non-linear order, it's a good idea to do Cell $\\rightarrow$ Run All as a check before submitting your solutions.  That way if we need to run your code you will know that it will work as expected. \n",
    "- Submit only this Jupyter notebook to Moodle.  Do not compress it using tar, rar, zip, etc. \n",
    "\n",
    "### Work only 4 of the 5 problems below! Your choice."
   ]
  },
  {
   "cell_type": "code",
   "execution_count": 1,
   "metadata": {
    "scrolled": true
   },
   "outputs": [],
   "source": [
    "import pandas as pd\n",
    "import numpy as np\n",
    "import matplotlib.pylab as plt\n",
    "from scipy.special import binom\n",
    "%matplotlib inline"
   ]
  },
  {
   "cell_type": "markdown",
   "metadata": {},
   "source": [
    "### [25 points] Problem 1\n",
    "***\n",
    "\n",
    "Let $X$ be the lifespan (in years) of a BF Otterich Rugged Trail T/A tire under normal driving conditions, and suppose $X$ is described by the following probability density function: \n",
    "\n",
    "$$\n",
    "f(x) = \\left\\{ \n",
    "\\begin{array}{ll}\n",
    "\\dfrac{15}{c x^3} & 1 \\leq x \\leq 15 \\\\\n",
    "0 & \\textrm{otherwise}\n",
    "\\end{array}\n",
    "\\right.\n",
    "$$\n",
    "\n",
    "**Part A**: Determine the value of $c$ such that $f(x)$ is a valid PDF. "
   ]
  },
  {
   "cell_type": "markdown",
   "metadata": {
    "collapsed": true
   },
   "source": [
    "$$\\int_{1}^{15} f(x) dx = 1$$\n",
    "$$\\int_{1}^{15} \\frac{15}{cx^3} dx = 1$$\n",
    "$$\\int_{1}^{15} \\frac{15}{x^3} dx = c$$\n",
    "$$ -2\\frac{15}{x^2} \\bigg\\vert_{1}^{15} = c$$\n",
    "$$ -30\\left (\\frac{1}{225} - 1 \\right)  = c$$\n",
    "$$ 30\\frac{224}{225}  = c$$\n",
    "$$ 2\\frac{224}{15}  = c$$\n",
    "$$ c = \\frac{448}{15} = 29.8\\bar{6} $$"
   ]
  },
  {
   "cell_type": "markdown",
   "metadata": {},
   "source": [
    "**Part B**: Compute the cumulative distribution function $F(y)$ for $X$. "
   ]
  },
  {
   "cell_type": "markdown",
   "metadata": {},
   "source": [
    "$$\n",
    "f(x) = \\left\\{ \n",
    "\\begin{array}{ll}\n",
    "\\dfrac{225}{448 x^3} & 1 \\leq x \\leq 15 \\\\\n",
    "0 & \\textrm{otherwise}\n",
    "\\end{array}\n",
    "\\right.\n",
    "$$\n",
    "\n",
    "$$F(x) = \\int_{t=1}^{x} f(t) dt$$\n",
    "$$F(x) = \\int_{t=1}^{x} \\frac{225}{448 t^3} dt$$\n",
    "$$F(x) = -2\\frac{225}{448}\\cdot\\frac{1}{t^2} \\bigg\\vert_{1}^{x}$$\n",
    "$$F(x) = \\frac{225}{224}\\left (1 - \\frac{1}{x^2} \\right )$$\n",
    "\n",
    "But this is just for $x\\geq 1$, so we have \n",
    "$$\n",
    "F(x) = \\left\\{ \n",
    "\\begin{array}{ll}\n",
    "0 & x < 1\\\\\n",
    "\\frac{225}{224}\\left (1 - \\frac{1}{x^2} \\right ) & 1 \\leq x \\leq 15 \\\\\n",
    "1 & x>15 \\textrm{otherwise}\n",
    "\\end{array}\n",
    "\\right.\n",
    "$$"
   ]
  },
  {
   "cell_type": "markdown",
   "metadata": {},
   "source": [
    "**Part C**: Use the cdf you computed in **Part B** to find the probability that a single tire goes longer than 5 years without failing. "
   ]
  },
  {
   "cell_type": "markdown",
   "metadata": {
    "collapsed": true
   },
   "source": [
    "$$P(X \\geq 5) = 1-F(5)$$\n",
    "$$1-F(5) = 1-\\frac{225}{224}\\cdot\\frac{24}{25}$$\n",
    "$$1-F(5) = 1-\\frac{9}{224} \\cdot 24$$\n",
    "$$1-F(5) = 1-\\frac{9}{28} \\cdot 3$$\n",
    "$$1-F(5) = 1-\\frac{27}{28}$$\n",
    "\n",
    "Therefore, the probability that a single goes longer than 5 years without failing is 1/28."
   ]
  },
  {
   "cell_type": "markdown",
   "metadata": {},
   "source": [
    "**Part D**: Use the cdf you computed in **Part B** to determine the number of years within which $62.5\\%$ of all tires will need to be replaced. In other words, determine the 62.5th percentile of the distribution of $X$. "
   ]
  },
  {
   "cell_type": "markdown",
   "metadata": {
    "collapsed": true
   },
   "source": [
    "$$F(Q) = 0.625 = \\frac{5}{8}$$\n",
    "$$\\frac{225}{224}\\left (1 - \\frac{1}{Q^2} \\right ) = \\frac{5}{8}$$\n",
    "$$1 - \\frac{1}{Q^2} = \\frac{5}{8}\\cdot \\frac{224}{225}$$\n",
    "$$\\frac{1}{Q^2} = 1 - \\frac{5}{8}\\cdot \\frac{224}{225}$$\n",
    "$$Q = \\sqrt{\\frac{1}{1 - \\frac{5}{8}\\cdot \\frac{224}{225}}}$$\n",
    "$$Q = \\sqrt{\\frac{45}{17}} \\approx 1.63$$"
   ]
  },
  {
   "cell_type": "markdown",
   "metadata": {},
   "source": [
    "**Part E**: What is the probability that all four BF Otterich Rugged Trail T/A tires on a vehicle last longer than 5 years without failing? "
   ]
  },
  {
   "cell_type": "markdown",
   "metadata": {
    "collapsed": true
   },
   "source": [
    "Assume that each of the four tires are independent. We know from Part C that the probability that a single tire lasts longer than 5 years is 1/28. Thus, the probability that they all last longer than 5 years is\n",
    "$$\\left ( \\frac{1}{28}\\right )^4$$\n",
    "\n",
    "Computed below, this is approximately 0.00000163.  BF Otterich tires are awful. :("
   ]
  },
  {
   "cell_type": "code",
   "execution_count": 2,
   "metadata": {},
   "outputs": [
    {
     "data": {
      "text/plain": [
       "1.6269262807163682e-06"
      ]
     },
     "execution_count": 2,
     "metadata": {},
     "output_type": "execute_result"
    }
   ],
   "source": [
    "1/28**4"
   ]
  },
  {
   "cell_type": "markdown",
   "metadata": {},
   "source": [
    "### [25 points] Problem 2\n",
    "***\n",
    "\n",
    "You are a data-driven transportation engineer investigating the effect that a particular [vertical lift bridge](https://en.wikipedia.org/wiki/Vertical-lift_bridge) has on city traffic.  Every time a boat passes under the bridge, cars must stop while the bridge is raised to accommodate the height of the boat.  As both boat and car traffic increases, city planners are considering building a new taller bridge that will never impede the flow of traffic. As part of a larger simulation of traffic congestion, you need to decide how to model the arrival of boats at the bridge.  From your Intro to Data Science class you remember that the time _between_ independent arrivals are usually modeled by an Exponential distribution.  Finally, you have access to a report that says on average 10 boats cross under the bridge per day.\n",
    "\n",
    "Answer the following questions about this scenario. **Note** that for **Parts B-D** you should clearly express the computation you're doing with math, but feel free to do any fancy function evaluations with Python. \n",
    "\n",
    "**Part A**:  Assuming the between-boat times do in-fact follow $Exp(10)$, what distribution would you expect the **number** of boats that cross under the bridge on a given day to follow?  What are the parameter(s) of the distribution? "
   ]
  },
  {
   "cell_type": "markdown",
   "metadata": {},
   "source": [
    "**Solution:**\n",
    "\n",
    "The number of boats should follow a Poisson distribution with parameter $\\lambda=10$"
   ]
  },
  {
   "cell_type": "markdown",
   "metadata": {},
   "source": [
    "**Part B**:  What is the probability that 13 boats cross under the bridge on a particular day?"
   ]
  },
  {
   "cell_type": "markdown",
   "metadata": {},
   "source": [
    "We want to compute P(k=13) for a Poisson distribution with parameter $\\lambda=10$,\n",
    "\n",
    "$$\\frac{10^{13}}{13!} e^{-10}$$"
   ]
  },
  {
   "cell_type": "code",
   "execution_count": 3,
   "metadata": {},
   "outputs": [
    {
     "name": "stdout",
     "output_type": "stream",
     "text": [
      "P= 0.07290794622443666 via direct computation.\n",
      "P= 0.07290794622443707 via scipy.\n"
     ]
    }
   ],
   "source": [
    "import math\n",
    "from scipy.stats import poisson\n",
    "print('P=',10**13/math.factorial(13) * np.exp(-10),'via direct computation.')\n",
    "print('P=',poisson.pmf(13,10), 'via scipy.')"
   ]
  },
  {
   "cell_type": "markdown",
   "metadata": {},
   "source": [
    "**Part C**:  What is the probability that 8 boats or fewer cross under the bridge on a particular day?"
   ]
  },
  {
   "cell_type": "code",
   "execution_count": 4,
   "metadata": {},
   "outputs": [
    {
     "name": "stdout",
     "output_type": "stream",
     "text": [
      "P(k <= 8) =  0.3328196787507192\n"
     ]
    }
   ],
   "source": [
    "k = np.arange(0,9)\n",
    "p = poisson.pmf(k,10)\n",
    "print('P(k <= 8) = ',p.sum())"
   ]
  },
  {
   "cell_type": "markdown",
   "metadata": {},
   "source": [
    "**Part D**: What is the probability that between 2 and 4 hours pass between two boat crossings? "
   ]
  },
  {
   "cell_type": "markdown",
   "metadata": {},
   "source": [
    "For this, we want to integrate the exponential distribution from 2/24 to 4/24. Instead, we'll use the exponential CDF is \n",
    "\n",
    "$$F(t) = 1 - e^{-\\lambda t}$$\n",
    "\n",
    "Thus, we will compute $$F(\\tfrac{4}{24}) - F(\\tfrac{2}{24}) = 1 - e^{-10 \\frac{4}{24}} - 1 + e^{-10 \\frac{2}{24}}$$\n",
    "\n",
    "Canceling the 1s, we get $$e^{-\\frac{20}{24}}- e^{-\\frac{40}{24}}$$"
   ]
  },
  {
   "cell_type": "code",
   "execution_count": 5,
   "metadata": {},
   "outputs": [
    {
     "data": {
      "text/plain": [
       "0.24572260566951637"
      ]
     },
     "execution_count": 5,
     "metadata": {},
     "output_type": "execute_result"
    }
   ],
   "source": [
    "np.exp(-20/24)-np.exp(-40/24)"
   ]
  },
  {
   "cell_type": "markdown",
   "metadata": {},
   "source": [
    "**Part F**: Write a function boat_count that takes as its sole argument the rate parameter $\\lambda$ with units boats per day. Your function should simulate boat arrivals at the bridge by sampling between-boat times from $Exp(\\lambda)$ via Numpy's [random.exponential](https://docs.scipy.org/doc/numpy-1.13.0/reference/generated/numpy.random.exponential.html) function and return the number of boats that pass under the bridge on a single simulated day. \n",
    "\n",
    "**Note**: Do not change the API for this function. In other words, please keep the name of the function, its input parameter, and its desired output the same. Of course, the inner workings of this function and the actual value that it returns are in your hands!"
   ]
  },
  {
   "cell_type": "code",
   "execution_count": 6,
   "metadata": {},
   "outputs": [],
   "source": [
    "def boat_count(lam):\n",
    "    k = 0\n",
    "    t = np.random.exponential(1/lam)\n",
    "    while t < 1:\n",
    "        k+=1\n",
    "        t+=np.random.exponential(1/lam)\n",
    "    return k"
   ]
  },
  {
   "cell_type": "markdown",
   "metadata": {},
   "source": [
    "**Part G**: Write a function boat_count_sim that takes as arguments the rate parameter $\\lambda$ with units boats per day and an integer number of days to simulate. Your function should use the function you wrote in **Part F** to simulate many independent days of boat crossings and estimate the probability that 8 boats or fewer cross under the bridge on a particular day. For $\\lambda = 10$, does your estimate agree with the by-hand computation you did in **Part C**?  \n",
    "\n",
    "**Note**: Do not change the API for this function. "
   ]
  },
  {
   "cell_type": "code",
   "execution_count": 7,
   "metadata": {},
   "outputs": [
    {
     "data": {
      "text/plain": [
       "0.305"
      ]
     },
     "execution_count": 7,
     "metadata": {},
     "output_type": "execute_result"
    }
   ],
   "source": [
    "def boat_count_sim(lam, num_days=int(1e3)):\n",
    "    counts = np.array([boat_count(lam) for ii in range(num_days)])\n",
    "    return np.sum(counts<=8)/num_days \n",
    "boat_count_sim(10)"
   ]
  },
  {
   "cell_type": "markdown",
   "metadata": {},
   "source": [
    "**Part H**: Write a function boat_time_sim that takes as arguments the rate parameter $\\lambda$ with units boats per day and an integer number of boat arrivals to simulate. Your function should sample boat arrivals via [np.random.exponential](https://docs.scipy.org/doc/numpy-1.13.0/reference/generated/numpy.random.exponential.html) and estimate the probability that boats arrive between 2 and 4 hours apart.  For $\\lambda = 10$, does your estimate agree with the by-hand computation you did in **Part D**?  \n",
    "\n",
    "**Note**: Do not change the API for this function.  "
   ]
  },
  {
   "cell_type": "code",
   "execution_count": 8,
   "metadata": {},
   "outputs": [
    {
     "data": {
      "text/plain": [
       "0.24806"
      ]
     },
     "execution_count": 8,
     "metadata": {},
     "output_type": "execute_result"
    }
   ],
   "source": [
    "def boat_time_sim(lam, num_boats=int(1e3)): \n",
    "    times = np.array([np.random.exponential(1/lam) for ii in range(num_boats)])\n",
    "    return np.sum((times <= 4/24) & (times >= 2/24))/num_boats \n",
    "boat_time_sim(10,num_boats=int(1e5))"
   ]
  },
  {
   "cell_type": "markdown",
   "metadata": {},
   "source": [
    "### [25 points] Problem 3 \n",
    "***\n",
    "\n",
    "Let $X =$ the leading digit of a randomly selected number from a large accounting\n",
    "ledger. For example, if we randomly draw the number \\$20,695, then $X = 2.$\n",
    "People who make up numbers to commit accounting fraud tend to give $X$ a\n",
    "(discrete) uniform distribution, i.e., $P(X = x) = \\frac{1}{9}$, for $x \\in \\{1, ..., 9\\}$. However,\n",
    "there is empirical evidence that suggests that _naturally occurring_ numbers (e.g.,\n",
    "numbers in a non-fraudulent accounting ledgers) have leading digits that do not\n",
    "follow a uniform distribution. Instead, they follow a distribution defined by the following probability mass function:\n",
    "\n",
    "$$\n",
    "f(x) = \\log_{10}\\left( \\frac{x+1}{x} \\right) \\quad \\textrm{for } x = 1, 2, \\ldots, 9\n",
    "$$"
   ]
  },
  {
   "cell_type": "markdown",
   "metadata": {},
   "source": [
    "**Part A**: Write a function pmf_natural that implements $f(x)$. Your function should take in an integer $x$ and return $f(x) = P(X = x)$.  Use your function to argue that $f(x)$ is a well-defined probability mass function. "
   ]
  },
  {
   "cell_type": "code",
   "execution_count": 9,
   "metadata": {},
   "outputs": [
    {
     "name": "stdout",
     "output_type": "stream",
     "text": [
      "f(x) ≥ 0 for all x = True\n",
      "sum(f(x)) for x = 1, 2, ..., 9 is 0.9999999999999999\n"
     ]
    }
   ],
   "source": [
    "def pmf_natural(x):\n",
    "    return np.log10((x + 1)/x)\n",
    "\n",
    "pmf = np.array([pmf_natural(x) for x in range(1,10)])\n",
    "print(\"f(x) \\u2265 0 for all x = {}\".format(np.all(pmf >= 0)))\n",
    "print(\"sum(f(x)) for x = 1, 2, ..., 9 is {}\".format(np.sum(pmf)))"
   ]
  },
  {
   "cell_type": "markdown",
   "metadata": {},
   "source": [
    "**Part B**: Use the function you wrote above to make stacked bar plots describing the pmf of the naturally occurring numbers as well as the discrete uniform distribution.  Make sure that the $x$- and $y$-limits on your plots are the same so that the two distributions are easy to compare. "
   ]
  },
  {
   "cell_type": "code",
   "execution_count": 10,
   "metadata": {},
   "outputs": [
    {
     "data": {
      "image/png": "[encoded data removed]",
      "text/plain": [
       "<matplotlib.figure.Figure at 0x113f40080>"
      ]
     },
     "metadata": {},
     "output_type": "display_data"
    }
   ],
   "source": [
    "def natural_vs_uniform():\n",
    "    \n",
    "    pmf_X = np.array([pmf_natural(x) for x in range(1,10)])\n",
    "    pmf_U = (1/9) * np.ones(9)\n",
    "    \n",
    "    fig, axes = plt.subplots(nrows=2, ncols=1, figsize=(12,10)) \n",
    "    \n",
    "    axes[0].bar(range(1,10), pmf_X, color=\"steelblue\")\n",
    "    axes[1].bar(range(1,10), pmf_U, color=\"steelblue\")\n",
    "    \n",
    "    for ax in axes:\n",
    "        ax.set_ylim([0,.5])\n",
    "        ax.grid(True, alpha=0.25)\n",
    "        ax.set_axisbelow(True)\n",
    "        ax.set_xlabel(\"Digit\", fontsize=16)\n",
    "        ax.set_ylabel(\"Density\", fontsize=16)\n",
    "        plt.sca(ax)\n",
    "        plt.xticks(range(1,10))\n",
    "        \n",
    "    axes[0].set_title(\"Natural Mass Function\", fontsize=20)\n",
    "    axes[1].set_title(\"Uniform Mass Function\", fontsize=20)\n",
    "    \n",
    "    fig.subplots_adjust(hspace=0.4)\n",
    "\n",
    "    \n",
    "natural_vs_uniform()"
   ]
  },
  {
   "cell_type": "markdown",
   "metadata": {},
   "source": [
    "**Part C**: Write a function cdf_natural that implements the cumulative distribution function $F(y)$ for $X$ and use it to compute the probability that the leading digit in a number is at most 4 and at most 5. "
   ]
  },
  {
   "cell_type": "code",
   "execution_count": 11,
   "metadata": {},
   "outputs": [
    {
     "name": "stdout",
     "output_type": "stream",
     "text": [
      "P(y ≤ 4) = 0.699\n",
      "P(y ≤ 5) = 0.778\n"
     ]
    }
   ],
   "source": [
    "def cdf_natural(y):\n",
    "    \n",
    "    cdf = 0 \n",
    "    for aa in range(1, np.min([int(y),9])+1):\n",
    "        cdf += pmf_natural(aa)\n",
    "    \n",
    "    return cdf  \n",
    "\n",
    "print(\"P(y \\u2264 {}) = {:.3f}\".format(4, cdf_natural(4)))\n",
    "print(\"P(y \\u2264 {}) = {:.3f}\".format(5, cdf_natural(5)))"
   ]
  },
  {
   "cell_type": "markdown",
   "metadata": {},
   "source": [
    "**Part D**: The data in tax_data.txt contains the taxable income for individuals in 1978. Use Pandas and the information from **Parts A-D** to determine whether or not the dataset is likely fraudulent.  In addition to code and any graphical summaries, make sure to clearly justify your conclusion in words. "
   ]
  },
  {
   "cell_type": "code",
   "execution_count": 12,
   "metadata": {},
   "outputs": [
    {
     "data": {
      "image/png": "[encoded data removed]",
      "text/plain": [
       "<matplotlib.figure.Figure at 0x10dbcedd8>"
      ]
     },
     "metadata": {},
     "output_type": "display_data"
    }
   ],
   "source": [
    "def first_digit(val):\n",
    "    return int(str(val)[0])\n",
    "\n",
    "def tax_histogram(df):\n",
    "    df[\"First Digit\"] = df[\"Tax Incomes\"].apply(first_digit)\n",
    "    \n",
    "    fig, ax = plt.subplots(nrows=1, ncols=1, figsize=(10,6))\n",
    "    \n",
    "    bins = [ii-.5 for ii in range(1,11)]\n",
    "    df[\"First Digit\"].hist(ax=ax, bins=bins, color=\"steelblue\", edgecolor=\"white\", rwidth=0.9, normed=True)\n",
    "    \n",
    "    ax.grid(alpha=0.25)\n",
    "    ax.set_axisbelow(True)\n",
    "    \n",
    "    plt.xticks(range(1,10))\n",
    "    \n",
    "    ax.set_title(\"First Digit Empirical PMF\", fontsize=20)\n",
    "    ax.set_xlabel(\"First Digit\", fontsize=16)\n",
    "    ax.set_ylabel(\"Density\", fontsize=16)\n",
    "    \n",
    "    \n",
    "dfTax = pd.read_csv(\"tax_data.txt\", delim_whitespace=True)\n",
    "tax_histogram(dfTax)"
   ]
  },
  {
   "cell_type": "markdown",
   "metadata": {},
   "source": [
    "**Solution**: The distribution of first digits in the dataset looks very much like the natural probability mass function and decidedly non-uniform in general.  Thus we conclude that the data is likely **not** fraudulent. "
   ]
  },
  {
   "cell_type": "markdown",
   "metadata": {},
   "source": [
    "### [25 points] Problem 4\n",
    "***\n",
    "\n",
    "You are the team manager for the CU intramural Quidditch team, the Boulder Beaters, and you've just made it to the national championship series against the Stanford Snitching Snitches. The typical Quidditch championship is a best of 11 series, so the first team to win 6 matches is declared the winner.  Furthermore, based on a rigorous statistical analysis of regular season play, the probability that the Boulder Beaters win any one match against the Snitching Snitches is given by $p = 0.55$.  \n",
    "\n",
    "**Part A**: What is the probability that you win the 11-game series on the 8th match played? \n"
   ]
  },
  {
   "cell_type": "markdown",
   "metadata": {},
   "source": [
    "**Solution**: The probability that we will the 11-game series on the 8th game played is equal to the probability that we win 5 of the first 7 games and then win the 8th game.  This is given by \n",
    "\n",
    "\n",
    "$$\n",
    "{7 \\choose 5}p^5(1-p)^2 \\times p \\quad \\approx \\quad 0.1177 \\quad \\textrm{ when } p = 0.55\n",
    "$$\n"
   ]
  },
  {
   "cell_type": "code",
   "execution_count": 13,
   "metadata": {},
   "outputs": [
    {
     "name": "stdout",
     "output_type": "stream",
     "text": [
      "P(Win on 8th Match) = 0.1177\n"
     ]
    }
   ],
   "source": [
    "p, r, K = 0.55, 6, 8\n",
    "prob = binom(K-1, r-1) * (p**r) * ((1-p)**(K-r)) \n",
    "print(\"P(Win on 8th Match) = {:.4f}\".format(prob))"
   ]
  },
  {
   "cell_type": "markdown",
   "metadata": {},
   "source": [
    "**Part B**: What is the probability that you win the 11-game series in any valid number of matches? "
   ]
  },
  {
   "cell_type": "markdown",
   "metadata": {},
   "source": [
    "**Solution**: We proceed as in **Part A**, but this time we sum the probabilities of winning on games $6, 7, \\ldots, 11$\n",
    "\n",
    "$$\n",
    "P(\\textrm{Win}) = \\displaystyle\\sum_{k=6}^{11} {k-1 \\choose 5}p^6(1-p)^{k-6} \\quad \\approx \\quad 0.6331 \\quad \\textrm{ when } p = 0.55\n",
    "$$"
   ]
  },
  {
   "cell_type": "code",
   "execution_count": 14,
   "metadata": {},
   "outputs": [
    {
     "name": "stdout",
     "output_type": "stream",
     "text": [
      "P(Win Series) = 0.6331\n"
     ]
    }
   ],
   "source": [
    "p, r, N = 0.55, 6, 11\n",
    "probs = np.array([binom(kk-1, r-1) * (p**r) * ((1-p)**(kk-r)) for kk in range(r,N+1)])\n",
    "print(\"P(Win Series) = {:.4f}\".format(np.sum(probs)))"
   ]
  },
  {
   "cell_type": "markdown",
   "metadata": {},
   "source": [
    "**Part C**: The winner of the champsionship will take home \\$10,000 to use for equipment and victory parties in the following season. Because the stakes are so high, you've decided to hire a famous Quidditch consultant, Bludger Bob, to help you prepare for each match. With Bob's help your probability of winning any given match increases to $p = 0.7$.  Bludger Bob charges a fee of \\$100 per game, but as a testament to his confidence in his abilities, only charges you the \\$100 for games that you win and only if you win the series.  So, if you play a 11-game series and win you will take home \\$10,000 less \\$600 for Bludger Bob's fees, for a total payout of \\$9,400.  What is the expected payout for an 11-game series?   "
   ]
  },
  {
   "cell_type": "markdown",
   "metadata": {},
   "source": [
    "**Solution**: We multiply the probability of winning the 11-game series by the actual payout to get the expected payout.  Thus, we have \n",
    "\n",
    "$$\n",
    "E[\\textrm{Payout}] = (10000-600)\\times \\displaystyle\\sum_{k=6}^{11} {k-1 \\choose 5}p^6(1-p)^{k-6} \\quad \\approx \\quad 8664.69 \\quad \\textrm{ when } p = 0.7\n",
    "$$"
   ]
  },
  {
   "cell_type": "code",
   "execution_count": 15,
   "metadata": {},
   "outputs": [
    {
     "name": "stdout",
     "output_type": "stream",
     "text": [
      "E[Payout] = 8664.69\n"
     ]
    }
   ],
   "source": [
    "p, N, fee = 0.7, 11, 100\n",
    "r = (N+1) // 2 \n",
    "Expected_Payout = np.sum([(10000-fee*r)*binom(kk-1, r-1) * (p**r) * ((1-p)**(kk-r)) for kk in range(r,N+1)]) \n",
    "print(\"E[Payout] = {:.2f}\".format(Expected_Payout))"
   ]
  },
  {
   "cell_type": "markdown",
   "metadata": {},
   "source": [
    "**Part D**: This year the National Intramural Quidditch Association (NIQA) is implementing an experimental rule.  As the team with the best record in the regular season you will get to choose the length of the championship series.  Specifically, you can choose the series length to be anywhere from $N=3, 5, 7, \\ldots, 99$ games long.  Assuming that you plan to use Bludger Bob's services and considering the fact that you have a better than even chance of winning each game, explain the trade-offs between choosing a short series vs. a long series in terms of Expected Payout. \n"
   ]
  },
  {
   "cell_type": "markdown",
   "metadata": {},
   "source": [
    "***\n",
    "**Solution**: \n",
    "\n",
    "- Because the Beaters are the favorite, they should prefer a longer series because they will win more games in the long-run. \n",
    "- Because they have to pay Bludger Bob for every win, they should prefer a shorter series to keep more of that sweet sweet prize money. \n",
    "\n",
    "***"
   ]
  },
  {
   "cell_type": "markdown",
   "metadata": {},
   "source": [
    "**Part E**: Write a function optimal_series that takes in $p$, the probability that your team wins an individual game, then computes the Expected Payout for each series of length $N=3, 5, 7, \\ldots 99$ and returns the optimal series length.  In addition to returning the optimal series length, your function should also produce a plot of Expected Payout vs Series Length. You may write any additional helper functions that you like, but you should not change the API for the function optimal_series. "
   ]
  },
  {
   "cell_type": "markdown",
   "metadata": {},
   "source": [
    "**Solution**: We generalize the computation done in **Part D** to longer series.  For each series length $3, 5, 7, \\dots, 99$ we multiply the actual payout by the probability that we win the $N$-game series.  It is important to notice that the actual payout changes for longer series since we have to win more games and thus pay Bludger Bob a larger fee. "
   ]
  },
  {
   "cell_type": "code",
   "execution_count": 16,
   "metadata": {},
   "outputs": [
    {
     "name": "stdout",
     "output_type": "stream",
     "text": [
      "Optimal Series is best-of-15 with Expected Payout of 8739.88\n"
     ]
    },
    {
     "data": {
      "image/png": "[encoded data removed]",
      "text/plain": [
       "<matplotlib.figure.Figure at 0x10dc16860>"
      ]
     },
     "metadata": {},
     "output_type": "display_data"
    }
   ],
   "source": [
    "def N_Series_Payout(N, p, fee):\n",
    "    r = (N+1) // 2 \n",
    "    return np.sum([binom(K-1, r-1) * (p**r) * (1-p)**(K-r) * (10000-fee*r) for K in range(r,N+1)])\n",
    "\n",
    "def N_Series_Prob(N, p):\n",
    "    r = (N+1) // 2 \n",
    "    return np.sum([binom(K-1, r-1) * (p**r) * (1-p)**(K-r) for K in range(r,N+1)])\n",
    "\n",
    "def optimal_series(p):\n",
    "\n",
    "    series_lengths = range(3, 99+1, 2)\n",
    "    Expected_Payouts = np.array([N_Series_Payout(N, p, fee) for N in series_lengths])\n",
    "\n",
    "    fig, ax = plt.subplots(nrows=1, ncols=1, figsize=(12,6))\n",
    "\n",
    "    ax.plot(series_lengths, Expected_Payouts, marker=\"o\", color=\"steelblue\")\n",
    "    ax.grid(True, alpha=0.25)\n",
    "    ax.set_axisbelow(True)\n",
    "\n",
    "    ax.set_xlabel(\"Series Length\", fontsize=16)\n",
    "    ax.set_ylabel(\"Expected Payout\", fontsize=16)\n",
    "    ax.set_title(\"Expected Payout vs Series Length\", fontsize=20)\n",
    "    \n",
    "    ax.set_ylim([np.min(Expected_Payouts)-500, np.max(Expected_Payouts)+500])\n",
    "\n",
    "    best_ind = np.argmax(Expected_Payouts)\n",
    "    print(\"Optimal Series is best-of-{} with Expected Payout of {:.2f}\".format(2*best_ind+3, Expected_Payouts[best_ind] ))\n",
    "    \n",
    "    ax.plot([2*best_ind+3, 2*best_ind+3], [0,10000], color=\"steelblue\", alpha=0.5, linestyle=\"--\")\n",
    "    \n",
    "    plt.xticks([0,13,20,40,60,80,100])\n",
    "    \n",
    "    return 2*best_ind+3 \n",
    "    \n",
    "optimal_series(0.70);"
   ]
  },
  {
   "cell_type": "markdown",
   "metadata": {},
   "source": [
    "### [25 points] Problem 5\n",
    "***\n",
    "\n",
    "The card game \"War\" is fun for small children. The basic rules are [here](https://www.bicyclecards.com/how-to-play/war/), but see the list below. Assume that the value of each card in the deck, in decreasing order, is A K Q J 10 9 8 7 6 5 4 3 2. For example, Q is of higher value than J. \n",
    "\n",
    "Create a simulation of the game War. Your simulation must:\n",
    "\n",
    "- initialize a single deck of 52 standard cards, shuffled.\n",
    "- deal half of those cards to each player.\n",
    "- simulate the game of War between two players until one player has all 52 cards, while recording the number of rounds that have passed.\n",
    "- for counting purposes, a round ends when the winner places cards on the bottom of their stack. \n",
    "- if a player runs out of cards mid-War, that player loses. \n",
    "- when cards are collected to be placed at the bottom of a deck, they are scraped from the table in a way that randomly shuffles them.  "
   ]
  },
  {
   "cell_type": "markdown",
   "metadata": {
    "collapsed": true
   },
   "source": [
    "**Part A**: For any fixed order of the cards, the game is completely non-random. This means that shuffling the deck randomly makes the duration of the game a random variable. Use your simulation to compute the expected value of the duration of a game of war. "
   ]
  },
  {
   "cell_type": "code",
   "execution_count": 17,
   "metadata": {},
   "outputs": [
    {
     "name": "stdout",
     "output_type": "stream",
     "text": [
      "The expected length of this basic game is: 440.3\n"
     ]
    }
   ],
   "source": [
    "from random import shuffle\n",
    "from random import randint as coinflip\n",
    "def deal():\n",
    "    deck = [1,2,3,4,5,6,7,8,9,10,11,12,13]*4\n",
    "    # I used a smaller deck to test behavior.\n",
    "    #     deck = [1,2,2,3,3]*2 \n",
    "    shuffle(deck)\n",
    "    n = int(len(deck)/2)\n",
    "    return deck[:n],deck[n:]\n",
    "\n",
    "def collect(cards,deck):\n",
    "    shuffle(cards)\n",
    "    for card in cards:\n",
    "        deck.append(card)\n",
    "    return deck\n",
    "\n",
    "def war(p1,p2,booty,isVerbose=False):\n",
    "    if len(p1)<2:\n",
    "        if isVerbose:\n",
    "            print(\"P1 out of cards!\",p1)\n",
    "        p1 = []\n",
    "        return p1,p2\n",
    "    if len(p2)<2:\n",
    "        if isVerbose:\n",
    "            print(\"P2 out of cards!\",p2)\n",
    "        p2 = []\n",
    "        return p1,p2\n",
    "    w1 = p1[:2]\n",
    "    w2 = p2[:2]\n",
    "    del p1[:2]\n",
    "    del p2[:2]\n",
    "    if isVerbose:\n",
    "        print(w1,\"vs\",w2)\n",
    "    if w1[1]>w2[1]:\n",
    "        if isVerbose:\n",
    "            print('P1 Wins War')\n",
    "        p1 = collect(booty + w1 + w2, p1)\n",
    "    elif w2[1]>w1[1]:\n",
    "        if isVerbose:\n",
    "            print('P2 Wins War')\n",
    "        p2 = collect(booty + w1 + w2, p2)\n",
    "    else:\n",
    "        if isVerbose:\n",
    "            print('Meta-War')\n",
    "        p1,p2 = war(p1,p2,booty + w1 + w2)\n",
    "    return p1,p2\n",
    "    \n",
    "def playround(p1,p2,isVerbose=False):\n",
    "    c1 = p1[0]\n",
    "    del p1[0]\n",
    "    c2 = p2[0]\n",
    "    del p2[0]\n",
    "    if isVerbose:\n",
    "        print(c1,c2)\n",
    "    if c1>c2:\n",
    "        if isVerbose:\n",
    "            print('P1 Wins Round')\n",
    "        p1 = collect([c1,c2],p1)\n",
    "    elif c2>c1:\n",
    "        if isVerbose:\n",
    "            print('P2 Wins Round')\n",
    "        p2 = collect([c1,c2],p2)        \n",
    "    else:\n",
    "        if isVerbose:\n",
    "            print('War!')\n",
    "        p1,p2 = war(p1,p2,[c1, c2],isVerbose=isVerbose)\n",
    "    return p1,p2\n",
    "    \n",
    "def playgame():\n",
    "    p1,p2 = deal()\n",
    "    rnd = 0\n",
    "    while True:\n",
    "        rnd +=1\n",
    "        p1,p2 = playround(p1,p2,isVerbose=False)\n",
    "        if len(p1)==0 or len(p2)==0:\n",
    "            return rnd\n",
    "meanlength = np.array([playgame() for ii in range(10000)]).mean()\n",
    "print(\"The expected length of this basic game is: {:.1f}\".format(meanlength))"
   ]
  },
  {
   "cell_type": "markdown",
   "metadata": {
    "collapsed": true
   },
   "source": [
    "**Part B**: What happens to the expected duration if the K, Q, and J cards are all now assumed to have _equal_ rank?"
   ]
  },
  {
   "cell_type": "code",
   "execution_count": 18,
   "metadata": {},
   "outputs": [
    {
     "name": "stdout",
     "output_type": "stream",
     "text": [
      "The expected length of this equalKQJ game is: 319.8\n"
     ]
    }
   ],
   "source": [
    "def deal_equal():\n",
    "    deck = [1,2,3,4,5,6,7,8,9,10,10,10,13]*4\n",
    "    shuffle(deck)\n",
    "    n = int(len(deck)/2)\n",
    "    return deck[:n],deck[n:]\n",
    "\n",
    "def playgame_equal():\n",
    "    p1,p2 = deal_equal()\n",
    "    rnd = 0\n",
    "    while True:\n",
    "        rnd +=1\n",
    "        p1,p2 = playround(p1,p2,isVerbose=False)\n",
    "        if len(p1)==0 or len(p2)==0:\n",
    "            return rnd\n",
    "meanlength_equal = np.array([playgame_equal() for ii in range(10000)]).mean()\n",
    "print(\"The expected length of this equalKQJ game is: {:.1f}\".format(meanlength_equal))"
   ]
  },
  {
   "cell_type": "markdown",
   "metadata": {},
   "source": [
    "**Part C**: Suppose that before the game starts, Player 1 gives all of their 2s and 3s to Player 2, and Player 2 gives all their As and Ks to Player 1. Does this tend to make the game longer or shorter?"
   ]
  },
  {
   "cell_type": "code",
   "execution_count": 19,
   "metadata": {},
   "outputs": [
    {
     "name": "stdout",
     "output_type": "stream",
     "text": [
      "The mean length of this sort of pre-traded game is: 138.2\n",
      "The mean length of a pre-traded KQJ-equal game is: 158.6\n"
     ]
    }
   ],
   "source": [
    "def deal_trade():\n",
    "    deck = [1,2,3,4,5,6,7,8,9,10,11,12,13]*4\n",
    "    shuffle(deck)\n",
    "    n = int(len(deck)/2)\n",
    "    p1 = deck[:n]\n",
    "    p2 = deck[n:]\n",
    "    for idx,card in enumerate(p1):\n",
    "        if card==1 or card==2:\n",
    "            p2.append(card)\n",
    "    p1 =  list(filter(lambda a: a != 1, p1))\n",
    "    p1 =  list(filter(lambda a: a != 2, p1))\n",
    "    for idx,card in enumerate(p2):\n",
    "        if card==12 or card==13:\n",
    "            p1.append(card)\n",
    "    p2 =  list(filter(lambda a: a != 12, p2))\n",
    "    p2 =  list(filter(lambda a: a != 13, p2))\n",
    "    return p1,p2\n",
    "\n",
    "def deal_trade_equal():\n",
    "    deck = [1,2,3,4,5,6,7,8,9,10,11,12,13]*4\n",
    "    shuffle(deck)\n",
    "    n = int(len(deck)/2)\n",
    "    p1 = deck[:n]\n",
    "    p2 = deck[n:]\n",
    "    for idx,card in enumerate(p1):\n",
    "        if card==1 or card==2:\n",
    "            p2.append(card)\n",
    "    p1 =  list(filter(lambda a: a != 1, p1))\n",
    "    p1 =  list(filter(lambda a: a != 2, p1))\n",
    "    for idx,card in enumerate(p2):\n",
    "        if card==12 or card==13:\n",
    "            p1.append(card)\n",
    "    p2 =  list(filter(lambda a: a != 12, p2))\n",
    "    p2 =  list(filter(lambda a: a != 13, p2))\n",
    "    for idx,card in enumerate(p1):\n",
    "        if card==11 or card==12:\n",
    "            p1[idx] = 10\n",
    "    for idx,card in enumerate(p2):\n",
    "        if card==11 or card==12:\n",
    "            p2[idx] = 10\n",
    "    return p1,p2\n",
    "\n",
    "def playgame_trade():\n",
    "    p1,p2 = deal_trade()\n",
    "    rnd = 0\n",
    "    while True:\n",
    "        rnd +=1\n",
    "        p1,p2 = playround(p1,p2,isVerbose=False)\n",
    "        if len(p1)==0 or len(p2)==0:\n",
    "            return rnd\n",
    "def playgame_trade_equal():\n",
    "    p1,p2 = deal_trade_equal()\n",
    "    rnd = 0\n",
    "    while True:\n",
    "        rnd +=1\n",
    "        p1,p2 = playround(p1,p2,isVerbose=False)\n",
    "        if len(p1)==0 or len(p2)==0:\n",
    "            return rnd\n",
    "        \n",
    "meanlength_trade = np.array([playgame_trade() for ii in range(10000)]).mean()\n",
    "meanlength_trade_equal = np.array([playgame_trade_equal() for ii in range(10000)]).mean()\n",
    "print(\"The mean length of this sort of pre-traded game is: {:.1f}\".format(meanlength_trade))\n",
    "print(\"The mean length of a pre-traded KQJ-equal game is: {:.1f}\".format(meanlength_trade_equal))"
   ]
  },
  {
   "cell_type": "code",
   "execution_count": null,
   "metadata": {},
   "outputs": [],
   "source": []
  }
 ],
 "metadata": {
  "kernelspec": {
   "display_name": "Python 3",
   "language": "python",
   "name": "python3"
  },
  "language_info": {
   "codemirror_mode": {
    "name": "ipython",
    "version": 3
   },
   "file_extension": ".py",
   "mimetype": "text/x-python",
   "name": "python",
   "nbconvert_exporter": "python",
   "pygments_lexer": "ipython3",
   "version": "3.6.2"
  }
 },
 "nbformat": 4,
 "nbformat_minor": 2
}
