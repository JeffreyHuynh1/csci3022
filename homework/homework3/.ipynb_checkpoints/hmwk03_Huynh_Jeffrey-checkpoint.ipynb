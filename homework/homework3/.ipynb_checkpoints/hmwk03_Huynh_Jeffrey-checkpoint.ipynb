{
 "cells": [
  {
   "cell_type": "markdown",
   "metadata": {},
   "source": [
    "# Homework 3: Random Variables and Their Distributions\n",
    "***\n",
    "\n",
    "**Name**: Jeffrey Huynh\n",
    "\n",
    "***\n",
    "\n",
    "This assignment is due on Moodle by **5pm on Friday March 2nd**. Your solutions to theoretical questions should be done in Markdown/MathJax directly below the associated question.  Your solutions to computational questions should include any specified Python code and results as well as written commentary on your conclusions.  Remember that you are encouraged to discuss the problems with your instructors and classmates, but **you must write all code and solutions on your own**.  For a refresher on the course **Collaboration Policy** click [here](https://github.com/dblarremore/csci3022/blob/master/resources/syllabus.md#collaboration-policy).  \n",
    "\n",
    "**NOTES**: \n",
    "\n",
    "- Do **NOT** load or use any Python packages that are not available in Anaconda 3.6. \n",
    "- Some problems with code may be autograded.  If we provide a function API **do not** change it.  If we do not provide a function API then you're free to structure your code however you like. \n",
    "- Because you can technically evaluate notebook cells is a non-linear order, it's a good idea to do Cell $\\rightarrow$ Run All as a check before submitting your solutions.  That way if we need to run your code you will know that it will work as expected. \n",
    "- Submit only this Jupyter notebook to Moodle.  Do not compress it using tar, rar, zip, etc. \n",
    "\n",
    "### Work only 4 of the 5 problems below! Your choice."
   ]
  },
  {
   "cell_type": "code",
   "execution_count": 306,
   "metadata": {
    "collapsed": true,
    "scrolled": true
   },
   "outputs": [],
   "source": [
    "import pandas as pd\n",
    "import numpy as np\n",
    "import math\n",
    "import matplotlib.pylab as plt\n",
    "from scipy.special import binom\n",
    "%matplotlib inline"
   ]
  },
  {
   "cell_type": "markdown",
   "metadata": {},
   "source": [
    "### [25 points] Problem 1\n",
    "***\n",
    "\n",
    "Let $X$ be the lifespan (in years) of a BF Otterich Rugged Trail T/A tire under normal driving conditions, and suppose $X$ is described by the following probability density function: \n",
    "\n",
    "$$\n",
    "f(x) = \\left\\{ \n",
    "\\begin{array}{ll}\n",
    "\\dfrac{15}{c x^3} & 1 \\leq x \\leq 15 \\\\\n",
    "0 & \\textrm{otherwise}\n",
    "\\end{array}\n",
    "\\right.\n",
    "$$\n",
    "\n",
    "**Part A**: Determine the value of $c$ such that $f(x)$ is a valid PDF. "
   ]
  },
  {
   "cell_type": "markdown",
   "metadata": {
    "collapsed": true
   },
   "source": [
    "$$\n",
    "\\frac{15}{c}\\int x^{-3} = \\frac{15}{c}*\\frac{-1}{2x^{2}}= \\frac{15}{c}[\\frac{-1}{2(15)^2} + \\frac{1}{2(1)^2}]= \\frac{15}{c}[\\frac{-1}{450} + \\frac{225}{450}]= \\frac{15}{c}[\\frac{224}{450}]=\\frac{3360}{450c}=1 \\\\\\\n",
    "c=\\frac{3360}{450}\n",
    "$$"
   ]
  },
  {
   "cell_type": "markdown",
   "metadata": {},
   "source": [
    "**Part B**: Compute the cumulative distribution function $F(y)$ for $X$. "
   ]
  },
  {
   "cell_type": "markdown",
   "metadata": {},
   "source": [
    "$$\n",
    "\\int_{1}^{15}\\frac{15}{x^{-3}} * \\frac{450}{3360} = 15*\\frac{450}{3360}[\\frac{-1}{2x^2}] from 1 to 15\n",
    "$$"
   ]
  },
  {
   "cell_type": "markdown",
   "metadata": {},
   "source": [
    "**Part C**: Use the cdf you computed in **Part B** to find the probability that a single tire goes longer than 5 years without failing. "
   ]
  },
  {
   "cell_type": "markdown",
   "metadata": {
    "collapsed": true
   },
   "source": [
    "$$\n",
    "\\int_{5}^{15} \\frac{15}{x^3} * \\frac{450}{3360}= \\frac{15*450}{3360}[\\frac{-1}{2(15)^2} + \\frac{1}{2(5)^2}]=\\frac{15*450}{3360}[\\frac{-1}{450} + \\frac{1}{50}]=\\frac{120}{3360}\\approx 3.6\\%\n",
    "$$"
   ]
  },
  {
   "cell_type": "markdown",
   "metadata": {},
   "source": [
    "**Part D**: Use the cdf you computed in **Part B** to determine the number of years within which $62.5\\%$ of all tires will need to be replaced. In other words, determine the 62.5th percentile of the distribution of $X$. "
   ]
  },
  {
   "cell_type": "markdown",
   "metadata": {
    "collapsed": true
   },
   "source": [
    "$$\n",
    "\\frac{225}{112}[\\frac{-1}{2x^2} + \\frac{1}{2}]=\\frac{5}{8}\\\\\\\n",
    "\\frac{-225}{224x^2} + \\frac{225}{224}=\\frac{5}{8}\\\\\\\n",
    "\\frac{-225}{224}=\\frac{-85}{224}x^2\\\\\\\n",
    "\\frac{45}{17}=x^2\\\\\\\n",
    "x=1.626\n",
    "$$"
   ]
  },
  {
   "cell_type": "markdown",
   "metadata": {},
   "source": [
    "**Part E**: What is the probability that all four BF Otterich Rugged Trail T/A tires on a vehicle last longer than 5 years without failing? "
   ]
  },
  {
   "cell_type": "markdown",
   "metadata": {
    "collapsed": true
   },
   "source": [
    "$$\n",
    "\\frac{120}{3360}= \\frac{1}{28} \\\\\\\n",
    "(\\frac{1}{28})^4 = \\frac{1}{614,656}=.00000162\n",
    "$$"
   ]
  },
  {
   "cell_type": "markdown",
   "metadata": {},
   "source": [
    "### [25 points] Problem 2\n",
    "***\n",
    "\n",
    "You are a data-driven transportation engineer investigating the effect that a particular [vertical lift bridge](https://en.wikipedia.org/wiki/Vertical-lift_bridge) has on city traffic.  Every time a boat passes under the bridge, cars must stop while the bridge is raised to accommodate the height of the boat.  As both boat and car traffic increases, city planners are considering building a new taller bridge that will never impede the flow of traffic. As part of a larger simulation of traffic congestion, you need to decide how to model the arrival of boats at the bridge.  From your Intro to Data Science class you remember that the time _between_ independent arrivals are usually modeled by an Exponential distribution.  Finally, you have access to a report that says on average 10 boats cross under the bridge per day.\n",
    "\n",
    "Answer the following questions about this scenario. **Note** that for **Parts B-D** you should clearly express the computation you're doing with math, but feel free to do any fancy function evaluations with Python. \n",
    "\n",
    "**Part A**:  Assuming the between-boat times do in-fact follow $Exp(10)$, what distribution would you expect the **number** of boats that cross under the bridge on a given day to follow?  What are the parameter(s) of the distribution? "
   ]
  },
  {
   "cell_type": "markdown",
   "metadata": {},
   "source": [
    "The distribution that would expect the number of boats that cross under the bridge on a given day would be the poisson distribution. The parameter of this disribution is $\\lambda$ and, which in this case it is 10."
   ]
  },
  {
   "cell_type": "markdown",
   "metadata": {},
   "source": [
    "**Part B**:  What is the probability that 13 boats cross under the bridge on a particular day?"
   ]
  },
  {
   "cell_type": "markdown",
   "metadata": {},
   "source": [
    "$$\n",
    "\\frac{10^{13}}{13!}*e^{-10}= .072907\n",
    "$$"
   ]
  },
  {
   "cell_type": "markdown",
   "metadata": {},
   "source": [
    "**Part C**:  What is the probability that 8 boats or fewer cross under the bridge on a particular day?"
   ]
  },
  {
   "cell_type": "markdown",
   "metadata": {},
   "source": [
    "$$\n",
    "\\frac{10^1}{1!}*e^{-10}+ \\frac{10^2}{2!}*e^{-10} + ... +\\frac{10^8}{8!}*e^{-10}\\approx.33777\n",
    "$$\n",
    "The probability that 8 boats or fewer cross under the bridge on a particular day is 33.7%"
   ]
  },
  {
   "cell_type": "markdown",
   "metadata": {},
   "source": [
    "**Part D**: What is the probability that between 2 and 4 hours pass between two boat crossings? "
   ]
  },
  {
   "cell_type": "markdown",
   "metadata": {},
   "source": [
    "$$\n",
    "1-e^{-\\frac{10}{24}*4} -(1-e^{-\\frac{10}{24}*2})=1-e^{-1.666}-(1-e^{-.833})\\approx.2457\n",
    "$$"
   ]
  },
  {
   "cell_type": "markdown",
   "metadata": {},
   "source": [
    "**Part F**: Write a function boat_count that takes as its sole argument the rate parameter $\\lambda$ with units boats per day. Your function should simulate boat arrivals at the bridge by sampling between-boat times from $Exp(\\lambda)$ via Numpy's [random.exponential](https://docs.scipy.org/doc/numpy-1.13.0/reference/generated/numpy.random.exponential.html) function and return the number of boats that pass under the bridge on a single simulated day. \n",
    "\n",
    "**Note**: Do not change the API for this function. In other words, please keep the name of the function, its input parameter, and its desired output the same. Of course, the inner workings of this function and the actual value that it returns are in your hands!"
   ]
  },
  {
   "cell_type": "code",
   "execution_count": 321,
   "metadata": {},
   "outputs": [
    {
     "data": {
      "text/plain": [
       "9"
      ]
     },
     "execution_count": 321,
     "metadata": {},
     "output_type": "execute_result"
    }
   ],
   "source": [
    "def boat_count(lam):\n",
    "    lam /= 24\n",
    "    time=0\n",
    "    boat_c=0\n",
    "    while time<=24:\n",
    "        time+= np.random.exponential(1/lam)\n",
    "        if time <=24:\n",
    "            boat_c+=1\n",
    "    return boat_c\n",
    "boat_count(10)"
   ]
  },
  {
   "cell_type": "markdown",
   "metadata": {},
   "source": [
    "**Part G**: Write a function boat_count_sim that takes as arguments the rate parameter $\\lambda$ with units boats per day and an integer number of days to simulate. Your function should use the function you wrote in **Part F** to simulate many independent days of boat crossings and estimate the probability that 8 boats or fewer cross under the bridge on a particular day. For $\\lambda = 10$, does your estimate agree with the by-hand computation you did in **Part C**?  \n",
    "\n",
    "**Note**: Do not change the API for this function. "
   ]
  },
  {
   "cell_type": "code",
   "execution_count": 323,
   "metadata": {},
   "outputs": [
    {
     "data": {
      "text/plain": [
       "0.347"
      ]
     },
     "execution_count": 323,
     "metadata": {},
     "output_type": "execute_result"
    }
   ],
   "source": [
    "def boat_count_sim(lam, num_days=int(1e3)):\n",
    "    success=0\n",
    "    count=0\n",
    "    for i in range(num_days):\n",
    "        if boat_count(lam)<=8 :\n",
    "            count+=1\n",
    "    return(count/num_days)\n",
    "boat_count_sim(10)"
   ]
  },
  {
   "cell_type": "markdown",
   "metadata": {},
   "source": [
    "The estimate had a probability of 34.7% and my hand calculated probability from c was 33.7%. These two probabilities are very similar(difference of 1%), which means that my calculations were correct."
   ]
  },
  {
   "cell_type": "markdown",
   "metadata": {},
   "source": [
    "**Part H**: Write a function boat_time_sim that takes as arguments the rate parameter $\\lambda$ with units boats per day and an integer number of boat arrivals to simulate. Your function should sample boat arrivals via [np.random.exponential](https://docs.scipy.org/doc/numpy-1.13.0/reference/generated/numpy.random.exponential.html) and estimate the probability that boats arrive between 2 and 4 hours apart.  For $\\lambda = 10$, does your estimate agree with the by-hand computation you did in **Part D**?  \n",
    "\n",
    "**Note**: Do not change the API for this function.  "
   ]
  },
  {
   "cell_type": "code",
   "execution_count": 344,
   "metadata": {},
   "outputs": [
    {
     "data": {
      "text/plain": [
       "0.226"
      ]
     },
     "execution_count": 344,
     "metadata": {},
     "output_type": "execute_result"
    }
   ],
   "source": [
    "def boat_time_sim(lam, num_boats=int(1e3)): \n",
    "    bperhour=lam/24\n",
    "    count=0\n",
    "    for i in range(num_boats):\n",
    "        b=np.random.exponential(1/bperhour)\n",
    "        if b <=2 and b>=1:\n",
    "            count+=1\n",
    "    return(count/num_boats)\n",
    "boat_time_sim(10)"
   ]
  },
  {
   "cell_type": "markdown",
   "metadata": {},
   "source": [
    "The estimate had a probability of 22.6% and my hand calculated probability from d was 24.57%. These two probabilities are very similar(difference of 1.97%), which means that my calculations were correct."
   ]
  },
  {
   "cell_type": "markdown",
   "metadata": {},
   "source": [
    "### [25 points] Problem 3 \n",
    "***\n",
    "\n",
    "Let $X =$ the leading digit of a randomly selected number from a large accounting\n",
    "ledger. For example, if we randomly draw the number \\$20,695, then $X = 2.$\n",
    "People who make up numbers to commit accounting fraud tend to give $X$ a\n",
    "(discrete) uniform distribution, i.e., $P(X = x) = \\frac{1}{9}$, for $x \\in \\{1, ..., 9\\}$. However,\n",
    "there is empirical evidence that suggests that _naturally occurring_ numbers (e.g.,\n",
    "numbers in a non-fraudulent accounting ledgers) have leading digits that do not\n",
    "follow a uniform distribution. Instead, they follow a distribution defined by the following probability mass function:\n",
    "\n",
    "$$\n",
    "f(x) = \\log_{10}\\left( \\frac{x+1}{x} \\right) \\quad \\textrm{for } x = 1, 2, \\ldots, 9\n",
    "$$"
   ]
  },
  {
   "cell_type": "markdown",
   "metadata": {},
   "source": [
    "**Part A**: Write a function pmf_natural that implements $f(x)$. Your function should take in an integer $x$ and return $f(x) = P(X = x)$.  Use your function to argue that $f(x)$ is a well-defined probability mass function. "
   ]
  },
  {
   "cell_type": "code",
   "execution_count": null,
   "metadata": {
    "collapsed": true
   },
   "outputs": [],
   "source": [
    "def pmf_natural(x):\n",
    "    return 1.0 "
   ]
  },
  {
   "cell_type": "markdown",
   "metadata": {},
   "source": [
    "**Part B**: Use the function you wrote above to make stacked bar plots describing the pmf of the naturally occurring numbers as well as the discrete uniform distribution.  Make sure that the $x$- and $y$-limits on your plots are the same so that the two distributions are easy to compare. "
   ]
  },
  {
   "cell_type": "code",
   "execution_count": null,
   "metadata": {
    "collapsed": true
   },
   "outputs": [],
   "source": []
  },
  {
   "cell_type": "markdown",
   "metadata": {},
   "source": [
    "**Part C**: Write a function cdf_natural that implements the cumulative distribution function $F(y)$ for $X$ and use it to compute the probability that the leading digit in a number is at most 4 and at most 5. "
   ]
  },
  {
   "cell_type": "code",
   "execution_count": null,
   "metadata": {
    "collapsed": true
   },
   "outputs": [],
   "source": [
    "def cdf_natural(y):\n",
    "    return 1.0  "
   ]
  },
  {
   "cell_type": "markdown",
   "metadata": {},
   "source": [
    "**Part D**: The data in tax_data.txt contains the taxable income for individuals in 1978. Use Pandas and the information from **Parts A-D** to determine whether or not the dataset is likely fraudulent.  In addition to code and any graphical summaries, make sure to clearly justify your conclusion in words. "
   ]
  },
  {
   "cell_type": "code",
   "execution_count": null,
   "metadata": {
    "collapsed": true
   },
   "outputs": [],
   "source": []
  },
  {
   "cell_type": "markdown",
   "metadata": {},
   "source": [
    "### [25 points] Problem 4\n",
    "***\n",
    "\n",
    "You are the team manager for the CU intramural Quidditch team, the Boulder Beaters, and you've just made it to the national championship series against the Stanford Snitching Snitches. The typical Quidditch championship is a best of 11 series, so the first team to win 6 matches is declared the winner.  Furthermore, based on a rigorous statistical analysis of regular season play, the probability that the Boulder Beaters win any one match against the Snitching Snitches is given by $p = 0.55$.  \n",
    "\n",
    "**Part A**: What is the probability that you win the 11-game series on the 8th match played? \n"
   ]
  },
  {
   "cell_type": "markdown",
   "metadata": {},
   "source": [
    "$$\n",
    "P(win on 8th game)={7\\choose5}p^5(1-p)^2p= {7\\choose5}.55^5(1-.55)^2*.55=.11771\n",
    "$$"
   ]
  },
  {
   "cell_type": "markdown",
   "metadata": {},
   "source": [
    "**Part B**: What is the probability that you win the 11-game series in any valid number of matches? "
   ]
  },
  {
   "cell_type": "markdown",
   "metadata": {},
   "source": [
    "$$\n",
    "P(W on 6)={5\\choose5}p^5*p=1(.55)^6=.02768\\\\\\\n",
    "P(W on 7)={6\\choose5}p^5(1-p)p=6(.55)^6(1-.55)=.07473\\\\\\\n",
    "P(W on 8)={7\\choose5}p^5(1-p)^2p=21(.55)^6(1-.55)^2=.11771\\\\\\\n",
    "P(W on 9)={8\\choose5}p^5(1-p)^3p=56(.55)^6(1-.55)^3=.14125\\\\\\\n",
    "P(W on 10)={9\\choose5}p^5(1-p)^4p=126(.55)^6(1-.55)^4=.14301\\\\\\\n",
    "P(W on 11)={10\\choose5}p^5(1-p)^5p=252(.55)^6(1-.55)^5=.12871\\\\\\\n",
    "P(W series)= P(W on 6) + P(W on 7) + P(W on 8) + P(W on 9) + P(W on 10) + P(W on 11)= .63309\n",
    "$$"
   ]
  },
  {
   "cell_type": "markdown",
   "metadata": {},
   "source": [
    "**Part C**: The winner of the champsionship will take home \\$10,000 to use for equipment and victory parties in the following season. Because the stakes are so high, you've decided to hire a famous Quidditch consultant, Bludger Bob, to help you prepare for each match. With Bob's help your probability of winning any given match increases to $p = 0.7$.  Bludger Bob charges a fee of \\$100 per game, but as a testament to his confidence in his abilities, only charges you the \\$100 for games that you win and only if you win the series.  So, if you play a 11-game series and win you will take home \\$10,000 less \\$600 for Bludger Bob's fees, for a total payout of \\$9,400.  What is the expected payout for an 11-game series?   "
   ]
  },
  {
   "cell_type": "markdown",
   "metadata": {},
   "source": [
    "$$\n",
    "P(W on 6)={5\\choose5}p^5*p=1(.7)^6=.117649\\\\\\\n",
    "P(W on 7)={6\\choose5}p^5(1-p)p=6(.7)^6(1-.7)=.2117682\\\\\\\n",
    "P(W on 8)={7\\choose5}p^5(1-p)^2p=21(.7)^6(1-.7)^2=.22235661\\\\\\\n",
    "P(W on 9)={8\\choose5}p^5(1-p)^3p=56(.7)^6(1-.7)^3=.177885288\\\\\\\n",
    "P(W on 10)={9\\choose5}p^5(1-p)^4p=126(.7)^6(1-.7)^4=.1200725694\\\\\\\n",
    "P(W on 11)={10\\choose5}p^5(1-p)^5p=252(.7)^6(1-.7)^5=.0720435416\\\\\\\n",
    "P(W series)= P(W on 6) + P(W on 7) + P(W on 8) + P(W on 9) + P(W on 10) + P(W on 11)= .921775209\n",
    "$$"
   ]
  },
  {
   "cell_type": "markdown",
   "metadata": {},
   "source": [
    "The expected payout for an 11-game series is 9400*.922=$8666.8"
   ]
  },
  {
   "cell_type": "markdown",
   "metadata": {},
   "source": [
    "**Part D**: This year the National Intramural Quidditch Association (NIQA) is implementing an experimental rule.  As the team with the best record in the regular season you will get to choose the length of the championship series.  Specifically, you can choose the series length to be anywhere from $N=3, 5, 7, \\ldots, 99$ games long.  Assuming that you plan to use Bludger Bob's services and considering the fact that you have a better than even chance of winning each game, explain the trade-offs between choosing a short series vs. a long series in terms of Expected Payout. \n"
   ]
  },
  {
   "cell_type": "markdown",
   "metadata": {},
   "source": [
    "As the length of the series goes to 99, the probaility of winning will be 100%. However, if the series is longer, then that means that you will have to win more games to win the series. As a result of winning more games, you will have to pay more money because Bludger Bob charges $100 for each game won. Since you only win 10,000 for winning the series, there will be a point as the number of games for a series increases that you will have 0 or negative payout. However, if you were to choose a short series, the probability of winning the series will be lower. The only positive to choosing a short series is that the payout is larger. "
   ]
  },
  {
   "cell_type": "markdown",
   "metadata": {},
   "source": [
    "**Part E**: Write a function optimal_series that takes in $p$, the probability that your team wins an individual game, then computes the Expected Payout for each series of length $N=3, 5, 7, \\ldots 99$ and returns the optimal series length.  In addition to returning the optimal series length, your function should also produce a plot of Expected Payout vs Series Length. You may write any additional helper functions that you like, but you should not change the API for the function optimal_series. "
   ]
  },
  {
   "cell_type": "code",
   "execution_count": 242,
   "metadata": {},
   "outputs": [
    {
     "name": "stdout",
     "output_type": "stream",
     "text": [
      "The optimal series length is: 15 The expected payout for the optimal series length is:$ 8739.88463151\n"
     ]
    },
    {
     "data": {
      "image/png": "[encoded data removed]",
      "text/plain": [
       "<matplotlib.figure.Figure at 0x1511e0e400>"
      ]
     },
     "metadata": {},
     "output_type": "display_data"
    }
   ],
   "source": [
    "def p_binom(n, k, p):\n",
    "    return binom(n, k) * (p**k) * (1-p)**(n-k)\n",
    "\n",
    "def p_win_series(series_length, p):\n",
    "    wins_req = series_length//2 + 1 \n",
    "    prob = p*np.sum([p_binom(n,wins_req-1,p) for n in range(wins_req-1,series_length)])\n",
    "    return prob\n",
    "\n",
    "def optimal_series(p):\n",
    "    epay=[]\n",
    "    x=[]\n",
    "    for i in range(3,101,2):\n",
    "        x.append(i)\n",
    "        prob=p_win_series(i,p)\n",
    "        deduction=10000 - ((i//2 + 1)*100)\n",
    "        epay.append(prob*deduction)\n",
    "        \n",
    "    m=0\n",
    "    for i in range(len(epay)):\n",
    "        if m==0:\n",
    "            m=epay[i]\n",
    "        elif epay[i]>m:\n",
    "            m=epay[i]\n",
    "            maxin=x[i]\n",
    "    print(\"The optimal series length is:\",maxin, \"The expected payout for the optimal series length is:$\",m)\n",
    "    plt.plot(x,epay)\n",
    "\n",
    "\n",
    "optimal_series(.7)\n",
    "            "
   ]
  },
  {
   "cell_type": "markdown",
   "metadata": {},
   "source": [
    "### [25 points] Problem 5\n",
    "***\n",
    "\n",
    "The card game \"War\" is fun for small children. The basic rules are [here](https://www.bicyclecards.com/how-to-play/war/), but see the list below. Assume that the value of each card in the deck, in decreasing order, is A K Q J 10 9 8 7 6 5 4 3 2. For example, Q is of higher value than J. \n",
    "\n",
    "Create a simulation of the game War. Your simulation must:\n",
    "\n",
    "- initialize a single deck of 52 standard cards, shuffled.\n",
    "- deal half of those cards to each player.\n",
    "- simulate the game of War between two players until one player has all 52 cards, while recording the number of rounds that have passed.\n",
    "- for counting purposes, a round ends when the winner places cards on the bottom of their stack. \n",
    "- if a player runs out of cards mid-War, that player loses. \n",
    "- when cards are collected to be placed at the bottom of a deck, they are scraped from the table in a way that randomly shuffles them.  "
   ]
  },
  {
   "cell_type": "markdown",
   "metadata": {
    "collapsed": true
   },
   "source": [
    "**Part A**: For any fixed order of the cards, the game is completely non-random. This means that shuffling the deck randomly makes the duration of the game a random variable. Use your simulation to compute the expected value of the duration of a game of war. "
   ]
  },
  {
   "cell_type": "code",
   "execution_count": 345,
   "metadata": {},
   "outputs": [
    {
     "name": "stdout",
     "output_type": "stream",
     "text": [
      "The average number of rounds for 1000 simulations is: 418.265\n"
     ]
    }
   ],
   "source": [
    "def war():\n",
    "    cards=[2,2,2,2,3,3,3,3,4,4,4,4,5,5,5,5,6,6,6,6,7,7,7,7,8,8,8,8,9,9,9,9,10,10,10,10,11,11,11,11,12,12,12,12,\n",
    "          13,13,13,13,14,14,14,14]\n",
    "\n",
    "    np.random.shuffle(cards)\n",
    "    \n",
    "    p1_cards=cards[:26]\n",
    "    p2_cards=cards[26:]\n",
    "    p1_stash=[]\n",
    "    p2_stash=[]\n",
    "\n",
    "    round=0\n",
    "    \n",
    "    while p1_cards and p2_cards:\n",
    "        p1_c=p1_cards.pop()\n",
    "        p2_c=p2_cards.pop()\n",
    "        \n",
    "        while p1_c==p2_c:\n",
    "\n",
    "            p1_stash.append(p1_c)\n",
    "            p2_stash.append(p2_c)\n",
    "            \n",
    "            \n",
    "            \n",
    "            if len(p1_cards)>2 and len(p2_cards)>2:\n",
    "                p1_stash.append(p1_cards.pop())\n",
    "                p1_c=p1_cards.pop()\n",
    "            \n",
    "            \n",
    "                p2_stash.append(p2_cards.pop())\n",
    "                p2_c=p2_cards.pop()\n",
    "                \n",
    "            else:\n",
    "                return round\n",
    "            \n",
    "        if p1_c>p2_c:\n",
    "            p1_stash.extend([p1_c] + [p2_c] + p2_stash)\n",
    "            np.random.shuffle(p1_stash)\n",
    "            p1_cards= p1_stash + p1_cards\n",
    "            \n",
    "            p1_stash=[]\n",
    "            p2_stash=[]\n",
    "            \n",
    "            round +=1\n",
    "            \n",
    "        if p2_c>p1_c:\n",
    "            p2_stash.extend([p1_c] + [p2_c] + p1_stash)\n",
    "            np.random.shuffle(p2_stash)\n",
    "            p2_cards= p2_stash + p2_cards\n",
    "            \n",
    "            p1_stash=[]\n",
    "            p2_stash=[]\n",
    "            \n",
    "            round +=1\n",
    "            \n",
    "        if len(p1_cards)==0 or len(p2_cards)==0:\n",
    "            return round\n",
    "total=0\n",
    "for i in range(1000):\n",
    "    total+=war()\n",
    "print(\"The average number of rounds for 1000 simulations is:\",total/1000)\n",
    "    \n",
    "            \n",
    "            "
   ]
  },
  {
   "cell_type": "markdown",
   "metadata": {
    "collapsed": true
   },
   "source": [
    "**Part B**: What happens to the expected duration if the K, Q, and J cards are all now assumed to have _equal_ rank?"
   ]
  },
  {
   "cell_type": "code",
   "execution_count": 346,
   "metadata": {},
   "outputs": [
    {
     "name": "stdout",
     "output_type": "stream",
     "text": [
      "The average number of rounds for 1000 simulations is: 316.388\n"
     ]
    }
   ],
   "source": [
    "def warb():\n",
    "    cards=[2,2,2,2,3,3,3,3,4,4,4,4,5,5,5,5,6,6,6,6,7,7,7,7,8,8,8,8,9,9,9,9,10,10,10,10,11,11,11,11,11,11,11,11,\n",
    "          11,11,11,11,14,14,14,14]\n",
    "\n",
    "    np.random.shuffle(cards)\n",
    "    \n",
    "    p1_cards=cards[:26]\n",
    "    p2_cards=cards[26:]\n",
    "    p1_stash=[]\n",
    "    p2_stash=[]\n",
    "\n",
    "    round=0\n",
    "    \n",
    "    while p1_cards and p2_cards:\n",
    "        p1_c=p1_cards.pop()\n",
    "        p2_c=p2_cards.pop()\n",
    "        \n",
    "        while p1_c==p2_c:\n",
    "\n",
    "            p1_stash.append(p1_c)\n",
    "            p2_stash.append(p2_c)\n",
    "            \n",
    "         \n",
    "            \n",
    "            if len(p1_cards)>2 and len(p2_cards)>2:\n",
    "                p1_stash.append(p1_cards.pop())\n",
    "                p1_c=p1_cards.pop()\n",
    "            \n",
    "            \n",
    "                p2_stash.append(p2_cards.pop())\n",
    "                p2_c=p2_cards.pop()\n",
    "                \n",
    "            else:\n",
    "                return round\n",
    "            \n",
    "        if p1_c>p2_c:\n",
    "            p1_stash.extend([p1_c] + [p2_c] + p2_stash)\n",
    "            np.random.shuffle(p1_stash)\n",
    "            p1_cards= p1_stash + p1_cards\n",
    "            \n",
    "            p1_stash=[]\n",
    "            p2_stash=[]\n",
    "            \n",
    "            round +=1\n",
    "            \n",
    "        if p2_c>p1_c:\n",
    "            p2_stash.extend([p1_c] + [p2_c] + p1_stash)\n",
    "            np.random.shuffle(p2_stash)\n",
    "            p2_cards= p2_stash + p2_cards\n",
    "            \n",
    "            p1_stash=[]\n",
    "            p2_stash=[]\n",
    "            \n",
    "            round +=1\n",
    "            \n",
    "        if len(p1_cards)==0 or len(p2_cards)==0:\n",
    "            return round\n",
    "total=0\n",
    "for i in range(1000):\n",
    "    total+=warb()\n",
    "print(\"The average number of rounds for 1000 simulations is:\",total/1000)"
   ]
  },
  {
   "cell_type": "markdown",
   "metadata": {},
   "source": [
    "The number of rounds decreases because if all K,Q,J are of equal rank, there will be more chances of a tie. If there are more ties, then the winner of the ties will be gaining more cards more frequently. Thus, this will result in shorter rounds."
   ]
  },
  {
   "cell_type": "markdown",
   "metadata": {},
   "source": [
    "**Part C**: Suppose that before the game starts, Player 1 gives all of their 2s and 3s to Player 2, and Player 2 gives all their As and Ks to Player 1. Does this tend to make the game longer or shorter?"
   ]
  },
  {
   "cell_type": "code",
   "execution_count": 362,
   "metadata": {},
   "outputs": [
    {
     "name": "stdout",
     "output_type": "stream",
     "text": [
      "The average number of rounds for 1000 simulations is: 293.054\n"
     ]
    }
   ],
   "source": [
    "def warc():\n",
    "    cards=[4,4,4,4,5,5,5,5,6,6,6,6,7,7,7,7,8,8,8,8,9,9,9,9,10,10,10,10,11,11,11,11,12,12,12,12,\n",
    "          13,13,13,13,14,14,14,14]\n",
    "\n",
    "    np.random.shuffle(cards)\n",
    "    \n",
    "    p1_cards=[13,13,13,13,14,14,14,14]+cards[:26]\n",
    "    p2_cards=[2,2,2,2,3,3,3,3] + cards[26:]\n",
    "    \n",
    "    np.random.shuffle(p1_cards)\n",
    "    np.random.shuffle(p2_cards)\n",
    "    \n",
    "    p1_stash=[]\n",
    "    p2_stash=[]\n",
    "\n",
    "    round=0\n",
    "    \n",
    "    while p1_cards and p2_cards:\n",
    "        p1_c=p1_cards.pop()\n",
    "        p2_c=p2_cards.pop()\n",
    "        \n",
    "        while p1_c==p2_c:\n",
    "\n",
    "            p1_stash.append(p1_c)\n",
    "            p2_stash.append(p2_c)\n",
    "            \n",
    "            \n",
    "            if len(p1_cards)>2 and len(p2_cards)>2:\n",
    "                p1_stash.append(p1_cards.pop())\n",
    "                p1_c=p1_cards.pop()\n",
    "            \n",
    "            \n",
    "                p2_stash.append(p2_cards.pop())\n",
    "                p2_c=p2_cards.pop()\n",
    "                \n",
    "            else:\n",
    "                return round\n",
    "            \n",
    "        if p1_c>p2_c:\n",
    "            p1_stash.extend([p1_c] + [p2_c] + p2_stash)\n",
    "            np.random.shuffle(p1_stash)\n",
    "            p1_cards= p1_stash + p1_cards\n",
    "            \n",
    "            p1_stash=[]\n",
    "            p2_stash=[]\n",
    "            \n",
    "            round +=1\n",
    "            \n",
    "        if p2_c>p1_c:\n",
    "            p2_stash.extend([p1_c] + [p2_c] + p1_stash)\n",
    "            np.random.shuffle(p2_stash)\n",
    "            p2_cards= p2_stash + p2_cards\n",
    "            \n",
    "            p1_stash=[]\n",
    "            p2_stash=[]\n",
    "            \n",
    "            round +=1\n",
    "            \n",
    "        if len(p1_cards)==0 or len(p2_cards)==0:\n",
    "            return round\n",
    "total=0\n",
    "for i in range(1000):\n",
    "    total+=warc()\n",
    "print(\"The average number of rounds for 1000 simulations is:\",total/1000)"
   ]
  },
  {
   "cell_type": "markdown",
   "metadata": {},
   "source": [
    "The number of rounds decreased from the original number of rounds. This makes sense because if one player is automatically given 8 of the strongest cards in the deck, then there will be a greater chance of that player winning each round. As a result, the number of rounds will be shortened. "
   ]
  },
  {
   "cell_type": "code",
   "execution_count": null,
   "metadata": {
    "collapsed": true
   },
   "outputs": [],
   "source": []
  }
 ],
 "metadata": {
  "kernelspec": {
   "display_name": "Python 3",
   "language": "python",
   "name": "python3"
  },
  "language_info": {
   "codemirror_mode": {
    "name": "ipython",
    "version": 3
   },
   "file_extension": ".py",
   "mimetype": "text/x-python",
   "name": "python",
   "nbconvert_exporter": "python",
   "pygments_lexer": "ipython3",
   "version": "3.6.3"
  }
 },
 "nbformat": 4,
 "nbformat_minor": 2
}
