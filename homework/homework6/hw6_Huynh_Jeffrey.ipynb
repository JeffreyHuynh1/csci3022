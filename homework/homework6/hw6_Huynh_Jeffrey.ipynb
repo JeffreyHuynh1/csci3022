{
 "cells": [
  {
   "cell_type": "markdown",
   "metadata": {},
   "source": [
    "# Homework 6: Hypothesis Testing, P-Hacking, and Simple Linear Regression \n",
    "***\n",
    "\n",
    "**Name**: Jeffrey Huynh\n",
    "\n",
    "***\n",
    "\n",
    "This assignment is due on Moodle by **5pm on Friday April 20th**. Your solutions to theoretical questions should be done in Markdown/MathJax directly below the associated question.  Your solutions to computational questions should include any specified Python code and results as well as written commentary on your conclusions.  Remember that you are encouraged to discuss the problems with your instructors and classmates, but **you must write all code and solutions on your own**.  For a refresher on the course **Collaboration Policy** click [here](https://github.com/dblarremore/csci3022/blob/master/resources/syllabus.md#collaboration-policy).\n",
    "\n",
    "**NOTES**: \n",
    "\n",
    "- Do **NOT** load or use any Python packages that are not available in Anaconda 3.6. \n",
    "- Some problems with code may be autograded.  If we provide a function API **do not** change it.  If we do not provide a function API then you're free to structure your code however you like. \n",
    "- Because you can technically evaluate notebook cells is a non-linear order, it's a good idea to do Cell $\\rightarrow$ Run All as a check before submitting your solutions.  That way if we need to run your code you will know that it will work as expected. \n",
    "- Submit only this Jupyter notebook to Moodle.  Do not compress it using tar, rar, zip, etc. "
   ]
  },
  {
   "cell_type": "code",
   "execution_count": 9,
   "metadata": {
    "collapsed": true,
    "scrolled": true
   },
   "outputs": [],
   "source": [
    "import numpy as np\n",
    "import matplotlib.pylab as plt\n",
    "import pandas as pd\n",
    "from scipy import stats \n",
    "%matplotlib inline"
   ]
  },
  {
   "cell_type": "markdown",
   "metadata": {},
   "source": [
    "### [15 points] Problem 1 - Hypothesis Testing: Find-the-Knowledge-Bug \n",
    "***\n",
    "\n",
    "As part of your job as a seasoned data science consultant, companies often bring you in to supervise their less-experienced data science teams before new product roll-outs.  One one such occasion, you are hired by a medium-sized internet-sales company that is preparing to release a new line of smart-home products.  Prior to their product release the company wants to do a targeted ad campaign to drive traffic to their site on launch day. \n",
    "\n",
    "You are asked to pair-up and do some inference work with a new employee named Stevey McKnowsNoStats. At various points in your day you catch Stevey making the following mistakes.  In each case, clearly explain to Stevey why his testing setup or conclusion is incorrect. "
   ]
  },
  {
   "cell_type": "markdown",
   "metadata": {},
   "source": [
    "**Part A**: Stevey has pulled up some data on the characteristics of customers that visited the company's website over the previous month.  He wants to perform an analysis on the mean age of customers that visit the site.  Let $X$ be the random variable describing the age of a site visitor and suppose that the population mean for $X$ is $\\mu$. In particular, Stevey wants to see if the data suggests that the mean age of their customers is under 30 years old.   He decides to perform the test with a null hypothesis of $H_0: \\bar{x} = 30$. "
   ]
  },
  {
   "cell_type": "markdown",
   "metadata": {
    "collapsed": true
   },
   "source": [
    "Stevey made a mistake when he decided to perform the test with a null hypothesis of $H_0$: $\\bar{x}$ = 30. His null hypothesis should have been $H_0$: $\\mu$ = 30. He should use $\\mu$ instead of $\\bar{x}$ because $\\bar{x}$ represents the sample mean and $\\mu$ represents the true mean."
   ]
  },
  {
   "cell_type": "markdown",
   "metadata": {},
   "source": [
    "**Part B**: After the wonderful explanation you gave him after the previous debacle, Stevey has seen the error in his ways and decides instead to do his hypothesis test with a null hypothesis of $H_0: \\mu < 30$.  "
   ]
  },
  {
   "cell_type": "markdown",
   "metadata": {
    "collapsed": true
   },
   "source": [
    "Stevey having his $H_0$: $\\mu$ < 30 is also incorrect. This is because the null hypothesis that he is trying to test is actually an alternative hypothesis. His null hypothesis should be $H_0$: $\\mu$ = 30."
   ]
  },
  {
   "cell_type": "markdown",
   "metadata": {},
   "source": [
    "**Part C**: Finally on track with reasonable hypotheses of $H_0: \\mu = 30$ and $H_1: \\mu < 30$, Stevey computes a normalized test-statistic of $z = -1.35$ for the mean age and concludes that since $z = -1.35 < 0.05$ there is sufficient statistical evidence at the $\\alpha = 0.05$ significance level that the mean age of their customers is less than 30.  "
   ]
  },
  {
   "cell_type": "markdown",
   "metadata": {
    "collapsed": true
   },
   "source": [
    "Steveys assumptions are incorrect because he is comparing z= -1.35 to his value of $\\alpha$= 0.05. The correct thing to do is to compare his z value to $z_{\\alpha}$."
   ]
  },
  {
   "cell_type": "markdown",
   "metadata": {},
   "source": [
    "**Part D**: This time, with the hypotheses again $H_0: \\mu = 30$ and $H_1: \\mu < 30$, Stevey computes a p-value of $0.03$, and thus concludes that there is only a 3% probability that the null hypothesis is true. "
   ]
  },
  {
   "cell_type": "markdown",
   "metadata": {
    "collapsed": true
   },
   "source": [
    "This is incorrect because the p-value does not conclude the probability that the null hypothesis is true. The p-value is used to decide whether or not to reject the null hypothesis. If the p - value is $\\leq \\alpha$, then reject the null hypothesis. If the p - value is > $\\alpha$, fail to reject the null hypothesis. A p-value, is the probability, under the Null hypothesis, that we would get a test statistic at least as extreme as the one we calculated."
   ]
  },
  {
   "cell_type": "markdown",
   "metadata": {},
   "source": [
    "### [10 points] Problem 2 - Scientists vs. P-Values \n",
    "***\n",
    "\n",
    "Read the following article from **FiveThirtyEight**: [Statisticians Found One Thing They Can Agree On: It's Time to Stop Misusing P-Values](http://fivethirtyeight.com/features/statisticians-found-one-thing-they-can-agree-on-its-time-to-stop-misusing-p-values/). In what ways are scientists misusing p-values?  What suggestions are being made to use them properly? "
   ]
  },
  {
   "cell_type": "markdown",
   "metadata": {},
   "source": [
    "One way that scientists misuse p-values is that they believe that p-values can tell the probability that a result occurred by chance. P-values only tells you something about the probability of seeing your results given a particular hypothetical explanation. Another way that scientists misuse p-values is that they think that p-values measure the probability that the studied hypothesis is true, or that the probability that the data were produced by random chance alone. They also misuse it in the sense that they think that a p-values can tell you the size of an effect, the strength of the evidence or the importance of a resulst. Finally, scientists misue p-values by failing to adjust them for cherry picking, multiple testing, post-data subgroups and other biasing selection effects. Some suggestions to use them properly would be to move toward a greater acceptance of uncertainty and embracing of variation. Another suggestion was to select a definition of p-values that nonstatisticians can understand.\n"
   ]
  },
  {
   "cell_type": "markdown",
   "metadata": {},
   "source": [
    "### [20 points] Problem 3 - Evaluating Pizza Delivery Performance \n",
    "***\n",
    "\n",
    "The manager of a pizza chain with multiple locations likes to keep meticulous data on his pizza deliveries.  The data from more than 1200 deliveries in May 2014 is stored in pizza.csv. "
   ]
  },
  {
   "cell_type": "code",
   "execution_count": 34,
   "metadata": {},
   "outputs": [],
   "source": [
    "np.random.seed(1235)\n",
    "dfP = pd.read_csv(\"data/pizza.csv\")"
   ]
  },
  {
   "cell_type": "code",
   "execution_count": 33,
   "metadata": {},
   "outputs": [
    {
     "data": {
      "text/html": [
       "<div>\n",
       "<style>\n",
       "    .dataframe thead tr:only-child th {\n",
       "        text-align: right;\n",
       "    }\n",
       "\n",
       "    .dataframe thead th {\n",
       "        text-align: left;\n",
       "    }\n",
       "\n",
       "    .dataframe tbody tr th {\n",
       "        vertical-align: top;\n",
       "    }\n",
       "</style>\n",
       "<table border=\"1\" class=\"dataframe\">\n",
       "  <thead>\n",
       "    <tr style=\"text-align: right;\">\n",
       "      <th></th>\n",
       "      <th>day</th>\n",
       "      <th>date</th>\n",
       "      <th>time</th>\n",
       "      <th>operator</th>\n",
       "      <th>branch</th>\n",
       "      <th>driver</th>\n",
       "      <th>temperature</th>\n",
       "      <th>bill</th>\n",
       "      <th>pizzas</th>\n",
       "    </tr>\n",
       "  </thead>\n",
       "  <tbody>\n",
       "    <tr>\n",
       "      <th>0</th>\n",
       "      <td>Thursday</td>\n",
       "      <td>01-May-14</td>\n",
       "      <td>33.708636</td>\n",
       "      <td>Laura</td>\n",
       "      <td>East</td>\n",
       "      <td>Luigi</td>\n",
       "      <td>71.433084</td>\n",
       "      <td>58.4</td>\n",
       "      <td>4</td>\n",
       "    </tr>\n",
       "    <tr>\n",
       "      <th>1</th>\n",
       "      <td>Thursday</td>\n",
       "      <td>01-May-14</td>\n",
       "      <td>29.382070</td>\n",
       "      <td>Melissa</td>\n",
       "      <td>East</td>\n",
       "      <td>Luigi</td>\n",
       "      <td>64.952920</td>\n",
       "      <td>26.4</td>\n",
       "      <td>2</td>\n",
       "    </tr>\n",
       "    <tr>\n",
       "      <th>2</th>\n",
       "      <td>Thursday</td>\n",
       "      <td>01-May-14</td>\n",
       "      <td>33.580664</td>\n",
       "      <td>Melissa</td>\n",
       "      <td>West</td>\n",
       "      <td>Luigi</td>\n",
       "      <td>49.113452</td>\n",
       "      <td>58.1</td>\n",
       "      <td>3</td>\n",
       "    </tr>\n",
       "    <tr>\n",
       "      <th>3</th>\n",
       "      <td>Thursday</td>\n",
       "      <td>01-May-14</td>\n",
       "      <td>32.505369</td>\n",
       "      <td>Melissa</td>\n",
       "      <td>East</td>\n",
       "      <td>Luigi</td>\n",
       "      <td>64.872559</td>\n",
       "      <td>35.2</td>\n",
       "      <td>3</td>\n",
       "    </tr>\n",
       "    <tr>\n",
       "      <th>4</th>\n",
       "      <td>Thursday</td>\n",
       "      <td>01-May-14</td>\n",
       "      <td>25.493613</td>\n",
       "      <td>Melissa</td>\n",
       "      <td>West</td>\n",
       "      <td>Luigi</td>\n",
       "      <td>59.630052</td>\n",
       "      <td>38.4</td>\n",
       "      <td>2</td>\n",
       "    </tr>\n",
       "    <tr>\n",
       "      <th>5</th>\n",
       "      <td>Thursday</td>\n",
       "      <td>01-May-14</td>\n",
       "      <td>21.727466</td>\n",
       "      <td>Melissa</td>\n",
       "      <td>Centre</td>\n",
       "      <td>Luigi</td>\n",
       "      <td>53.715391</td>\n",
       "      <td>61.8</td>\n",
       "      <td>4</td>\n",
       "    </tr>\n",
       "    <tr>\n",
       "      <th>6</th>\n",
       "      <td>Thursday</td>\n",
       "      <td>01-May-14</td>\n",
       "      <td>38.394169</td>\n",
       "      <td>Laura</td>\n",
       "      <td>West</td>\n",
       "      <td>Luigi</td>\n",
       "      <td>60.266862</td>\n",
       "      <td>57.9</td>\n",
       "      <td>3</td>\n",
       "    </tr>\n",
       "    <tr>\n",
       "      <th>7</th>\n",
       "      <td>Thursday</td>\n",
       "      <td>01-May-14</td>\n",
       "      <td>22.186179</td>\n",
       "      <td>Melissa</td>\n",
       "      <td>West</td>\n",
       "      <td>Luigi</td>\n",
       "      <td>61.187654</td>\n",
       "      <td>35.8</td>\n",
       "      <td>2</td>\n",
       "    </tr>\n",
       "    <tr>\n",
       "      <th>8</th>\n",
       "      <td>Thursday</td>\n",
       "      <td>01-May-14</td>\n",
       "      <td>35.324994</td>\n",
       "      <td>Laura</td>\n",
       "      <td>Centre</td>\n",
       "      <td>Luigi</td>\n",
       "      <td>64.204093</td>\n",
       "      <td>36.6</td>\n",
       "      <td>2</td>\n",
       "    </tr>\n",
       "    <tr>\n",
       "      <th>9</th>\n",
       "      <td>Thursday</td>\n",
       "      <td>01-May-14</td>\n",
       "      <td>34.015280</td>\n",
       "      <td>Melissa</td>\n",
       "      <td>Centre</td>\n",
       "      <td>Luigi</td>\n",
       "      <td>67.383452</td>\n",
       "      <td>44.8</td>\n",
       "      <td>5</td>\n",
       "    </tr>\n",
       "    <tr>\n",
       "      <th>10</th>\n",
       "      <td>Thursday</td>\n",
       "      <td>01-May-14</td>\n",
       "      <td>33.792085</td>\n",
       "      <td>Melissa</td>\n",
       "      <td>Centre</td>\n",
       "      <td>Luigi</td>\n",
       "      <td>70.983051</td>\n",
       "      <td>49.5</td>\n",
       "      <td>4</td>\n",
       "    </tr>\n",
       "    <tr>\n",
       "      <th>11</th>\n",
       "      <td>Thursday</td>\n",
       "      <td>01-May-14</td>\n",
       "      <td>29.131207</td>\n",
       "      <td>Laura</td>\n",
       "      <td>East</td>\n",
       "      <td>Luigi</td>\n",
       "      <td>69.949241</td>\n",
       "      <td>49.7</td>\n",
       "      <td>3</td>\n",
       "    </tr>\n",
       "    <tr>\n",
       "      <th>12</th>\n",
       "      <td>Thursday</td>\n",
       "      <td>01-May-14</td>\n",
       "      <td>21.926461</td>\n",
       "      <td>Melissa</td>\n",
       "      <td>West</td>\n",
       "      <td>Luigi</td>\n",
       "      <td>60.798941</td>\n",
       "      <td>41.1</td>\n",
       "      <td>1</td>\n",
       "    </tr>\n",
       "    <tr>\n",
       "      <th>13</th>\n",
       "      <td>Thursday</td>\n",
       "      <td>01-May-14</td>\n",
       "      <td>28.185400</td>\n",
       "      <td>Melissa</td>\n",
       "      <td>Centre</td>\n",
       "      <td>Luigi</td>\n",
       "      <td>72.440348</td>\n",
       "      <td>42.9</td>\n",
       "      <td>1</td>\n",
       "    </tr>\n",
       "    <tr>\n",
       "      <th>14</th>\n",
       "      <td>Thursday</td>\n",
       "      <td>01-May-14</td>\n",
       "      <td>32.603202</td>\n",
       "      <td>Laura</td>\n",
       "      <td>West</td>\n",
       "      <td>Luigi</td>\n",
       "      <td>63.111336</td>\n",
       "      <td>25.9</td>\n",
       "      <td>1</td>\n",
       "    </tr>\n",
       "    <tr>\n",
       "      <th>15</th>\n",
       "      <td>Thursday</td>\n",
       "      <td>01-May-14</td>\n",
       "      <td>32.648734</td>\n",
       "      <td>Melissa</td>\n",
       "      <td>West</td>\n",
       "      <td>Luigi</td>\n",
       "      <td>55.732293</td>\n",
       "      <td>41.5</td>\n",
       "      <td>6</td>\n",
       "    </tr>\n",
       "    <tr>\n",
       "      <th>16</th>\n",
       "      <td>Thursday</td>\n",
       "      <td>01-May-14</td>\n",
       "      <td>37.398504</td>\n",
       "      <td>Melissa</td>\n",
       "      <td>Centre</td>\n",
       "      <td>Luigi</td>\n",
       "      <td>54.507040</td>\n",
       "      <td>34.9</td>\n",
       "      <td>3</td>\n",
       "    </tr>\n",
       "    <tr>\n",
       "      <th>17</th>\n",
       "      <td>Thursday</td>\n",
       "      <td>01-May-14</td>\n",
       "      <td>33.956136</td>\n",
       "      <td>Melissa</td>\n",
       "      <td>East</td>\n",
       "      <td>Luigi</td>\n",
       "      <td>58.103934</td>\n",
       "      <td>42.4</td>\n",
       "      <td>4</td>\n",
       "    </tr>\n",
       "    <tr>\n",
       "      <th>18</th>\n",
       "      <td>Thursday</td>\n",
       "      <td>01-May-14</td>\n",
       "      <td>26.379708</td>\n",
       "      <td>Laura</td>\n",
       "      <td>East</td>\n",
       "      <td>Luigi</td>\n",
       "      <td>56.517764</td>\n",
       "      <td>27.3</td>\n",
       "      <td>1</td>\n",
       "    </tr>\n",
       "    <tr>\n",
       "      <th>19</th>\n",
       "      <td>Thursday</td>\n",
       "      <td>01-May-14</td>\n",
       "      <td>33.193288</td>\n",
       "      <td>Melissa</td>\n",
       "      <td>Centre</td>\n",
       "      <td>Luigi</td>\n",
       "      <td>48.759259</td>\n",
       "      <td>47.7</td>\n",
       "      <td>4</td>\n",
       "    </tr>\n",
       "  </tbody>\n",
       "</table>\n",
       "</div>"
      ],
      "text/plain": [
       "         day       date       time operator  branch driver  temperature  bill  \\\n",
       "0   Thursday  01-May-14  33.708636    Laura    East  Luigi    71.433084  58.4   \n",
       "1   Thursday  01-May-14  29.382070  Melissa    East  Luigi    64.952920  26.4   \n",
       "2   Thursday  01-May-14  33.580664  Melissa    West  Luigi    49.113452  58.1   \n",
       "3   Thursday  01-May-14  32.505369  Melissa    East  Luigi    64.872559  35.2   \n",
       "4   Thursday  01-May-14  25.493613  Melissa    West  Luigi    59.630052  38.4   \n",
       "5   Thursday  01-May-14  21.727466  Melissa  Centre  Luigi    53.715391  61.8   \n",
       "6   Thursday  01-May-14  38.394169    Laura    West  Luigi    60.266862  57.9   \n",
       "7   Thursday  01-May-14  22.186179  Melissa    West  Luigi    61.187654  35.8   \n",
       "8   Thursday  01-May-14  35.324994    Laura  Centre  Luigi    64.204093  36.6   \n",
       "9   Thursday  01-May-14  34.015280  Melissa  Centre  Luigi    67.383452  44.8   \n",
       "10  Thursday  01-May-14  33.792085  Melissa  Centre  Luigi    70.983051  49.5   \n",
       "11  Thursday  01-May-14  29.131207    Laura    East  Luigi    69.949241  49.7   \n",
       "12  Thursday  01-May-14  21.926461  Melissa    West  Luigi    60.798941  41.1   \n",
       "13  Thursday  01-May-14  28.185400  Melissa  Centre  Luigi    72.440348  42.9   \n",
       "14  Thursday  01-May-14  32.603202    Laura    West  Luigi    63.111336  25.9   \n",
       "15  Thursday  01-May-14  32.648734  Melissa    West  Luigi    55.732293  41.5   \n",
       "16  Thursday  01-May-14  37.398504  Melissa  Centre  Luigi    54.507040  34.9   \n",
       "17  Thursday  01-May-14  33.956136  Melissa    East  Luigi    58.103934  42.4   \n",
       "18  Thursday  01-May-14  26.379708    Laura    East  Luigi    56.517764  27.3   \n",
       "19  Thursday  01-May-14  33.193288  Melissa  Centre  Luigi    48.759259  47.7   \n",
       "\n",
       "    pizzas  \n",
       "0        4  \n",
       "1        2  \n",
       "2        3  \n",
       "3        3  \n",
       "4        2  \n",
       "5        4  \n",
       "6        3  \n",
       "7        2  \n",
       "8        2  \n",
       "9        5  \n",
       "10       4  \n",
       "11       3  \n",
       "12       1  \n",
       "13       1  \n",
       "14       1  \n",
       "15       6  \n",
       "16       3  \n",
       "17       4  \n",
       "18       1  \n",
       "19       4  "
      ]
     },
     "execution_count": 33,
     "metadata": {},
     "output_type": "execute_result"
    }
   ],
   "source": [
    "dfP.head(20)"
   ]
  },
  {
   "cell_type": "markdown",
   "metadata": {},
   "source": [
    "**Part A**: The manager's goal is to have an average delivery time across all branches of less than 30 minutes.  Perform an appropriate hypothesis test at the $\\alpha=0.05$ significance level to evaluate whether this goal has been achieved.  Be sure to clearly state your null and alternate hypothesis, describe your testing procedure, and show all calculations in Python. "
   ]
  },
  {
   "cell_type": "markdown",
   "metadata": {
    "collapsed": true
   },
   "source": [
    "$$H_0: \\mu = 30 $$\n",
    "$$H_1: \\mu < 30$$"
   ]
  },
  {
   "cell_type": "code",
   "execution_count": 93,
   "metadata": {},
   "outputs": [
    {
     "name": "stdout",
     "output_type": "stream",
     "text": [
      "p =  0.000759032671812\n"
     ]
    }
   ],
   "source": [
    "xbar=dfP[\"time\"].mean()\n",
    "sd=dfP[\"time\"].std()\n",
    "rootn=(dfP[\"time\"].count())**(1/2)\n",
    "hnull=30\n",
    "z=(xbar-hnull)/(sd/rootn)\n",
    "p=stats.norm.cdf(z)\n",
    "print(\"p = \",p)\n"
   ]
  },
  {
   "cell_type": "markdown",
   "metadata": {},
   "source": [
    "Since p = .00076 < $\\alpha$ = .05, the null hypothesis is rejected and it can be concluded that at the 5% significance level, the average delivery time across all branches is less than 30 minutes. "
   ]
  },
  {
   "cell_type": "markdown",
   "metadata": {},
   "source": [
    "**Part B**: The manager also has the goal of having an average delivery temperature across all branches of greater than 65F.  Perform an appropriate hypothesis test at the $\\alpha=0.05$ significance level to evaluate whether this goal has been achieved.  Be sure to clearly state your null and alternate hypothesis, describe your testing procedure, and show all calculations in Python. "
   ]
  },
  {
   "cell_type": "markdown",
   "metadata": {},
   "source": [
    "$$H_0: \\mu = 65 $$\n",
    "$$H_1: \\mu > 65$$"
   ]
  },
  {
   "cell_type": "code",
   "execution_count": 104,
   "metadata": {},
   "outputs": [
    {
     "name": "stdout",
     "output_type": "stream",
     "text": [
      "p =  0.0834722417435\n"
     ]
    }
   ],
   "source": [
    "xbar=dfP[\"temperature\"].mean()\n",
    "sd=dfP[\"temperature\"].std()\n",
    "rootn=(dfP[\"temperature\"].count())**(1/2)\n",
    "hnull=65\n",
    "z=(xbar-hnull)/(sd/rootn)\n",
    "p=1-stats.norm.cdf(z)\n",
    "print(\"p = \",p)"
   ]
  },
  {
   "cell_type": "markdown",
   "metadata": {},
   "source": [
    "Since p=.083 > $\\alpha$ = .05, we fail to reject the null hypothesis of the average delivery temperature being 65F.  "
   ]
  },
  {
   "cell_type": "markdown",
   "metadata": {},
   "source": [
    "**Part C**: The manager has enough money to give one of his delivery drivers a raise based on good performance. He knows from the data that his two best drivers are Mario and Luigi, but he's not sure if there is evidence that either one is better than the other.  Using delivery time and temperature as the criteria, perform any necessary hypothesis tests at the $\\alpha = 0.05$ significance level, to determine if one of the drivers deserves a raise. Be sure to clearly describe your hypotheses and methodology, and show any relevant computations in Python. "
   ]
  },
  {
   "cell_type": "code",
   "execution_count": 68,
   "metadata": {},
   "outputs": [
    {
     "name": "stdout",
     "output_type": "stream",
     "text": [
      "p(time) =  0.00190859329882\n",
      "p(temperature) =  0.170766865775\n"
     ]
    }
   ],
   "source": [
    "mario=dfP.loc[dfP['driver']== \"Mario\", [\"time\",\"temperature\"]]\n",
    "\n",
    "xbar_t=mario['time'].mean()\n",
    "sd_t=mario[\"time\"].std()\n",
    "rootn_t=(mario[\"time\"].count())**(1/2)\n",
    "hnull_t=30\n",
    "z_t=(xbar_t-hnull_t)/(sd_t/rootn_t)\n",
    "p_t=stats.norm.cdf(z_t)\n",
    "\n",
    "xbar_temp=mario['temperature'].mean()\n",
    "sd_temp=mario[\"temperature\"].std()\n",
    "rootn_temp=(mario[\"temperature\"].count())**(1/2)\n",
    "hnull_temp=65\n",
    "z_temp=(xbar_temp-hnull_temp)/(sd_temp/rootn_temp)\n",
    "p_temp=1-stats.norm.cdf(z_temp)\n",
    "\n",
    "print(\"p(time) = \",p_t)\n",
    "print(\"p(temperature) = \",p_temp)"
   ]
  },
  {
   "cell_type": "code",
   "execution_count": 81,
   "metadata": {},
   "outputs": [
    {
     "name": "stdout",
     "output_type": "stream",
     "text": [
      "p(time) =  0.0262982248768\n",
      "p(temperature) =  0.0439988696893\n"
     ]
    }
   ],
   "source": [
    "luigi=dfP.loc[dfP['driver']== \"Luigi\", [\"time\",\"temperature\"]]\n",
    "\n",
    "xbar_t=luigi['time'].mean()\n",
    "sd_t=luigi[\"time\"].std()\n",
    "rootn_t=(luigi[\"time\"].count())**(1/2)\n",
    "hnull_t=30\n",
    "z_t=(xbar_t-hnull_t)/(sd_t/rootn_t)\n",
    "p_t=stats.norm.cdf(z_t)\n",
    "\n",
    "xbar_temp=luigi['temperature'].mean()\n",
    "sd_temp=luigi[\"temperature\"].std()\n",
    "rootn_temp=(luigi[\"temperature\"].count())**(1/2)\n",
    "hnull_temp=65\n",
    "z_temp=(xbar_temp-hnull_temp)/(sd_temp/rootn_temp)\n",
    "p_temp=1-stats.norm.cdf(z_temp)\n",
    "\n",
    "print(\"p(time) = \",p_t)\n",
    "print(\"p(temperature) = \",p_temp)"
   ]
  },
  {
   "cell_type": "markdown",
   "metadata": {},
   "source": [
    "The average delivery time for Mario is less than 30 minutes because his p(time)= .0019 < $\\alpha$= .05. The average delivery temperature for Mario is 65F because he fails to reject the null hypothesis. His p(temperature) = .829 > $\\alpha$ = .05. The average delivery time for Luigi is less than 30 minutes because his p(time) = .026 < $\\alpha$ = .05 and fails to reject the null hypothesis. The average delivery temperature for Luigi is greater than 65F because his p(temperature) = .0439 < $\\alpha$ = .05 and he rejects the null hypothesis. Due to the fact that Luigi's is performing better than average in both delivery time and delivery temperature, and Mario only performs better than average with respect to delivery time, Luigi should receive a raise."
   ]
  },
  {
   "cell_type": "markdown",
   "metadata": {},
   "source": [
    "**Part D**: On the other hand, the manager suspects that Salvatore has been underperforming as a driver.  The manager has a policy that if a pizza takes 40 minutes or longer to be delivered, he has to fork over a free bottle of wine.  This policy is only financially viable for the pizza chain if they have give out free wine on less than 5% of all pizza deliveries.  Perform a hypothesis test at the $\\alpha = 0.05$ significance level to determine if there is significant evidence that the proportion of Salvatore's deliveries that take longer than 40 minutes is greater than 5%.  "
   ]
  },
  {
   "cell_type": "markdown",
   "metadata": {},
   "source": [
    "$H_0$: $\\mu$ = 5% of Salvatore's deliveries recieve free wine $\\\\\\\\$\n",
    "$H_1$: $\\mu$ more than 5% of Salvatore's deliveries receive free wine"
   ]
  },
  {
   "cell_type": "code",
   "execution_count": 240,
   "metadata": {},
   "outputs": [
    {
     "name": "stdout",
     "output_type": "stream",
     "text": [
      "p =  0.328053786635\n",
      "The number of Salvatore deliveries: 344\n",
      "The number of ties Salvatore gave free wine: 19\n",
      "Proportion of free wines given: 0.0552325581395\n"
     ]
    }
   ],
   "source": [
    "s=dfP.loc[dfP['driver']== \"Salvatore\", [\"time\"] ]\n",
    "x=s.loc[s[\"time\"] >= 40]\n",
    "n_freewine=x['time'].count()\n",
    "n=s['time'].count()\n",
    "p_hat=n_freewine/n\n",
    "mu=.05\n",
    "z_s=(p_hat-mu)/(((mu*(1-mu))/n)**.5)\n",
    "p_s=1-stats.norm.cdf(z_s)\n",
    "\n",
    "print(\"p = \",p_s)\n",
    "print(\"The number of Salvatore deliveries:\",n)\n",
    "print(\"The number of ties Salvatore gave free wine:\", n_freewine)\n",
    "print(\"Proportion of free wines given:\", (n_freewine/n))"
   ]
  },
  {
   "cell_type": "markdown",
   "metadata": {},
   "source": [
    "Due to the fact that p=.328 > $\\alpha$ =.05, we fail to reject the null hypothesis. However, the proportion of free wines given was .055, which is greater than .05. This might be an error with my calculations."
   ]
  },
  {
   "cell_type": "markdown",
   "metadata": {},
   "source": [
    "### [15 points] Problem 4 - Naps vs Coffee for Memory? \n",
    "***\n",
    "\n",
    "The consumption of coffee to benefit alertness is a common activity practiced by 90% of adults in North America. Often coffee is used to replace the need for sleep. One recent study compares students’ ability to recall memorized information after either the consumption of coffee or a brief nap. A random sample of 24 adults\n",
    "were randomly divided into two groups and verbally given a list\n",
    "of 25 words to memorize. During a break, one of the groups took a nap for an hour and a half,\n",
    "another group stayed awake and were given a coffee an hour prior to testing. Researchers measured the number of words participants were\n",
    "able to recall following the break. The summary statistics for the two groups are shown below.\n",
    "\n",
    "$$\n",
    "\\begin{array}{c|c|c|c}\n",
    "\\textrm{Group} & \\textrm{Sample Size} & \\textrm{Mean} & \\textrm{Standard Deviation} \\\\\n",
    "\\hline \n",
    "\\textrm{Nap} & 12 & 15.5 & 3.2 \\\\ \n",
    "\\textrm{Coffee} & 12 & 12.25 & 3.1 \\\\ \n",
    "\\end{array}\n",
    "$$\n",
    "\n",
    "In previous experiments the mean recall measurement was found to be normally distributed. \n",
    "\n",
    "**Part A**: Compute a 95% t-confidence interval for the mean recall measurement for participants that took a nap before the test. Do all computations in Python. "
   ]
  },
  {
   "cell_type": "code",
   "execution_count": 105,
   "metadata": {},
   "outputs": [
    {
     "name": "stdout",
     "output_type": "stream",
     "text": [
      "t-CI for mean recall measurement(nap): [13.841, 17.159]\n",
      "t:  1.7958848187\n"
     ]
    }
   ],
   "source": [
    "mean=15.5\n",
    "sd=3.2\n",
    "n=12\n",
    "x=sd/(n**(1/2))\n",
    "t=stats.t.ppf(.95, n-1)\n",
    "cipos=mean+(t*x)\n",
    "cineg=mean-(t*x)\n",
    "print(\"t-CI for mean recall measurement(nap): [{:.3f}, {:.3f}]\".format(cineg, cipos))\n",
    "print(\"t: \", t)"
   ]
  },
  {
   "cell_type": "markdown",
   "metadata": {},
   "source": [
    "**Part B**: Is there sufficient evidence, at the $\\alpha = 0.05$ significance level, to conclude that taking a nap promotes better memory recall that drinking coffee?  Be sure to clearly explain the test that you're doing and state all hypotheses. Do all computations in Python. "
   ]
  },
  {
   "cell_type": "markdown",
   "metadata": {},
   "source": [
    "$$\n",
    "\\mu_1 = 15.5 \\\\\n",
    "\\mu_2 = 12.25 \\\\\n",
    "H_0 = \\mu_1 = 15.5 - \\mu_2 = 12.25 = 0 \\\\\n",
    "H_1 = \\mu_1 = 15.5 - \\mu_2 = 12.25 > 0\n",
    "$$"
   ]
  },
  {
   "cell_type": "code",
   "execution_count": 212,
   "metadata": {},
   "outputs": [
    {
     "name": "stdout",
     "output_type": "stream",
     "text": [
      "T =  2.526933008255578\n",
      "t =  1.71714437438\n"
     ]
    }
   ],
   "source": [
    "mean_nap=15.5\n",
    "mean_coff=12.25\n",
    "sd_nap=3.2\n",
    "sd_coff=3.1\n",
    "n=12\n",
    "n_tot=24\n",
    "mean_diff=mean_nap-mean_coff\n",
    "sd_diff=(((sd_nap**2)/n) + ((sd_coff**2)/n))**(1/2)\n",
    "T=mean_diff/sd_diff\n",
    "t=abs(stats.t.ppf((.05), n_tot-2))\n",
    "print(\"T = \",T)\n",
    "print(\"t = \",t)"
   ]
  },
  {
   "cell_type": "markdown",
   "metadata": {},
   "source": [
    "Due to the fact that T = 2.527 > t = 1.717, the null hypothesis is rejected. It can be concluded that the number of words memorized after taking a nap and drinking coffee are different."
   ]
  },
  {
   "cell_type": "markdown",
   "metadata": {},
   "source": [
    "**Part C**: Compute a 95% confidence interval for the standard deviation of memory recall for coffee drinkers. Do all computations in Python.  "
   ]
  },
  {
   "cell_type": "markdown",
   "metadata": {},
   "source": [
    "$$\n",
    "\\sqrt{\\frac{(n-1)S^2}{X^2_{\\alpha/2, n-1}}} < \\sigma < \\sqrt{\\frac{(n-1)S^2}{X^2_{1-\\alpha/2, n-1}}}\n",
    "$$"
   ]
  },
  {
   "cell_type": "code",
   "execution_count": 120,
   "metadata": {},
   "outputs": [
    {
     "name": "stdout",
     "output_type": "stream",
     "text": [
      "95% CI variance squared: [4.823, 27.704]\n",
      "95% CI variance: [2.196, 5.263]\n"
     ]
    }
   ],
   "source": [
    "mean=12.25\n",
    "sd=3.1\n",
    "var=sd**2\n",
    "Ssquared=var\n",
    "alpha=.05\n",
    "n=12\n",
    "chisq_left=stats.chi2.ppf(1-(alpha/2), n-1)\n",
    "chisq_right=stats.chi2.ppf(alpha/2, n-1)\n",
    "left_sq=((n-1)*Ssquared)/chisq_left\n",
    "right_sq=((n-1)*Ssquared/chisq_right)\n",
    "left=left_sq**.5\n",
    "right=right_sq**.5\n",
    "print(\"95% CI variance squared: [{:.3f}, {:.3f}]\".format(left_sq, right_sq))\n",
    "print(\"95% CI variance: [{:.3f}, {:.3f}]\".format(left, right))"
   ]
  },
  {
   "cell_type": "markdown",
   "metadata": {},
   "source": [
    "### [20 points] Problem 5 - Bad Science for Fun and Profit \n",
    "***\n",
    "\n",
    "[Data Dredging](https://en.wikipedia.org/wiki/Data_dredging) and [p-hacking](https://www.explainxkcd.com/wiki/index.php/882:_Significant) are umbrella terms for the dangerous practice of automatically testing a large number of hypotheses on the entirety or subsets of a single dataset in order to find statistically significant results. In this exercise we will focus on the idea of testing hypotheses on subsets of a single data set.  \n",
    "\n",
    "Johnny Nefarious has landed his first data science internship at an online marketing firm.  His primary summer project has been to design and test a new email advertisement for his company's best-selling product. To test his advertisement his supervisors have allowed him to send his ad to 4 targeted customer groups of 50 people every day for a month. \n",
    "\n",
    "The effectiveness of online advertising is typically measured by the ad's [click-through rate](https://en.wikipedia.org/wiki/Click-through_rate) (CTR), which is defined to be the _proportion_ of users that click on an advertisement. The company's standard email advertisement has a CTR of $0.05$.  Johnny is hoping to land a permanent position at the company when he graduates, so he's **really** motivated to show his supervisors that the CTR of his email advertisement is a (statistically) significant improvement over their previous ad. \n",
    "\n",
    "The data from Johnny's summer experiment can be found in email.csv. Load this dataset into Pandas. "
   ]
  },
  {
   "cell_type": "code",
   "execution_count": 123,
   "metadata": {
    "scrolled": true
   },
   "outputs": [
    {
     "data": {
      "text/html": [
       "<div>\n",
       "<style>\n",
       "    .dataframe thead tr:only-child th {\n",
       "        text-align: right;\n",
       "    }\n",
       "\n",
       "    .dataframe thead th {\n",
       "        text-align: left;\n",
       "    }\n",
       "\n",
       "    .dataframe tbody tr th {\n",
       "        vertical-align: top;\n",
       "    }\n",
       "</style>\n",
       "<table border=\"1\" class=\"dataframe\">\n",
       "  <thead>\n",
       "    <tr style=\"text-align: right;\">\n",
       "      <th></th>\n",
       "      <th>Group</th>\n",
       "      <th>Date</th>\n",
       "      <th>Sent</th>\n",
       "      <th>Clicked</th>\n",
       "    </tr>\n",
       "  </thead>\n",
       "  <tbody>\n",
       "    <tr>\n",
       "      <th>0</th>\n",
       "      <td>1</td>\n",
       "      <td>NaN</td>\n",
       "      <td>50</td>\n",
       "      <td>1</td>\n",
       "    </tr>\n",
       "    <tr>\n",
       "      <th>1</th>\n",
       "      <td>1</td>\n",
       "      <td>Oct  2 2017</td>\n",
       "      <td>50</td>\n",
       "      <td>2</td>\n",
       "    </tr>\n",
       "    <tr>\n",
       "      <th>2</th>\n",
       "      <td>1</td>\n",
       "      <td>Oct  3 2017</td>\n",
       "      <td>50</td>\n",
       "      <td>4</td>\n",
       "    </tr>\n",
       "    <tr>\n",
       "      <th>3</th>\n",
       "      <td>1</td>\n",
       "      <td>NaN</td>\n",
       "      <td>50</td>\n",
       "      <td>5</td>\n",
       "    </tr>\n",
       "    <tr>\n",
       "      <th>4</th>\n",
       "      <td>1</td>\n",
       "      <td>Oct  5 2017</td>\n",
       "      <td>50</td>\n",
       "      <td>1</td>\n",
       "    </tr>\n",
       "  </tbody>\n",
       "</table>\n",
       "</div>"
      ],
      "text/plain": [
       "   Group         Date  Sent  Clicked\n",
       "0      1          NaN    50        1\n",
       "1      1  Oct  2 2017    50        2\n",
       "2      1  Oct  3 2017    50        4\n",
       "3      1          NaN    50        5\n",
       "4      1  Oct  5 2017    50        1"
      ]
     },
     "execution_count": 123,
     "metadata": {},
     "output_type": "execute_result"
    }
   ],
   "source": [
    "dfAd = pd.read_csv(\"data/email.csv\")\n",
    "dfAd.head()"
   ]
  },
  {
   "cell_type": "markdown",
   "metadata": {},
   "source": [
    "**Part A**: State the null and alternate hypotheses that Johnny should test to see if his ad campaign is an improvement over the company's standard mailer with a CTR of $0.05$. "
   ]
  },
  {
   "cell_type": "markdown",
   "metadata": {},
   "source": [
    "$$H_0: \\mu = .05 $$\n",
    "$$H_1: \\mu > .05$$"
   ]
  },
  {
   "cell_type": "markdown",
   "metadata": {},
   "source": [
    "**Part B**: Test the hypothesis from **Part A** at the $\\alpha = 0.05$ significance level using a p-value test. Is there sufficient evidence for Johnny to conclude that his ad campaign is an improvement?   "
   ]
  },
  {
   "cell_type": "code",
   "execution_count": 167,
   "metadata": {},
   "outputs": [
    {
     "name": "stdout",
     "output_type": "stream",
     "text": [
      "p =  0.224365747475\n"
     ]
    }
   ],
   "source": [
    "clicks=dfAd[\"Clicked\"].sum()\n",
    "n=dfAd[\"Sent\"].sum()\n",
    "p_hat=clicks/n\n",
    "mu=.05\n",
    "z=(p_hat-mu)/(((mu*(1-mu))/n)**.5)\n",
    "p=1-stats.norm.cdf(z)\n",
    "\n",
    "print(\"p = \",p)\n"
   ]
  },
  {
   "cell_type": "markdown",
   "metadata": {},
   "source": [
    "Since p=.224 > $\\alpha$ = .05, we fail to reject the null hypothesis of the CTR being .05."
   ]
  },
  {
   "cell_type": "markdown",
   "metadata": {},
   "source": [
    "**Part C**: Bummer, Johnny thinks. This is the part where he decides to resort to some questionable science.  Maybe there is a reasonable subset of the data for which his alternative hypothesis is supported?  Can he find it?  Can he come up for a reasonable justification for why this subset of the data should be considered while the rest should be discarded? \n",
    "\n",
    "Here are the **rules**: Johnny cannot modify the original data (e.g. by adding nonexistent clicks to certain groups or days) because his boss will surely notice.  Instead he needs to find a subset of the data for which his hypothesis is supported by a p-value test at the $\\alpha = 0.05$ significance level _and_ be able to explain to his supervisors why his sub-selection of the data is reasonable.  \n",
    "\n",
    "In addition to your explanation of why your successful subset of the data is potentially reasonable, be sure to thoroughly explain the details of the tests that you perform and show all of your Python computation.  "
   ]
  },
  {
   "cell_type": "code",
   "execution_count": 160,
   "metadata": {},
   "outputs": [
    {
     "name": "stdout",
     "output_type": "stream",
     "text": [
      "p(Group 1): 0.739234825688\n",
      "p(Group 2): 0.341672965369\n",
      "p(Group 3): 0.260765174312\n",
      "p(Group 4): 0.134112068107\n"
     ]
    }
   ],
   "source": [
    "clicks_1=dfAd.loc[dfAd['Group']== 1, \"Clicked\"]\n",
    "clicks_1sum=clicks_1.sum()\n",
    "n_1=dfAd.loc[dfAd['Group']== 1, \"Sent\"]\n",
    "n_1sum=n_1.sum()\n",
    "p_hat1=clicks_1sum/n_1sum\n",
    "mu=.05\n",
    "z_1=(p_hat1-mu)/(((mu*(1-mu))/n_1sum)**.5)\n",
    "p_1=1-stats.norm.cdf(z_1)\n",
    "\n",
    "clicks_2=dfAd.loc[dfAd['Group']== 2, \"Clicked\"]\n",
    "clicks_2sum=clicks_2.sum()\n",
    "n_2=dfAd.loc[dfAd['Group']== 2, \"Sent\"]\n",
    "n_2sum=n_2.sum()\n",
    "p_hat2=clicks_2sum/n_2sum\n",
    "z_2=(p_hat2-mu)/(((mu*(1-mu))/n_2sum)**.5)\n",
    "p_2=1-stats.norm.cdf(z_2)\n",
    "\n",
    "clicks_3=dfAd.loc[dfAd['Group']== 3, \"Clicked\"]\n",
    "clicks_3sum=clicks_3.sum()\n",
    "n_3=dfAd.loc[dfAd['Group']== 3, \"Sent\"]\n",
    "n_3sum=n_3.sum()\n",
    "p_hat3=clicks_3sum/n_3sum\n",
    "z_3=(p_hat3-mu)/(((mu*(1-mu))/n_3sum)**.5)\n",
    "p_3=1-stats.norm.cdf(z_3)\n",
    "\n",
    "clicks_4=dfAd.loc[dfAd['Group']== 4, \"Clicked\"]\n",
    "clicks_4sum=clicks_4.sum()\n",
    "n_4=dfAd.loc[dfAd['Group']== 4, \"Sent\"]\n",
    "n_4sum=n_4.sum()\n",
    "p_hat4=clicks_4sum/n_4sum\n",
    "z_4=(p_hat4-mu)/(((mu*(1-mu))/n_4sum)**.5)\n",
    "p_4=1-stats.norm.cdf(z_4)\n",
    "\n",
    "print(\"p(Group 1):\" ,p_1)\n",
    "print(\"p(Group 2):\" ,p_2)\n",
    "print(\"p(Group 3):\" ,p_3)\n",
    "print(\"p(Group 4):\" ,p_4)"
   ]
  },
  {
   "cell_type": "code",
   "execution_count": 189,
   "metadata": {},
   "outputs": [
    {
     "name": "stdout",
     "output_type": "stream",
     "text": [
      "p(Group 1 && no dates taken out): 0.833382858967\n",
      "p(Group 2 && no dates taken out): 0.5\n",
      "p(Group 3 && no dates taken out): 0.00755827138116\n",
      "p(Group 4 && no dates taken out): 0.4666193396\n"
     ]
    }
   ],
   "source": [
    "df_nodate=dfAd.dropna()\n",
    "\n",
    "clicks_1=df_nodate.loc[df_nodate['Group']== 1, \"Clicked\"]\n",
    "clicks_1sum=clicks_1.sum()\n",
    "n_1=df_nodate.loc[df_nodate['Group']== 1, \"Sent\"]\n",
    "n_1sum=n_1.sum()\n",
    "p_hat1=clicks_1sum/n_1sum\n",
    "mu=.05\n",
    "z_1=(p_hat1-mu)/(((mu*(1-mu))/n_1sum)**.5)\n",
    "p_1=1-stats.norm.cdf(z_1)\n",
    "\n",
    "clicks_2=df_nodate.loc[df_nodate['Group']== 2, \"Clicked\"]\n",
    "clicks_2sum=clicks_2.sum()\n",
    "n_2=df_nodate.loc[df_nodate['Group']== 2, \"Sent\"]\n",
    "n_2sum=n_2.sum()\n",
    "p_hat2=clicks_2sum/n_2sum\n",
    "z_2=(p_hat2-mu)/(((mu*(1-mu))/n_2sum)**.5)\n",
    "p_2=1-stats.norm.cdf(z_2)\n",
    "\n",
    "clicks_3=df_nodate.loc[df_nodate['Group']== 3, \"Clicked\"]\n",
    "clicks_3sum=clicks_3.sum()\n",
    "n_3=df_nodate.loc[df_nodate['Group']== 3, \"Sent\"]\n",
    "n_3sum=n_3.sum()\n",
    "p_hat3=clicks_3sum/n_3sum\n",
    "z_3=(p_hat3-mu)/(((mu*(1-mu))/n_3sum)**.5)\n",
    "p_3=1-stats.norm.cdf(z_3)\n",
    "\n",
    "clicks_4=df_nodate.loc[df_nodate['Group']== 4, \"Clicked\"]\n",
    "clicks_4sum=clicks_4.sum()\n",
    "n_4=df_nodate.loc[df_nodate['Group']== 4, \"Sent\"]\n",
    "n_4sum=n_4.sum()\n",
    "p_hat4=clicks_4sum/n_4sum\n",
    "z_4=(p_hat4-mu)/(((mu*(1-mu))/n_4sum)**.5)\n",
    "p_4=1-stats.norm.cdf(z_4)\n",
    "\n",
    "print(\"p(Group 1 && no dates taken out):\" ,p_1)\n",
    "print(\"p(Group 2 && no dates taken out):\" ,p_2)\n",
    "print(\"p(Group 3 && no dates taken out):\" ,p_3)\n",
    "print(\"p(Group 4 && no dates taken out):\" ,p_4)"
   ]
  },
  {
   "cell_type": "markdown",
   "metadata": {},
   "source": [
    "A reasonable subset that would support his alternative hypothesis would be the cases of Group 3 where there were dates(no dates taken out). This would give a p = .0075 < $\\alpha$ = .05, which would reject the null hypothesis."
   ]
  },
  {
   "cell_type": "markdown",
   "metadata": {},
   "source": [
    "### [20 points] Problem 6 - Simple Linear Regression for Gas Mileage \n",
    "***\n",
    "\n",
    "The data in auto.csv contains information on cars from the 1970s and 1980s. In this exercise you will construct a simple linear regression model for the response variable mpg with horsepower as the feature. Load the data into a Pandas DataFrame.    \n"
   ]
  },
  {
   "cell_type": "code",
   "execution_count": 176,
   "metadata": {},
   "outputs": [
    {
     "data": {
      "text/html": [
       "<div>\n",
       "<style>\n",
       "    .dataframe thead tr:only-child th {\n",
       "        text-align: right;\n",
       "    }\n",
       "\n",
       "    .dataframe thead th {\n",
       "        text-align: left;\n",
       "    }\n",
       "\n",
       "    .dataframe tbody tr th {\n",
       "        vertical-align: top;\n",
       "    }\n",
       "</style>\n",
       "<table border=\"1\" class=\"dataframe\">\n",
       "  <thead>\n",
       "    <tr style=\"text-align: right;\">\n",
       "      <th></th>\n",
       "      <th>model</th>\n",
       "      <th>year</th>\n",
       "      <th>mpg</th>\n",
       "      <th>cylinders</th>\n",
       "      <th>horsepower</th>\n",
       "      <th>weight</th>\n",
       "    </tr>\n",
       "  </thead>\n",
       "  <tbody>\n",
       "    <tr>\n",
       "      <th>0</th>\n",
       "      <td>chevrolet chevelle malibu</td>\n",
       "      <td>70</td>\n",
       "      <td>18.0</td>\n",
       "      <td>8</td>\n",
       "      <td>130.0</td>\n",
       "      <td>3504.0</td>\n",
       "    </tr>\n",
       "    <tr>\n",
       "      <th>1</th>\n",
       "      <td>buick skylark 320</td>\n",
       "      <td>70</td>\n",
       "      <td>15.0</td>\n",
       "      <td>8</td>\n",
       "      <td>165.0</td>\n",
       "      <td>3693.0</td>\n",
       "    </tr>\n",
       "    <tr>\n",
       "      <th>2</th>\n",
       "      <td>plymouth satellite</td>\n",
       "      <td>70</td>\n",
       "      <td>18.0</td>\n",
       "      <td>8</td>\n",
       "      <td>150.0</td>\n",
       "      <td>3436.0</td>\n",
       "    </tr>\n",
       "    <tr>\n",
       "      <th>3</th>\n",
       "      <td>amc rebel sst</td>\n",
       "      <td>70</td>\n",
       "      <td>16.0</td>\n",
       "      <td>8</td>\n",
       "      <td>150.0</td>\n",
       "      <td>3433.0</td>\n",
       "    </tr>\n",
       "    <tr>\n",
       "      <th>4</th>\n",
       "      <td>ford torino</td>\n",
       "      <td>70</td>\n",
       "      <td>17.0</td>\n",
       "      <td>8</td>\n",
       "      <td>140.0</td>\n",
       "      <td>3449.0</td>\n",
       "    </tr>\n",
       "  </tbody>\n",
       "</table>\n",
       "</div>"
      ],
      "text/plain": [
       "                       model  year   mpg  cylinders  horsepower  weight\n",
       "0  chevrolet chevelle malibu    70  18.0          8       130.0  3504.0\n",
       "1          buick skylark 320    70  15.0          8       165.0  3693.0\n",
       "2         plymouth satellite    70  18.0          8       150.0  3436.0\n",
       "3              amc rebel sst    70  16.0          8       150.0  3433.0\n",
       "4                ford torino    70  17.0          8       140.0  3449.0"
      ]
     },
     "execution_count": 176,
     "metadata": {},
     "output_type": "execute_result"
    }
   ],
   "source": [
    "dfAuto = pd.read_csv(\"data/auto.csv\")\n",
    "dfAuto.head()"
   ]
  },
  {
   "cell_type": "markdown",
   "metadata": {},
   "source": [
    "**Part A**: Perform a simple linear regression with horsepower as the feature and mpg as the response.  Report the estimated regression model in the form $Y = \\alpha + \\beta x$. Do all computations in Python. "
   ]
  },
  {
   "cell_type": "markdown",
   "metadata": {},
   "source": [
    "$$\n",
    "x=Horsepower \\\\\n",
    "y=mpg\n",
    "Y= \\alpha + \\beta x\n",
    "$$"
   ]
  },
  {
   "cell_type": "code",
   "execution_count": 213,
   "metadata": {},
   "outputs": [
    {
     "name": "stdout",
     "output_type": "stream",
     "text": [
      "Y = 39.9358610212 -0.157844733354 x\n"
     ]
    }
   ],
   "source": [
    "beta, alpha, r_value, p ,std_err = stats.linregress(dfAuto['horsepower'], dfAuto['mpg'])\n",
    "print(\"Y =\" ,alpha, beta,\"x\")"
   ]
  },
  {
   "cell_type": "markdown",
   "metadata": {},
   "source": [
    "**Part B**: Make a scatter-plot of the data with horsepower as the feature and mpg as the response and overlay the estimated regression line. \n"
   ]
  },
  {
   "cell_type": "code",
   "execution_count": 208,
   "metadata": {},
   "outputs": [
    {
     "data": {
      "text/plain": [
       "[<matplotlib.lines.Line2D at 0x1a16006358>]"
      ]
     },
     "execution_count": 208,
     "metadata": {},
     "output_type": "execute_result"
    },
    {
     "data": {
      "image/png": "[encoded data removed]",
      "text/plain": [
       "<matplotlib.figure.Figure at 0x1a15e446a0>"
      ]
     },
     "metadata": {},
     "output_type": "display_data"
    }
   ],
   "source": [
    "fig, plot = plt.subplots(nrows=1, ncols=1, figsize=(12,6))\n",
    "plt.scatter(dfAuto['horsepower'], dfAuto['mpg'], c='black')  \n",
    "e=dfAuto['horsepower'].max()\n",
    "x=np.linspace(0, int(e))\n",
    "y = 39.935 + -.157*x\n",
    "plt.plot(x, y , c='blue')"
   ]
  },
  {
   "cell_type": "markdown",
   "metadata": {},
   "source": [
    "**Part C**: Is the relationship between horsepower and mpg positive or negative? Justify your response. "
   ]
  },
  {
   "cell_type": "markdown",
   "metadata": {},
   "source": [
    "The relationship between horsepower and mpg is negative. This is because the linear regression model has a slope of -.157. Looking at the graph, the line is also decreasing, meaning that the relationship is negative."
   ]
  },
  {
   "cell_type": "markdown",
   "metadata": {},
   "source": [
    "**Part D**: Find a 95% confidence interval for the slope parameter.  Based on this confidence interval, is there sufficient evidence to believe, at the 95% confidence level, that there is a real relationship between horsepower and mpg? "
   ]
  },
  {
   "cell_type": "markdown",
   "metadata": {},
   "source": [
    "$$\n",
    "\\hat\\beta \\pm t_{\\alpha/2, n-2} * SSE\n",
    "$$"
   ]
  },
  {
   "cell_type": "code",
   "execution_count": 218,
   "metadata": {},
   "outputs": [
    {
     "name": "stdout",
     "output_type": "stream",
     "text": [
      "95% confidence interval for the slope parameter: [-0.171, -0.145]\n"
     ]
    }
   ],
   "source": [
    "b=beta\n",
    "s= std_err\n",
    "alpha=.05\n",
    "n=dfAuto['model'].count()\n",
    "t= stats.t.ppf(alpha/2,n-2)\n",
    "left=b+ (t*s)\n",
    "right= b - (t*s)\n",
    "print(\"95% confidence interval for the slope parameter: [{:.3f}, {:.3f}]\".format(left, right) )"
   ]
  },
  {
   "cell_type": "markdown",
   "metadata": {},
   "source": [
    "**Part E**: Double-check your result from **Part D** by performing an equivalent hypothesis test.  Be sure to state your null and alternative hypotheses and explain your general methodology.  Do your conclusions agree with those made in **Part D**? "
   ]
  },
  {
   "cell_type": "markdown",
   "metadata": {},
   "source": [
    "$$\n",
    "H_0: \\beta = 39.935  \\\\\n",
    "H_1: \\beta \\neq 39.935\n",
    "$$"
   ]
  },
  {
   "cell_type": "code",
   "execution_count": 220,
   "metadata": {},
   "outputs": [
    {
     "name": "stdout",
     "output_type": "stream",
     "text": [
      "p: 0.224365747475\n"
     ]
    }
   ],
   "source": [
    "print(\"p:\", p)"
   ]
  },
  {
   "cell_type": "markdown",
   "metadata": {},
   "source": [
    "We failed to reject the null hypothesis because p=.224 > $\\alpha$ = .05"
   ]
  },
  {
   "cell_type": "markdown",
   "metadata": {},
   "source": [
    "**Part F**: What gas mileage would your simple linear regression model predict for a car with a horsepower of $97$? "
   ]
  },
  {
   "cell_type": "code",
   "execution_count": 214,
   "metadata": {},
   "outputs": [
    {
     "name": "stdout",
     "output_type": "stream",
     "text": [
      "The gas mileage for the simple linear regression model with a car of horsepower of 97 is: 24.706000000000003\n"
     ]
    }
   ],
   "source": [
    "x=97\n",
    "y = 39.935 + -.157*x\n",
    "print(\"The gas mileage for the simple linear regression model with a car of horsepower of 97 is:\" , y)"
   ]
  }
 ],
 "metadata": {
  "kernelspec": {
   "display_name": "Python 3",
   "language": "python",
   "name": "python3"
  },
  "language_info": {
   "codemirror_mode": {
    "name": "ipython",
    "version": 3
   },
   "file_extension": ".py",
   "mimetype": "text/x-python",
   "name": "python",
   "nbconvert_exporter": "python",
   "pygments_lexer": "ipython3",
   "version": "3.6.3"
  }
 },
 "nbformat": 4,
 "nbformat_minor": 2
}
