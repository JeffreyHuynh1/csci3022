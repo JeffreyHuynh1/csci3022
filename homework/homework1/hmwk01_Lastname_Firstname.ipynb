{
 "cells": [
  {
   "cell_type": "markdown",
   "metadata": {},
   "source": [
    "# Homework 1: Data Cleaning and Exploratory Data Analysis \n",
    "***\n",
    "\n",
    "**Name**: \n",
    "\n",
    "***\n",
    "\n",
    "This assignment is due on Moodle by **5pm on Friday February 2nd**. Your solutions to theoretical questions should be done in Markdown directly below the associated question.  Your solutions to computational questions should include any specified Python code and results as well as written commentary on your conclusions.  Remember that you are encouraged to discuss the problems with your classmates, but **you must write all code and solutions on your own**.   \n",
    "\n",
    "**NOTES**: \n",
    "\n",
    "- Unless a url is given for a data set, you will find the required data in the same directory as this assignment on GitHub.\n",
    "- If you're not familiar with typesetting math directly into Markdown then by all means, do your work on paper first and then typeset it later.  Remember that there is a [reference guide](https://math.meta.stackexchange.com/questions/5020/mathjax-basic-tutorial-and-quick-reference) linked on Piazza on writing math in Markdown. \n",
    "- It is **bad form** to make your reader interpret numerical output from your code.  If a question asks you to compute some value from the data you should show your code output **AND** write a summary of the results in Markdown directly below your code. \n",
    "\n"
   ]
  },
  {
   "cell_type": "code",
   "execution_count": 1,
   "metadata": {
    "collapsed": true
   },
   "outputs": [],
   "source": [
    "import pandas as pd\n",
    "import numpy as np\n",
    "import matplotlib.pylab as plt\n",
    "%matplotlib inline"
   ]
  },
  {
   "cell_type": "markdown",
   "metadata": {},
   "source": [
    "### Problem 1 \n",
    "***\n",
    "\n",
    "An owner of an animal sanctuary wants to estimate her sanctuary's average food consumption over the next year in order to estimate the future food costs. Her sanctuary comprises 75 pandas, 25 otters, 50 buffalo, and 50 owls. The owner pops open her SanctuaryTrackr App's Current Resident List, randomly selects 24 animals from it, and tracks their food consumptions in pounds per day (lbs/day) over the next week. So as to get a good estimate, she intentionally selects 9 pandas, 3 otters, 6 buffalo, and 6 owls. \n",
    "\n",
    "Identify the following: \n",
    "\n",
    "- the population \n",
    "- the sample frame \n",
    "- the sample \n",
    "- the type of sample \n",
    "- the quantity of interest "
   ]
  },
  {
   "cell_type": "code",
   "execution_count": null,
   "metadata": {
    "collapsed": true
   },
   "outputs": [],
   "source": [
    "Population:Animals in the animal sanctuary\n",
    "Sample Frame:SanctuaryTrackr App\n",
    "Sample:9 pandas, 3 otters, 6 buffalo, and 6 owls\n",
    "Type of Sample:Simple(uniform) random sample\n",
    "Quantity of Interest:24"
   ]
  },
  {
   "cell_type": "markdown",
   "metadata": {},
   "source": [
    "### Problem 2 \n",
    "***\n",
    "\n",
    "A method to investigate the sensitivity of the sample mean and the sample median to extreme outliers is to replace one or more elements in a given dataset by a number $y$ and investigate the eﬀect when $y$ goes to inﬁnity. To illustrate this, consider the dataset\n",
    "\n",
    "$$\n",
    "4.6 \\quad \n",
    "5.0 \\quad\n",
    "6.5 \\quad\n",
    "7.7 \\quad\n",
    "3.2 \\quad\n",
    "4.2 \\quad\n",
    "3.0 \\quad\n",
    "6.6\n",
    "$$\n",
    "\n",
    "**Part A**: Compute the sample mean and sample median.\n"
   ]
  },
  {
   "cell_type": "code",
   "execution_count": 9,
   "metadata": {},
   "outputs": [
    {
     "name": "stdout",
     "output_type": "stream",
     "text": [
      "5.1\n",
      "4.8\n"
     ]
    }
   ],
   "source": [
    "sample=np.array([4.6,5.0,6.5,7.7,3.2,4.2,3.0,6.6])\n",
    "print(np.mean(sample))\n",
    "print(np.median(sample))"
   ]
  },
  {
   "cell_type": "markdown",
   "metadata": {},
   "source": [
    "**Part B**: We replace the element $5.0$ by some real number $q$. What happens with the sample mean and the sample median of this new dataset as $q \\rightarrow -\\infty$?"
   ]
  },
  {
   "cell_type": "code",
   "execution_count": 12,
   "metadata": {},
   "outputs": [
    {
     "ename": "SyntaxError",
     "evalue": "invalid syntax (<ipython-input-12-4d77b93b3987>, line 1)",
     "output_type": "error",
     "traceback": [
      "\u001b[0;36m  File \u001b[0;32m\"<ipython-input-12-4d77b93b3987>\"\u001b[0;36m, line \u001b[0;32m1\u001b[0m\n\u001b[0;31m    The mean sample mean will be negative infinity and the median\u001b[0m\n\u001b[0m           ^\u001b[0m\n\u001b[0;31mSyntaxError\u001b[0m\u001b[0;31m:\u001b[0m invalid syntax\n"
     ]
    }
   ],
   "source": [
    "arranged array=[3.0,3.2,4.2,4.6,5.0,6.5,6.6,7.7]\n",
    "The mean sample mean will be negative infinity and the median will be negative infinity as well. This is \n",
    "because the mean is found from the sum of all numbers divided by n(amount of numbers). When you add or divide\n",
    "anything to negative infinity it will still be negative infinty, thus making the mean negative infintiy. Since,\n",
    "there is a even amount of numbers in the dataset. The median is found by taking the mean of items n/2 and (n+2)/2.\n",
    "This means that the median will be the mean of the numbers at position 4 and 5. 4.6 is at position 4 and negative \n",
    "infinity is at position 5, and the mean of these two values give negative infinity."
   ]
  },
  {
   "cell_type": "markdown",
   "metadata": {},
   "source": [
    "**Part C**: We replace a number of elements by some real number $q$. How many elements do we need to replace so that the sample median of the new dataset goes to infinity as $q \\rightarrow -\\infty$?"
   ]
  },
  {
   "cell_type": "code",
   "execution_count": null,
   "metadata": {
    "collapsed": true
   },
   "outputs": [],
   "source": [
    "We only need to replace one number so that the sample median is negative infinity. Either 5.0 or 4.6 needs to be \n",
    "replaced with q. "
   ]
  },
  {
   "cell_type": "markdown",
   "metadata": {},
   "source": [
    "**Part D**: Suppose we have another data set of size $n$. How many elements do we need to replace by some real number $q$, so that the sample mean of the new dataset diverges as $q \\rightarrow -\\infty$? And how many elements do we need to replace, so that the sample median of the new dataset goes to infinity? "
   ]
  },
  {
   "cell_type": "code",
   "execution_count": null,
   "metadata": {
    "collapsed": true
   },
   "outputs": [],
   "source": [
    "Only one element in the data set needs to be replaced by q so that the median and mean is negative infinity.\n",
    "For the mean to be negative infinity, any number in the set can be replaced by q. For the median to be negative\n",
    "infintiy, the n/2 number of the organized data set needs to be replaced if n is odd. If n is even, either the n/2\n",
    "or the (n+2)/2 element needs to be replaced so that the median is negative infinity. "
   ]
  },
  {
   "cell_type": "markdown",
   "metadata": {},
   "source": [
    "### Problem 3 \n",
    "***\n",
    "\n",
    "Let $x_1, x_2, \\ldots, x_n$ be $n$ observations of a variable of interest.  Recall that the sample mean $\\bar{x}_n$ and sample variance $s^2_n$ are given by \n",
    "\n",
    "$$\n",
    "\\bar{x}_n = \\frac{1}{n}\\sum_{k=1}^n x_k \\quad \\textrm{and} \\quad s^2_n = \\frac{1}{n-1}\\sum_{k=1}^n \\left( x_k - \\bar{x}_n\\right)^2\n",
    "$$\n",
    "\n",
    "where here the subscript $n$'s indicate the number of observations in the sample. Notice that a natural computation of the variance requires two passes over the data: one to compute the mean, and a second to subtract the mean from each observation and compute the sum of squares. It is often useful to be able to compute the variance in a single pass, inspecting each value $x_k$ only once; for example, when the data are being collected without enough storage to keep all the values, or when costs of memory access dominate those of computation. In this problem you will explore two methods for such an _online_ computation of the mean and variance.  \n",
    "\n",
    "**Part A**: Show algebraically that the following relation holds between the mean of the first $n-1$ observations and the mean of all $n$ observations: \n",
    "\n",
    "$$\n",
    "\\bar{x}_n = \\bar{x}_{n-1} + \\frac{x_n - \\bar{x}_{n-1}}{n}\n",
    "$$"
   ]
  },
  {
   "cell_type": "code",
   "execution_count": null,
   "metadata": {
    "collapsed": true
   },
   "outputs": [],
   "source": []
  },
  {
   "cell_type": "markdown",
   "metadata": {},
   "source": [
    "**Part B**: Write a function `my_sample_mean` that takes as its input a numpy array and returns the mean of that numpy array using the formulas from class (written above). You may *not* use numpy's built in mean function. Write another function `my_sample_var` that takes as its input a numpy array and returns the variance of that numpy array, again using the formulas from class (written above). You may *not* use any built-in sample variance functions."
   ]
  },
  {
   "cell_type": "code",
   "execution_count": null,
   "metadata": {
    "collapsed": true
   },
   "outputs": [],
   "source": [
    "def my_sample_mean(a):\n",
    "    x=np.array(a)\n",
    "    for i in x:\n",
    "        "
   ]
  },
  {
   "cell_type": "markdown",
   "metadata": {},
   "source": [
    "**Part C**: Use your functions from Part B to compute the sample mean and sample variance of the following array.\n",
    "\n",
    "`otter_weights = [25, 29, 40, 19, 7, 6, 3, 12, 19, 21, 22, 45, 27]`"
   ]
  },
  {
   "cell_type": "code",
   "execution_count": null,
   "metadata": {
    "collapsed": true
   },
   "outputs": [],
   "source": []
  },
  {
   "cell_type": "markdown",
   "metadata": {},
   "source": [
    "**Part D**: Implement a third function called `update_mean` that implements the formula whose valdity you proved in Part A. (Note: this function will need to take as its input three things: $x_n$, $\\bar{x}_{n-1}$ and $n$.)\n",
    "\n",
    "Use this function to compute the values that you get from taking the mean of the first one otter, the first two otters, the first three otters, and so on up to all the otters. Store your otter means in a numpy array called `otterations`."
   ]
  },
  {
   "cell_type": "code",
   "execution_count": null,
   "metadata": {
    "collapsed": true
   },
   "outputs": [],
   "source": []
  },
  {
   "cell_type": "markdown",
   "metadata": {},
   "source": [
    "### Problem 4\n",
    "*** \n",
    "Some claim that the final hours aboard the RMS Titanic were marked by class warfare; others claim it was characterized by male chivalry.  We have the data on survival rates by class and by sex, so let's figure out whether there is evidence for these scenarios. Access the titanic data in `titanic_data.csv` and store it in a Pandas DataFrame. The data contains information pertaining to class status (**Pclass**), survival of passengers (**Survived**), and gender (**Sex**), among others.  "
   ]
  },
  {
   "cell_type": "markdown",
   "metadata": {},
   "source": [
    "**Part A**: Consider the two claims: class warfare, and male chivalry. Suppose that class warfare occurred in the final hours aboard the Titanic.  What patterns might you expect to see in the data?  Suppose that male chivalry was widespread during the final hours insteas. What patterns might you then expect to see in the data?  Explain both of these hypothesized patterns in words. Are these two hypotheses mutually exclusive or not?"
   ]
  },
  {
   "cell_type": "code",
   "execution_count": null,
   "metadata": {
    "collapsed": true
   },
   "outputs": [],
   "source": []
  },
  {
   "cell_type": "markdown",
   "metadata": {},
   "source": [
    "**Part B**: Create a clean data set by removing any rows from the DataFrame that are missing values corresponding to **Survived**, **Pclass**, **Age**, or **Sex**. Store the clean data in a DataFrame called dfTitanic. "
   ]
  },
  {
   "cell_type": "code",
   "execution_count": null,
   "metadata": {
    "collapsed": true
   },
   "outputs": [],
   "source": []
  },
  {
   "cell_type": "markdown",
   "metadata": {},
   "source": [
    "**Part C**: Determine the fraction of survivors from each passenger class. "
   ]
  },
  {
   "cell_type": "code",
   "execution_count": null,
   "metadata": {
    "collapsed": true
   },
   "outputs": [],
   "source": []
  },
  {
   "cell_type": "markdown",
   "metadata": {},
   "source": [
    "**Part D**: Compute the fraction of survivors according to class and gender.  Did men in first class or women in third class have a higher survival rate? "
   ]
  },
  {
   "cell_type": "code",
   "execution_count": null,
   "metadata": {
    "collapsed": true
   },
   "outputs": [],
   "source": []
  },
  {
   "cell_type": "markdown",
   "metadata": {},
   "source": [
    "**Part E**: How would you characterize the distribution of **AGE**? (By _characterize_ we mean that you should indicate whether the data are unimodal, bimodal, multimodal, symmetric, negatively skewed, positively skewed, etc.)  Make any necessary graphical summaries to justify your conclusion. "
   ]
  },
  {
   "cell_type": "code",
   "execution_count": null,
   "metadata": {
    "collapsed": true
   },
   "outputs": [],
   "source": []
  },
  {
   "cell_type": "markdown",
   "metadata": {},
   "source": [
    "**Part F**: Were the median and mean ages for females who survived higher or lower than for females who did not survive?  "
   ]
  },
  {
   "cell_type": "code",
   "execution_count": null,
   "metadata": {
    "collapsed": true
   },
   "outputs": [],
   "source": []
  },
  {
   "cell_type": "markdown",
   "metadata": {},
   "source": [
    "**Part G**: Do the data suggest class warfare, male chivalry, or some combination of both characteristics in the final hours aboard the Titanic?  Justify your conclusion based on the computations done above, or do any other analysis that you like, but be sure to clearly justify your conclusion. "
   ]
  },
  {
   "cell_type": "code",
   "execution_count": null,
   "metadata": {
    "collapsed": true
   },
   "outputs": [],
   "source": []
  },
  {
   "cell_type": "markdown",
   "metadata": {},
   "source": [
    "### Problem 5 - Not anotter homework problem! :(\n",
    "***\n",
    "\n",
    "Otters are undisputedly one of nature's most awesome animals. From a cursory Google Image Search of *baby otter* or *otters holding hands* or *otters water slide* this is easy to demonstrate.\n",
    "\n",
    "Because the CS Department was able to pull a few strings, we have obtained a dataset of sea otter behavior. For each otter studied, the dataset contains:\n",
    "\n",
    "- **hhrecord**: the otter's personal record for hand-holding (hours; 999) \n",
    "- **pawsize**: the size of the otter's paw (unspecified units; 999)\n",
    "- **floatation**: boolean, indicating whether the otter displayed leadership in floatation. (9)\n",
    "- **satscore**: the otter's projected SAT score percentile. (unclear why this was included; 99)\n",
    "- **height**: otter's height (unspecified units; 99)\n",
    "- **weight**: otter's weight (unspecified units; 999)\n",
    "- **urchins**: boolean, indicating whether the otter was observed eating urchins (9)\n",
    "\n",
    "All these data are included in the whitespace-delimited file `otters.data`"
   ]
  },
  {
   "cell_type": "markdown",
   "metadata": {},
   "source": [
    "\n",
    "**Part A**: Create a clean data set that removes subjects if any observations on the subject are unknown.  Note that that collectors of the data set used values like $9$, $99$, $999$, to denote unknown values. Those values are listed parenthetically in the description above Store the modified data set in a Pandas DataFrame called dfOtters. "
   ]
  },
  {
   "cell_type": "code",
   "execution_count": null,
   "metadata": {
    "collapsed": true
   },
   "outputs": [],
   "source": []
  },
  {
   "cell_type": "markdown",
   "metadata": {},
   "source": [
    "**Part B**: Use the information in dfOtters to create a density histogram of the hand-holding records of otters who do not eat sea urchins (urchins=0) and another histogram placed directly below the first in the same graphics device for the hand-holding records of otters who do eat urchins (urchins=1).  Make the range of the horizontal axis $30$ to $180$ (hours) for both histograms.  Make sure to give each subplot titles and label axes. "
   ]
  },
  {
   "cell_type": "code",
   "execution_count": null,
   "metadata": {
    "collapsed": true
   },
   "outputs": [],
   "source": []
  },
  {
   "cell_type": "markdown",
   "metadata": {},
   "source": [
    "**Part C**: Based on the histograms in **Part B**, characterize the distribution of hand-holding records for both urchin and non-urchin eaters."
   ]
  },
  {
   "cell_type": "code",
   "execution_count": null,
   "metadata": {
    "collapsed": true
   },
   "outputs": [],
   "source": []
  },
  {
   "cell_type": "markdown",
   "metadata": {},
   "source": [
    "**Part D**: What are the mean and median hand-holding record differences between otters who eat urchins and otters who don't?  Can you think of any reason not to use the mean as a measure of center to compare records for this problem? "
   ]
  },
  {
   "cell_type": "code",
   "execution_count": null,
   "metadata": {
    "collapsed": true
   },
   "outputs": [],
   "source": []
  },
  {
   "cell_type": "markdown",
   "metadata": {},
   "source": [
    "**Part E**: Create side-by-side box-and-whisker plots to compare the hand-holding records of otters who eat urchins and otters who do not.  Use the box-and-whisker plot conventions discussed in lecture. "
   ]
  },
  {
   "cell_type": "code",
   "execution_count": null,
   "metadata": {
    "collapsed": true
   },
   "outputs": [],
   "source": []
  },
  {
   "cell_type": "markdown",
   "metadata": {},
   "source": [
    "**Part F**: Using the box-and-whisker plots from **Part E** comment on the distributions of hand-holding records of otters within each urchin / non-urchin groups as well as the comparison of the two classes. "
   ]
  },
  {
   "cell_type": "code",
   "execution_count": null,
   "metadata": {
    "collapsed": true
   },
   "outputs": [],
   "source": []
  },
  {
   "cell_type": "markdown",
   "metadata": {},
   "source": [
    "### Problem 6: Cleaning Election Results Data  \n",
    "***\n",
    "\n",
    "The file 2014\\_election\\_results.csv contains data from congressional district races during the 2014 midterm elections.  The problem is that the data is **extremely dirty**.  Your goal in the problem will be to use Pandas to clean the election result data and then, if possible, determine the names of the winners in each congressional district as well as the vote percentage margin that they won by.  Remember that data cleaning and wrangling is a messy business.  Don't be afraid to roll your sleeves up and get hacky!   \n",
    "\n",
    "**Part A**: Complete the clean_election_data( ) function to return a clean DataFrame that accomplishes the following: \n",
    "\n",
    "- remove rows in the DataFrame that are missing values in columns **STATE**, **D**, and/or **GENERAL PERCENT**\n",
    "\n",
    "<p> </p> \n",
    "\n",
    "- replace unknown names in **CANDIDATE NAME** with:  \n",
    "    - the value from **CANDIDATE NAME (Last)**, if available\n",
    "    - the string \"UNKNOWN\" if impossible to determine the full or last name \n",
    "    - **Note**: besides \"NaN\", data collectors appear to have used the string \"Scattered\" to indicate missing names as well\n",
    "<p> </p> \n",
    "- convert the strings in **GENERAL PERCENT** to values of type float between $0$ and $100$ \n",
    "<p> </p> \n",
    "- restrict the DataFrame to only the columns **STATE**, **D**, **CANDIDATE NAME**, **GENERAL PERCENT**"
   ]
  },
  {
   "cell_type": "code",
   "execution_count": null,
   "metadata": {
    "collapsed": true
   },
   "outputs": [],
   "source": [
    "def clean_election_data():\n",
    "    '''\n",
    "    Function to clean election data \n",
    "    '''\n",
    "    \n",
    "    # read in dirty data \n",
    "    df = pd.read_csv(\"2014_election_results.csv\")\n",
    "    \n",
    "    return dfClean"
   ]
  },
  {
   "cell_type": "markdown",
   "metadata": {},
   "source": [
    "**Part B**: Complete the function winners_and_margins( ) that takes in your clean DataFrame from **Part A** and returns a DataFrame with one row per state-district pair and with columns **STATE**, **D**, **WINNER**, and **MARGIN** where\n",
    "\n",
    "- **STATE** and **D** are as defined in the original DataFrame \n",
    "<p> </p> \n",
    "- **WINNER** is the name of the candidate that had the largest general vote percentage (which may possibly be \"UNKNOWN\")\n",
    "<p> </p> \n",
    "- **MARGIN** is the difference between the winning general vote percentage and the second highest vote percentage.  If there is only one candidate in a particular district you should list the general vote percentage obtained by the sole candidate. \n",
    "\n",
    "<p> </p> \n",
    "\n",
    "Finally, your DataFrame should be **sorted from most contentious races to least contentious** (i.e. from smallest winning margin to the largest). "
   ]
  },
  {
   "cell_type": "code",
   "execution_count": null,
   "metadata": {
    "collapsed": true
   },
   "outputs": [],
   "source": [
    "def winners_and_margins(df):\n",
    "    \n",
    "    return dfWinners"
   ]
  }
 ],
 "metadata": {
  "kernelspec": {
   "display_name": "Python 3",
   "language": "python",
   "name": "python3"
  },
  "language_info": {
   "codemirror_mode": {
    "name": "ipython",
    "version": 3
   },
   "file_extension": ".py",
   "mimetype": "text/x-python",
   "name": "python",
   "nbconvert_exporter": "python",
   "pygments_lexer": "ipython3",
   "version": "3.6.3"
  }
 },
 "nbformat": 4,
 "nbformat_minor": 2
}
