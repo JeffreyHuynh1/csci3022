{
 "cells": [
  {
   "cell_type": "markdown",
   "metadata": {},
   "source": [
    "# Homework 1: Data Cleaning and Exploratory Data Analysis \n",
    "***\n",
    "\n",
    "**Name**: Dan Larremore\n",
    "\n",
    "***\n",
    "\n",
    "This assignment is due on Moodle by **5pm on Friday February 2nd**. Your solutions to theoretical questions should be done in Markdown directly below the associated question.  Your solutions to computational questions should include any specified Python code and results as well as written commentary on your conclusions.  Remember that you are encouraged to discuss the problems with your classmates, but **you must write all code and solutions on your own**.   \n",
    "\n",
    "**NOTES**: \n",
    "\n",
    "- Unless a url is given for a data set, you will find the required data in the same directory as this assignment on GitHub.\n",
    "- If you're not familiar with typesetting math directly into Markdown then by all means, do your work on paper first and then typeset it later.  Remember that there is a [reference guide](https://math.meta.stackexchange.com/questions/5020/mathjax-basic-tutorial-and-quick-reference) linked on Piazza on writing math in Markdown. \n",
    "- It is **bad form** to make your reader interpret numerical output from your code.  If a question asks you to compute some value from the data you should show your code output **AND** write a summary of the results in Markdown directly below your code. \n",
    "\n"
   ]
  },
  {
   "cell_type": "code",
   "execution_count": 1,
   "metadata": {},
   "outputs": [],
   "source": [
    "import pandas as pd\n",
    "import numpy as np\n",
    "import matplotlib.pylab as plt\n",
    "%matplotlib inline"
   ]
  },
  {
   "cell_type": "markdown",
   "metadata": {},
   "source": [
    "### Problem 1 \n",
    "***\n",
    "\n",
    "An owner of an animal sanctuary wants to estimate her sanctuary's average food consumption over the next year in order to estimate the future food costs. Her sanctuary comprises 75 pandas, 25 otters, 50 buffalo, and 50 owls. The owner pops open her SanctuaryTrackr App's Current Resident List, randomly selects 24 animals from it, and tracks their food consumptions in pounds per day (lbs/day) over the next week. So as to get a good estimate, she intentionally selects 9 pandas, 3 otters, 6 buffalo, and 6 owls. \n",
    "\n",
    "Identify the following: \n",
    "\n",
    "- the population \n",
    "- the sample frame \n",
    "- the sample \n",
    "- the type of sample \n",
    "- the quantity of interest "
   ]
  },
  {
   "cell_type": "markdown",
   "metadata": {
    "collapsed": true
   },
   "source": [
    "Solution:\n",
    "\n",
    "- the population: All the animals in the sanctuary. \n",
    "- the sample frame: SanctuaryTrackr App's Current Resident List\n",
    "- the sample: The 9 pandas, 3 otters, 6 buffalo, and 6 owls. \n",
    "- the type of sample: Stratified \n",
    "- the quantity of interest: Daily food consumption in lbs/day "
   ]
  },
  {
   "cell_type": "markdown",
   "metadata": {},
   "source": [
    "### Problem 2 \n",
    "***\n",
    "\n",
    "A method to investigate the sensitivity of the sample mean and the sample median to extreme outliers is to replace one or more elements in a given dataset by a number $y$ and investigate the eﬀect when $y$ goes to inﬁnity. To illustrate this, consider the dataset\n",
    "\n",
    "$$\n",
    "4.6 \\quad \n",
    "5.0 \\quad\n",
    "6.5 \\quad\n",
    "7.7 \\quad\n",
    "3.2 \\quad\n",
    "4.2 \\quad\n",
    "3.0 \\quad\n",
    "6.6\n",
    "$$\n",
    "\n",
    "**Part A**: Compute the sample mean and sample median.\n"
   ]
  },
  {
   "cell_type": "code",
   "execution_count": 2,
   "metadata": {},
   "outputs": [
    {
     "name": "stdout",
     "output_type": "stream",
     "text": [
      "The Mean is 5.100\n",
      "The Median is 4.800\n"
     ]
    }
   ],
   "source": [
    "x = np.array([4.6,5.0,6.5,3.2,4.2,3.0,6.6,7.7])\n",
    "print(\"The Mean is {:.3f}\".format(x.mean()))\n",
    "x.sort()\n",
    "print(\"The Median is {:.3f}\".format((x[3]+x[4])/2))"
   ]
  },
  {
   "cell_type": "markdown",
   "metadata": {},
   "source": [
    "Solution:\n",
    "\n",
    "The mean is 5.1 and the median is 4.8."
   ]
  },
  {
   "cell_type": "markdown",
   "metadata": {},
   "source": [
    "**Part B**: We replace the element $5.0$ by some real number $q$. What happens with the sample mean and the sample median of this new dataset as $q \\rightarrow -\\infty$?"
   ]
  },
  {
   "cell_type": "markdown",
   "metadata": {
    "collapsed": true
   },
   "source": [
    "Solution:\n",
    "\n",
    "The median becomes (4.6+4.2)/2 = 4.4.  The mean diverges to $-\\infty$."
   ]
  },
  {
   "cell_type": "markdown",
   "metadata": {},
   "source": [
    "**Part C**: We replace a number of elements by some real number $q$. How many elements do we need to replace so that the sample median of the new dataset goes to infinity as $q \\rightarrow -\\infty$?"
   ]
  },
  {
   "cell_type": "markdown",
   "metadata": {
    "collapsed": true
   },
   "source": [
    "Solution:\n",
    "\n",
    "We need to replace 4 elements, since the median is computed using the 4th and 5th elements of the dataset. "
   ]
  },
  {
   "cell_type": "markdown",
   "metadata": {},
   "source": [
    "**Part D**: Suppose we have another data set of size $n$. How many elements do we need to replace by some real number $q$, so that the sample mean of the new dataset diverges as $q \\rightarrow -\\infty$? And how many elements do we need to replace, so that the sample median of the new dataset goes to negative infinity? "
   ]
  },
  {
   "cell_type": "markdown",
   "metadata": {
    "collapsed": true
   },
   "source": [
    "Solution:\n",
    "\n",
    "Replace just one element for the sample mean to diverge. Replace n/2 elements if n is even and (n+1)/2 elements if n is odd, for the median to diverge."
   ]
  },
  {
   "cell_type": "markdown",
   "metadata": {},
   "source": [
    "### Problem 3 \n",
    "***\n",
    "\n",
    "Let $x_1, x_2, \\ldots, x_n$ be $n$ observations of a variable of interest.  Recall that the sample mean $\\bar{x}_n$ and sample variance $s^2_n$ are given by \n",
    "\n",
    "$$\n",
    "\\bar{x}_n = \\frac{1}{n}\\sum_{k=1}^n x_k \\quad \\textrm{and} \\quad s^2_n = \\frac{1}{n-1}\\sum_{k=1}^n \\left( x_k - \\bar{x}_n\\right)^2\n",
    "$$\n",
    "\n",
    "where here the subscript $n$'s indicate the number of observations in the sample. Notice that a natural computation of the variance requires two passes over the data: one to compute the mean, and a second to subtract the mean from each observation and compute the sum of squares. It is often useful to be able to compute the variance in a single pass, inspecting each value $x_k$ only once; for example, when the data are being collected without enough storage to keep all the values, or when costs of memory access dominate those of computation. In this problem you will explore two methods for such an _online_ computation of the mean and variance.  \n",
    "\n",
    "**Part A**: Show algebraically that the following relation holds between the mean of the first $n-1$ observations and the mean of all $n$ observations: \n",
    "\n",
    "$$\n",
    "\\bar{x}_n = \\bar{x}_{n-1} + \\frac{x_n - \\bar{x}_{n-1}}{n}\n",
    "$$"
   ]
  },
  {
   "cell_type": "markdown",
   "metadata": {
    "collapsed": true
   },
   "source": [
    "***\n",
    "**Solution**: We'll start with $\\bar{x}_n$ and massage it until we get the righthand side of the formula\n",
    "\n",
    "\\begin{eqnarray}\n",
    "\\nonumber \\bar{x}_n &=& \\frac{1}{n} \\sum_{k=1}^n x_k \\\\\n",
    "&=& \\frac{1}{n} \\sum_{k=1}^{n-1} x_k + \\frac{1}{n}x_n \\\\\n",
    "&=& \\frac{n-1}{n-1}\\frac{1}{n} \\sum_{k=1}^{n-1} x_k + \\frac{1}{n}x_n \\\\\n",
    "&=& \\frac{n-1}{n} \\left(\\frac{1}{n-1} \\sum_{k=1}^{n-1} x_k\\right) + \\frac{1}{n}x_n \\\\\n",
    "&=& \\frac{n-1}{n} \\bar{x}_{n-1} + \\frac{1}{n}x_n \\\\\n",
    "&=& \\frac{n}{n}\\bar{x}_{n-1} - \\frac{1}{n}\\bar{x}_{n-1} + \\frac{1}{n}x_n \\\\\n",
    "&=&  \\bar{x}_{n-1} + \\frac{x_n - \\bar{x}_{n-1}}{n} \\quad \\checkmark\n",
    "\\end{eqnarray}\n",
    "***"
   ]
  },
  {
   "cell_type": "markdown",
   "metadata": {},
   "source": [
    "**Part B**: Write a function `my_sample_mean` that takes as its input a numpy array and returns the mean of that numpy array using the formulas from class (written above). You may *not* use numpy's built in mean function. Write another function `my_sample_var` that takes as its input a numpy array and returns the variance of that numpy array, again using the formulas from class (written above). You may *not* use any built-in sample variance functions."
   ]
  },
  {
   "cell_type": "code",
   "execution_count": 3,
   "metadata": {},
   "outputs": [],
   "source": [
    "def my_sample_mean(xx):\n",
    "    n = len(xx)\n",
    "    total = np.sum(xx)\n",
    "    return total/n\n",
    "\n",
    "def my_sample_var(xx):\n",
    "    mean = my_sample_mean(xx)\n",
    "    centered = xx - mean\n",
    "    squared = centered**2\n",
    "    return np.sum(squared)/(len(xx)-1)"
   ]
  },
  {
   "cell_type": "markdown",
   "metadata": {},
   "source": [
    "**Part C**: Use your functions from Part B to compute the sample mean and sample variance of the following array.\n",
    "\n",
    "`otter_weights = [25, 29, 40, 19, 7, 6, 3, 12, 19, 21, 22, 45, 27]`"
   ]
  },
  {
   "cell_type": "code",
   "execution_count": 4,
   "metadata": {},
   "outputs": [
    {
     "name": "stdout",
     "output_type": "stream",
     "text": [
      "21.153846153846153 157.30769230769232\n"
     ]
    }
   ],
   "source": [
    "otter_weights = [25, 29, 40, 19, 7, 6, 3, 12, 19, 21, 22, 45, 27]\n",
    "print(my_sample_mean(otter_weights),my_sample_var(otter_weights))"
   ]
  },
  {
   "cell_type": "markdown",
   "metadata": {},
   "source": [
    "Solution:\n",
    "\n",
    "- Otter weights mean: 21.15\n",
    "- Otter weights variance: 157.31"
   ]
  },
  {
   "cell_type": "markdown",
   "metadata": {},
   "source": [
    "**Part D**: Implement a third function called `update_mean` that implements the formula whose valdity you proved in Part A. (Note: this function will need to take as its input three things: $x_n$, $\\bar{x}_{n-1}$ and $n$.)\n",
    "\n",
    "Use this function to compute the values that you get from taking the mean of the first one otter, the first two otters, the first three otters, and so on up to all the otters. Store your otter means in a numpy array called `otterations`."
   ]
  },
  {
   "cell_type": "code",
   "execution_count": 5,
   "metadata": {},
   "outputs": [],
   "source": [
    "def update_mean(prev_mean,xn,n):\n",
    "    return prev_mean + (xn-prev_mean)/n\n",
    "\n",
    "otterations = []\n",
    "for idx,w in enumerate(otter_weights):\n",
    "    if idx==0:\n",
    "        otterations.append(w)\n",
    "    else:\n",
    "        otterations.append(update_mean(otterations[idx-1],w,idx+1))\n",
    "\n",
    "otterations = np.array(otterations)"
   ]
  },
  {
   "cell_type": "code",
   "execution_count": 6,
   "metadata": {},
   "outputs": [
    {
     "name": "stdout",
     "output_type": "stream",
     "text": [
      "The first 1 otters have average weight 25.000\n",
      "The first 2 otters have average weight 27.000\n",
      "The first 3 otters have average weight 31.333\n",
      "The first 4 otters have average weight 28.250\n",
      "The first 5 otters have average weight 24.000\n",
      "The first 6 otters have average weight 21.000\n",
      "The first 7 otters have average weight 18.429\n",
      "The first 8 otters have average weight 17.625\n",
      "The first 9 otters have average weight 17.778\n",
      "The first 10 otters have average weight 18.100\n",
      "The first 11 otters have average weight 18.455\n",
      "The first 12 otters have average weight 20.667\n",
      "The first 13 otters have average weight 21.154\n"
     ]
    }
   ],
   "source": [
    "for idx,otter in enumerate(otterations):\n",
    "    print(\"The first {:.0f} otters have average weight {:.3f}\".format(idx+1,otter))"
   ]
  },
  {
   "cell_type": "markdown",
   "metadata": {},
   "source": [
    "### Problem 4\n",
    "*** \n",
    "Some claim that the final hours aboard the RMS Titanic were marked by class warfare; others claim it was characterized by male chivalry.  We have the data on survival rates by class and by sex, so let's figure out whether there is evidence for these scenarios. Access the titanic data in `titanic_data.csv` and store it in a Pandas DataFrame. The data contains information pertaining to class status (**Pclass**), survival of passengers (**Survived**), and gender (**Sex**), among others.  "
   ]
  },
  {
   "cell_type": "code",
   "execution_count": 7,
   "metadata": {},
   "outputs": [
    {
     "data": {
      "text/html": [
       "<div>\n",
       "<style scoped>\n",
       "    .dataframe tbody tr th:only-of-type {\n",
       "        vertical-align: middle;\n",
       "    }\n",
       "\n",
       "    .dataframe tbody tr th {\n",
       "        vertical-align: top;\n",
       "    }\n",
       "\n",
       "    .dataframe thead th {\n",
       "        text-align: right;\n",
       "    }\n",
       "</style>\n",
       "<table border=\"1\" class=\"dataframe\">\n",
       "  <thead>\n",
       "    <tr style=\"text-align: right;\">\n",
       "      <th></th>\n",
       "      <th>PassengerId</th>\n",
       "      <th>Survived</th>\n",
       "      <th>Pclass</th>\n",
       "      <th>Name</th>\n",
       "      <th>Sex</th>\n",
       "      <th>Age</th>\n",
       "      <th>SibSp</th>\n",
       "      <th>Parch</th>\n",
       "      <th>Ticket</th>\n",
       "      <th>Fare</th>\n",
       "      <th>Cabin</th>\n",
       "      <th>Embarked</th>\n",
       "    </tr>\n",
       "  </thead>\n",
       "  <tbody>\n",
       "    <tr>\n",
       "      <th>0</th>\n",
       "      <td>1</td>\n",
       "      <td>0</td>\n",
       "      <td>3</td>\n",
       "      <td>Braund, Mr. Owen Harris</td>\n",
       "      <td>male</td>\n",
       "      <td>36.0</td>\n",
       "      <td>1</td>\n",
       "      <td>0</td>\n",
       "      <td>A/5 21171</td>\n",
       "      <td>7.2500</td>\n",
       "      <td>NaN</td>\n",
       "      <td>S</td>\n",
       "    </tr>\n",
       "    <tr>\n",
       "      <th>1</th>\n",
       "      <td>2</td>\n",
       "      <td>1</td>\n",
       "      <td>1</td>\n",
       "      <td>Cumings, Mrs. John Bradley (Florence Briggs Th...</td>\n",
       "      <td>female</td>\n",
       "      <td>18.0</td>\n",
       "      <td>1</td>\n",
       "      <td>0</td>\n",
       "      <td>PC 17599</td>\n",
       "      <td>71.2833</td>\n",
       "      <td>C85</td>\n",
       "      <td>C</td>\n",
       "    </tr>\n",
       "    <tr>\n",
       "      <th>2</th>\n",
       "      <td>3</td>\n",
       "      <td>1</td>\n",
       "      <td>3</td>\n",
       "      <td>Heikkinen, Miss. Laina</td>\n",
       "      <td>female</td>\n",
       "      <td>14.0</td>\n",
       "      <td>0</td>\n",
       "      <td>0</td>\n",
       "      <td>STON/O2. 3101282</td>\n",
       "      <td>7.9250</td>\n",
       "      <td>NaN</td>\n",
       "      <td>S</td>\n",
       "    </tr>\n",
       "    <tr>\n",
       "      <th>3</th>\n",
       "      <td>4</td>\n",
       "      <td>1</td>\n",
       "      <td>1</td>\n",
       "      <td>Futrelle, Mrs. Jacques Heath (Lily May Peel)</td>\n",
       "      <td>female</td>\n",
       "      <td>27.0</td>\n",
       "      <td>1</td>\n",
       "      <td>0</td>\n",
       "      <td>113803</td>\n",
       "      <td>53.1000</td>\n",
       "      <td>C123</td>\n",
       "      <td>S</td>\n",
       "    </tr>\n",
       "    <tr>\n",
       "      <th>4</th>\n",
       "      <td>5</td>\n",
       "      <td>0</td>\n",
       "      <td>3</td>\n",
       "      <td>Allen, Mr. William Henry</td>\n",
       "      <td>male</td>\n",
       "      <td>63.0</td>\n",
       "      <td>0</td>\n",
       "      <td>0</td>\n",
       "      <td>373450</td>\n",
       "      <td>8.0500</td>\n",
       "      <td>NaN</td>\n",
       "      <td>S</td>\n",
       "    </tr>\n",
       "  </tbody>\n",
       "</table>\n",
       "</div>"
      ],
      "text/plain": [
       "   PassengerId  Survived  Pclass  \\\n",
       "0            1         0       3   \n",
       "1            2         1       1   \n",
       "2            3         1       3   \n",
       "3            4         1       1   \n",
       "4            5         0       3   \n",
       "\n",
       "                                                Name     Sex   Age  SibSp  \\\n",
       "0                            Braund, Mr. Owen Harris    male  36.0      1   \n",
       "1  Cumings, Mrs. John Bradley (Florence Briggs Th...  female  18.0      1   \n",
       "2                             Heikkinen, Miss. Laina  female  14.0      0   \n",
       "3       Futrelle, Mrs. Jacques Heath (Lily May Peel)  female  27.0      1   \n",
       "4                           Allen, Mr. William Henry    male  63.0      0   \n",
       "\n",
       "   Parch            Ticket     Fare Cabin Embarked  \n",
       "0      0         A/5 21171   7.2500   NaN        S  \n",
       "1      0          PC 17599  71.2833   C85        C  \n",
       "2      0  STON/O2. 3101282   7.9250   NaN        S  \n",
       "3      0            113803  53.1000  C123        S  \n",
       "4      0            373450   8.0500   NaN        S  "
      ]
     },
     "execution_count": 7,
     "metadata": {},
     "output_type": "execute_result"
    }
   ],
   "source": [
    "df = pd.read_csv(\"titanic_data.csv\")\n",
    "df.head()"
   ]
  },
  {
   "cell_type": "markdown",
   "metadata": {},
   "source": [
    "**Part A**: Consider the two claims: class warfare, and male chivalry. Suppose that class warfare occurred in the final hours aboard the Titanic.  What patterns might you expect to see in the data?  Suppose that male chivalry was widespread during the final hours insteas. What patterns might you then expect to see in the data?  Explain both of these hypothesized patterns in words. Are these two hypotheses mutually exclusive or not?"
   ]
  },
  {
   "cell_type": "markdown",
   "metadata": {},
   "source": [
    "Solution:  If there were class warfare, we would expect that the first class is asserting its privilege over the lower classes, so first class passengers should be more likely to survive.  If there were chivalry, it would be the case that men have lower survival rates than women.  These are not mutually exclusive"
   ]
  },
  {
   "cell_type": "markdown",
   "metadata": {},
   "source": [
    "**Part B**: Create a clean data set by removing any rows from the DataFrame that are missing values corresponding to **Survived**, **Pclass**, **Age**, or **Sex**. Store the clean data in a DataFrame called dfTitanic. "
   ]
  },
  {
   "cell_type": "code",
   "execution_count": 8,
   "metadata": {},
   "outputs": [
    {
     "data": {
      "text/html": [
       "<div>\n",
       "<style scoped>\n",
       "    .dataframe tbody tr th:only-of-type {\n",
       "        vertical-align: middle;\n",
       "    }\n",
       "\n",
       "    .dataframe tbody tr th {\n",
       "        vertical-align: top;\n",
       "    }\n",
       "\n",
       "    .dataframe thead th {\n",
       "        text-align: right;\n",
       "    }\n",
       "</style>\n",
       "<table border=\"1\" class=\"dataframe\">\n",
       "  <thead>\n",
       "    <tr style=\"text-align: right;\">\n",
       "      <th></th>\n",
       "      <th>PassengerId</th>\n",
       "      <th>Survived</th>\n",
       "      <th>Pclass</th>\n",
       "      <th>Name</th>\n",
       "      <th>Sex</th>\n",
       "      <th>Age</th>\n",
       "      <th>SibSp</th>\n",
       "      <th>Parch</th>\n",
       "      <th>Ticket</th>\n",
       "      <th>Fare</th>\n",
       "      <th>Cabin</th>\n",
       "      <th>Embarked</th>\n",
       "    </tr>\n",
       "  </thead>\n",
       "  <tbody>\n",
       "    <tr>\n",
       "      <th>0</th>\n",
       "      <td>1</td>\n",
       "      <td>0</td>\n",
       "      <td>3</td>\n",
       "      <td>Braund, Mr. Owen Harris</td>\n",
       "      <td>male</td>\n",
       "      <td>36.0</td>\n",
       "      <td>1</td>\n",
       "      <td>0</td>\n",
       "      <td>A/5 21171</td>\n",
       "      <td>7.2500</td>\n",
       "      <td>NaN</td>\n",
       "      <td>S</td>\n",
       "    </tr>\n",
       "    <tr>\n",
       "      <th>1</th>\n",
       "      <td>2</td>\n",
       "      <td>1</td>\n",
       "      <td>1</td>\n",
       "      <td>Cumings, Mrs. John Bradley (Florence Briggs Th...</td>\n",
       "      <td>female</td>\n",
       "      <td>18.0</td>\n",
       "      <td>1</td>\n",
       "      <td>0</td>\n",
       "      <td>PC 17599</td>\n",
       "      <td>71.2833</td>\n",
       "      <td>C85</td>\n",
       "      <td>C</td>\n",
       "    </tr>\n",
       "    <tr>\n",
       "      <th>2</th>\n",
       "      <td>3</td>\n",
       "      <td>1</td>\n",
       "      <td>3</td>\n",
       "      <td>Heikkinen, Miss. Laina</td>\n",
       "      <td>female</td>\n",
       "      <td>14.0</td>\n",
       "      <td>0</td>\n",
       "      <td>0</td>\n",
       "      <td>STON/O2. 3101282</td>\n",
       "      <td>7.9250</td>\n",
       "      <td>NaN</td>\n",
       "      <td>S</td>\n",
       "    </tr>\n",
       "    <tr>\n",
       "      <th>3</th>\n",
       "      <td>4</td>\n",
       "      <td>1</td>\n",
       "      <td>1</td>\n",
       "      <td>Futrelle, Mrs. Jacques Heath (Lily May Peel)</td>\n",
       "      <td>female</td>\n",
       "      <td>27.0</td>\n",
       "      <td>1</td>\n",
       "      <td>0</td>\n",
       "      <td>113803</td>\n",
       "      <td>53.1000</td>\n",
       "      <td>C123</td>\n",
       "      <td>S</td>\n",
       "    </tr>\n",
       "    <tr>\n",
       "      <th>4</th>\n",
       "      <td>5</td>\n",
       "      <td>0</td>\n",
       "      <td>3</td>\n",
       "      <td>Allen, Mr. William Henry</td>\n",
       "      <td>male</td>\n",
       "      <td>63.0</td>\n",
       "      <td>0</td>\n",
       "      <td>0</td>\n",
       "      <td>373450</td>\n",
       "      <td>8.0500</td>\n",
       "      <td>NaN</td>\n",
       "      <td>S</td>\n",
       "    </tr>\n",
       "  </tbody>\n",
       "</table>\n",
       "</div>"
      ],
      "text/plain": [
       "   PassengerId  Survived  Pclass  \\\n",
       "0            1         0       3   \n",
       "1            2         1       1   \n",
       "2            3         1       3   \n",
       "3            4         1       1   \n",
       "4            5         0       3   \n",
       "\n",
       "                                                Name     Sex   Age  SibSp  \\\n",
       "0                            Braund, Mr. Owen Harris    male  36.0      1   \n",
       "1  Cumings, Mrs. John Bradley (Florence Briggs Th...  female  18.0      1   \n",
       "2                             Heikkinen, Miss. Laina  female  14.0      0   \n",
       "3       Futrelle, Mrs. Jacques Heath (Lily May Peel)  female  27.0      1   \n",
       "4                           Allen, Mr. William Henry    male  63.0      0   \n",
       "\n",
       "   Parch            Ticket     Fare Cabin Embarked  \n",
       "0      0         A/5 21171   7.2500   NaN        S  \n",
       "1      0          PC 17599  71.2833   C85        C  \n",
       "2      0  STON/O2. 3101282   7.9250   NaN        S  \n",
       "3      0            113803  53.1000  C123        S  \n",
       "4      0            373450   8.0500   NaN        S  "
      ]
     },
     "execution_count": 8,
     "metadata": {},
     "output_type": "execute_result"
    }
   ],
   "source": [
    "dfTitanic = df.dropna(subset=[\"Survived\", \"Pclass\", \"Age\", \"Sex\"])\n",
    "dfTitanic.head()"
   ]
  },
  {
   "cell_type": "markdown",
   "metadata": {},
   "source": [
    "**Part C**: Determine the fraction of survivors from each passenger class. "
   ]
  },
  {
   "cell_type": "code",
   "execution_count": 10,
   "metadata": {},
   "outputs": [
    {
     "name": "stdout",
     "output_type": "stream",
     "text": [
      "Class 1 Survival Fraction: 0.643\n",
      "Class 2 Survival Fraction: 0.483\n",
      "Class 3 Survival Fraction: 0.252\n"
     ]
    }
   ],
   "source": [
    "for pc in [1,2,3]:\n",
    "    survived = dfTitanic.loc[dfTitanic[\"Pclass\"]==pc, \"Survived\"].sum()\n",
    "    total = len(dfTitanic.loc[dfTitanic[\"Pclass\"]==pc])\n",
    "    print(\"Class {} Survival Fraction: {:.3f}\".format(pc, survived/total))"
   ]
  },
  {
   "cell_type": "markdown",
   "metadata": {},
   "source": [
    "***\n",
    "**Solution**: The fraction of survivors by class are as follows \n",
    "\n",
    "\\begin{array}{c|c}\n",
    "\\textrm{Class} & \\textrm{Survival Rate} \\\\\n",
    "\\hline\n",
    "1 & 0.643 \\\\\n",
    "2 & 0.483 \\\\\n",
    "3 & 0.252\n",
    "\\end{array}\n",
    "\n",
    "We definitely see a correlation between Survival Rate and being a member of the upper class \n",
    "\n",
    "***"
   ]
  },
  {
   "cell_type": "markdown",
   "metadata": {},
   "source": [
    "**Part D**: Compute the fraction of survivors according to class and gender.  Did men in first class or women in third class have a higher survival rate? "
   ]
  },
  {
   "cell_type": "code",
   "execution_count": 11,
   "metadata": {},
   "outputs": [
    {
     "name": "stdout",
     "output_type": "stream",
     "text": [
      "1 male 36 93\n",
      "Class 1   male Survival Fraction: 0.387\n",
      "1 female 72 75\n",
      "Class 1 female Survival Fraction: 0.960\n",
      "2 male 16 87\n",
      "Class 2   male Survival Fraction: 0.184\n",
      "2 female 54 58\n",
      "Class 2 female Survival Fraction: 0.931\n",
      "3 male 39 283\n",
      "Class 3   male Survival Fraction: 0.138\n",
      "3 female 62 118\n",
      "Class 3 female Survival Fraction: 0.525\n"
     ]
    }
   ],
   "source": [
    "for pc in [1,2,3]:\n",
    "    for sex in [\"male\", \"female\"]:\n",
    "        survived = dfTitanic.loc[(dfTitanic[\"Pclass\"]==pc) & (dfTitanic[\"Sex\"]==sex), \"Survived\"].sum()\n",
    "        total = len(dfTitanic.loc[(dfTitanic[\"Pclass\"]==pc) & (dfTitanic[\"Sex\"]==sex), \"Survived\"])\n",
    "        print(pc, sex, survived, total)\n",
    "        print(\"Class {} {:>6} Survival Fraction: {:.3f}\".format(pc, sex, survived/total))"
   ]
  },
  {
   "cell_type": "markdown",
   "metadata": {},
   "source": [
    "***\n",
    "**Solution**: The fraction of survivors by class and sex are as follows \n",
    "\n",
    "\\begin{array}{c|c|c}\n",
    "\\textrm{Class} & \\textrm{Sex} & \\textrm{Survival Rate} \\\\\n",
    "\\hline\n",
    "1 & \\textrm{male}   &  0.387 \\\\\n",
    "1 & \\textrm{female} &  0.960 \\\\ \n",
    "2 & \\textrm{male}   &  0.184 \\\\\n",
    "2 & \\textrm{female} &  0.931 \\\\ \n",
    "3 & \\textrm{male}   &  0.138 \\\\\n",
    "3 & \\textrm{female} &  0.525 \\\\ \n",
    "\\end{array}\n",
    "\n",
    "Women in 3rd class survived at a slightly higher rate than men in 1st class. \n",
    "\n",
    "***"
   ]
  },
  {
   "cell_type": "markdown",
   "metadata": {},
   "source": [
    "**Part E**: How would you characterize the distribution of **AGE**? (By _characterize_ we mean that you should indicate whether the data are unimodal, bimodal, multimodal, symmetric, negatively skewed, positively skewed, etc.)  Make any necessary graphical summaries to justify your conclusion. "
   ]
  },
  {
   "cell_type": "code",
   "execution_count": 14,
   "metadata": {},
   "outputs": [
    {
     "data": {
      "image/png": "[encoded data removed]",
      "text/plain": [
       "<matplotlib.figure.Figure at 0x115e28cc0>"
      ]
     },
     "metadata": {},
     "output_type": "display_data"
    }
   ],
   "source": [
    "fig, ax = plt.subplots(figsize=(12,6))\n",
    "dfTitanic.hist(column=\"Age\", ax=ax, facecolor=\"steelblue\", edgecolor=\"white\",bins=15)\n",
    "ax.set_xlabel(\"Age\", fontsize=16)\n",
    "ax.set_ylabel(\"Frequency\", fontsize=16)\n",
    "ax.set_title(\"Passenger Age\", fontsize=24)\n",
    "ax.grid(alpha=0.25)\n",
    "ax.set_axisbelow(True)"
   ]
  },
  {
   "cell_type": "markdown",
   "metadata": {},
   "source": [
    "The distribution is **unimodal** and has a rightward or **positive skew**."
   ]
  },
  {
   "cell_type": "markdown",
   "metadata": {},
   "source": [
    "**Part F**: Were the median and mean ages for females who survived higher or lower than for females who did not survive?  "
   ]
  },
  {
   "cell_type": "code",
   "execution_count": 15,
   "metadata": {},
   "outputs": [
    {
     "name": "stdout",
     "output_type": "stream",
     "text": [
      "Mean Age:  Survived = 29.619 vs. Died = 29.750\n",
      "Median Age: Survived = 27.000 vs. Died = 29.000\n"
     ]
    }
   ],
   "source": [
    "mean_survived = dfTitanic.loc[dfTitanic[\"Survived\"]==1, \"Age\"].mean()\n",
    "mean_died = dfTitanic.loc[dfTitanic[\"Survived\"]==0, \"Age\"].mean()\n",
    "median_survived = dfTitanic.loc[dfTitanic[\"Survived\"]==1, \"Age\"].median()\n",
    "median_died = dfTitanic.loc[dfTitanic[\"Survived\"]==0, \"Age\"].median()\n",
    "\n",
    "print(\"Mean Age:  Survived = {:.3f} vs. Died = {:.3f}\".format(mean_survived, mean_died))\n",
    "print(\"Median Age: Survived = {:.3f} vs. Died = {:.3f}\".format(median_survived, median_died))"
   ]
  },
  {
   "cell_type": "markdown",
   "metadata": {},
   "source": [
    "The means are practically identical. The median age of female survivors was 2 years younger than the median age of those women who didn't survive. "
   ]
  },
  {
   "cell_type": "markdown",
   "metadata": {},
   "source": [
    "**Part G**: Do the data suggest class warfare, male chivalry, or some combination of both characteristics in the final hours aboard the Titanic?  Justify your conclusion based on the computations done above, or do any other analysis that you like, but be sure to clearly justify your conclusion. "
   ]
  },
  {
   "cell_type": "markdown",
   "metadata": {
    "collapsed": true
   },
   "source": [
    "Women tended to survive more than men, so it appears that the men were being chivalrous and making sure that the women got off the boat first. On the other hand, the first class folks were far more likely to survive. It looks, therefore, like a mix of both. "
   ]
  },
  {
   "cell_type": "markdown",
   "metadata": {},
   "source": [
    "### Problem 5 - Not anotter homework problem! :(\n",
    "***\n",
    "\n",
    "Otters are undisputedly one of nature's most awesome animals. From a cursory Google Image Search of *baby otter* or *otters holding hands* or *otters water slide* this is easy to demonstrate.\n",
    "\n",
    "Because the CS Department was able to pull a few strings, we have obtained a dataset of sea otter behavior. For each otter studied, the dataset contains:\n",
    "\n",
    "- **hhrecord**: the otter's personal record for hand-holding (hours; 999) \n",
    "- **pawsize**: the size of the otter's paw (unspecified units; 999)\n",
    "- **floatation**: boolean, indicating whether the otter displayed leadership in floatation. (9)\n",
    "- **satscore**: the otter's projected SAT score percentile. (unclear why this was included; 99)\n",
    "- **height**: otter's height (unspecified units; 99)\n",
    "- **weight**: otter's weight (unspecified units; 999)\n",
    "- **urchins**: boolean, indicating whether the otter was observed eating urchins (9)\n",
    "\n",
    "All these data are included in the whitespace-delimited file `otters.data`"
   ]
  },
  {
   "cell_type": "code",
   "execution_count": 16,
   "metadata": {},
   "outputs": [
    {
     "data": {
      "text/html": [
       "<div>\n",
       "<style scoped>\n",
       "    .dataframe tbody tr th:only-of-type {\n",
       "        vertical-align: middle;\n",
       "    }\n",
       "\n",
       "    .dataframe tbody tr th {\n",
       "        vertical-align: top;\n",
       "    }\n",
       "\n",
       "    .dataframe thead th {\n",
       "        text-align: right;\n",
       "    }\n",
       "</style>\n",
       "<table border=\"1\" class=\"dataframe\">\n",
       "  <thead>\n",
       "    <tr style=\"text-align: right;\">\n",
       "      <th></th>\n",
       "      <th>hhrecord</th>\n",
       "      <th>pawsize</th>\n",
       "      <th>floatation</th>\n",
       "      <th>satscore</th>\n",
       "      <th>height</th>\n",
       "      <th>weight</th>\n",
       "      <th>urchins</th>\n",
       "    </tr>\n",
       "  </thead>\n",
       "  <tbody>\n",
       "    <tr>\n",
       "      <th>0</th>\n",
       "      <td>120</td>\n",
       "      <td>284</td>\n",
       "      <td>0</td>\n",
       "      <td>27</td>\n",
       "      <td>62</td>\n",
       "      <td>100</td>\n",
       "      <td>0</td>\n",
       "    </tr>\n",
       "    <tr>\n",
       "      <th>1</th>\n",
       "      <td>113</td>\n",
       "      <td>282</td>\n",
       "      <td>0</td>\n",
       "      <td>33</td>\n",
       "      <td>64</td>\n",
       "      <td>135</td>\n",
       "      <td>0</td>\n",
       "    </tr>\n",
       "    <tr>\n",
       "      <th>2</th>\n",
       "      <td>128</td>\n",
       "      <td>279</td>\n",
       "      <td>0</td>\n",
       "      <td>28</td>\n",
       "      <td>64</td>\n",
       "      <td>115</td>\n",
       "      <td>1</td>\n",
       "    </tr>\n",
       "    <tr>\n",
       "      <th>3</th>\n",
       "      <td>123</td>\n",
       "      <td>999</td>\n",
       "      <td>0</td>\n",
       "      <td>36</td>\n",
       "      <td>69</td>\n",
       "      <td>190</td>\n",
       "      <td>0</td>\n",
       "    </tr>\n",
       "    <tr>\n",
       "      <th>4</th>\n",
       "      <td>108</td>\n",
       "      <td>282</td>\n",
       "      <td>0</td>\n",
       "      <td>23</td>\n",
       "      <td>67</td>\n",
       "      <td>125</td>\n",
       "      <td>1</td>\n",
       "    </tr>\n",
       "  </tbody>\n",
       "</table>\n",
       "</div>"
      ],
      "text/plain": [
       "   hhrecord  pawsize  floatation  satscore  height  weight  urchins\n",
       "0       120      284           0        27      62     100        0\n",
       "1       113      282           0        33      64     135        0\n",
       "2       128      279           0        28      64     115        1\n",
       "3       123      999           0        36      69     190        0\n",
       "4       108      282           0        23      67     125        1"
      ]
     },
     "execution_count": 16,
     "metadata": {},
     "output_type": "execute_result"
    }
   ],
   "source": [
    "df = pd.read_csv(\"otters.data\", delim_whitespace=True)\n",
    "df.head()"
   ]
  },
  {
   "cell_type": "markdown",
   "metadata": {},
   "source": [
    "\n",
    "**Part A**: Create a clean data set that removes subjects if any observations on the subject are unknown.  Note that that collectors of the data set used values like $9$, $99$, $999$, to denote unknown values. Those values are listed parenthetically in the description above Store the modified data set in a Pandas DataFrame called dfOtters. "
   ]
  },
  {
   "cell_type": "code",
   "execution_count": 17,
   "metadata": {},
   "outputs": [
    {
     "data": {
      "text/html": [
       "<div>\n",
       "<style scoped>\n",
       "    .dataframe tbody tr th:only-of-type {\n",
       "        vertical-align: middle;\n",
       "    }\n",
       "\n",
       "    .dataframe tbody tr th {\n",
       "        vertical-align: top;\n",
       "    }\n",
       "\n",
       "    .dataframe thead th {\n",
       "        text-align: right;\n",
       "    }\n",
       "</style>\n",
       "<table border=\"1\" class=\"dataframe\">\n",
       "  <thead>\n",
       "    <tr style=\"text-align: right;\">\n",
       "      <th></th>\n",
       "      <th>hhrecord</th>\n",
       "      <th>pawsize</th>\n",
       "      <th>floatation</th>\n",
       "      <th>satscore</th>\n",
       "      <th>height</th>\n",
       "      <th>weight</th>\n",
       "      <th>urchins</th>\n",
       "    </tr>\n",
       "  </thead>\n",
       "  <tbody>\n",
       "    <tr>\n",
       "      <th>0</th>\n",
       "      <td>120.0</td>\n",
       "      <td>284.0</td>\n",
       "      <td>0.0</td>\n",
       "      <td>27</td>\n",
       "      <td>62.0</td>\n",
       "      <td>100.0</td>\n",
       "      <td>0.0</td>\n",
       "    </tr>\n",
       "    <tr>\n",
       "      <th>1</th>\n",
       "      <td>113.0</td>\n",
       "      <td>282.0</td>\n",
       "      <td>0.0</td>\n",
       "      <td>33</td>\n",
       "      <td>64.0</td>\n",
       "      <td>135.0</td>\n",
       "      <td>0.0</td>\n",
       "    </tr>\n",
       "    <tr>\n",
       "      <th>2</th>\n",
       "      <td>128.0</td>\n",
       "      <td>279.0</td>\n",
       "      <td>0.0</td>\n",
       "      <td>28</td>\n",
       "      <td>64.0</td>\n",
       "      <td>115.0</td>\n",
       "      <td>1.0</td>\n",
       "    </tr>\n",
       "    <tr>\n",
       "      <th>4</th>\n",
       "      <td>108.0</td>\n",
       "      <td>282.0</td>\n",
       "      <td>0.0</td>\n",
       "      <td>23</td>\n",
       "      <td>67.0</td>\n",
       "      <td>125.0</td>\n",
       "      <td>1.0</td>\n",
       "    </tr>\n",
       "    <tr>\n",
       "      <th>5</th>\n",
       "      <td>136.0</td>\n",
       "      <td>286.0</td>\n",
       "      <td>0.0</td>\n",
       "      <td>25</td>\n",
       "      <td>62.0</td>\n",
       "      <td>93.0</td>\n",
       "      <td>0.0</td>\n",
       "    </tr>\n",
       "  </tbody>\n",
       "</table>\n",
       "</div>"
      ],
      "text/plain": [
       "   hhrecord  pawsize  floatation  satscore  height  weight  urchins\n",
       "0     120.0    284.0         0.0        27    62.0   100.0      0.0\n",
       "1     113.0    282.0         0.0        33    64.0   135.0      0.0\n",
       "2     128.0    279.0         0.0        28    64.0   115.0      1.0\n",
       "4     108.0    282.0         0.0        23    67.0   125.0      1.0\n",
       "5     136.0    286.0         0.0        25    62.0    93.0      0.0"
      ]
     },
     "execution_count": 17,
     "metadata": {},
     "output_type": "execute_result"
    }
   ],
   "source": [
    "dfOtters = df.copy()\n",
    "dfOtters.loc[dfOtters[\"hhrecord\"]==999, \"hhrecord\"] = np.nan\n",
    "dfOtters.loc[dfOtters[\"pawsize\"]==999, \"pawsize\"] = np.nan\n",
    "dfOtters.loc[dfOtters[\"floatation\"]==9, \"floatation\"] = np.nan\n",
    "dfOtters.loc[dfOtters[\"height\"]==99, \"height\"] = np.nan\n",
    "dfOtters.loc[dfOtters[\"weight\"]==999, \"weight\"] = np.nan\n",
    "dfOtters.loc[dfOtters[\"urchins\"]==9, \"urchins\"] = np.nan\n",
    "dfOtters = dfOtters.dropna()\n",
    "dfOtters.head()"
   ]
  },
  {
   "cell_type": "markdown",
   "metadata": {},
   "source": [
    "**Part B**: Use the information in dfOtters to create a density histogram of the hand-holding records of otters who do not eat sea urchins (urchins=0) and another histogram placed directly below the first in the same graphics device for the hand-holding records of otters who do eat urchins (urchins=1).  Make the range of the horizontal axis $30$ to $180$ (hours) for both histograms.  Make sure to give each subplot titles and label axes. "
   ]
  },
  {
   "cell_type": "code",
   "execution_count": 18,
   "metadata": {},
   "outputs": [
    {
     "data": {
      "image/png": "[encoded data removed]",
      "text/plain": [
       "<matplotlib.figure.Figure at 0x115fb5b38>"
      ]
     },
     "metadata": {},
     "output_type": "display_data"
    }
   ],
   "source": [
    "fig, axes = plt.subplots(nrows=2, ncols=1, figsize=(12,12))\n",
    "dfNoUrchin = dfOtters.loc[dfOtters[\"urchins\"]==0]\n",
    "dfNoUrchin.hist(column=\"hhrecord\", ax=axes[0], normed=True, facecolor=\"steelblue\", edgecolor=\"white\")\n",
    "axes[0].set_xlabel(\"HH Record (hours)\", fontsize=16)\n",
    "axes[0].set_ylabel(\"Density\", fontsize=16)\n",
    "axes[0].set_title(\"HH Record for non-Urchin Eaters\", fontsize=20)\n",
    "axes[0].set_xlim([30,180])\n",
    "axes[0].set_ylim([0,0.025])\n",
    "axes[0].grid(alpha=0.25)\n",
    "axes[0].set_axisbelow(True)\n",
    "\n",
    "dfUrchin = dfOtters.loc[dfOtters[\"urchins\"]==1]\n",
    "dfUrchin.hist(column=\"hhrecord\", ax=axes[1], normed=True, facecolor=\"steelblue\", edgecolor=\"white\")\n",
    "axes[1].set_xlabel(\"HH Record (hours)\", fontsize=16)\n",
    "axes[1].set_ylabel(\"Density\", fontsize=16)\n",
    "axes[1].set_title(\"HH Record for Urchin Eaters\", fontsize=20)\n",
    "axes[1].set_xlim([30,180])\n",
    "axes[1].set_ylim([0,0.025]);\n",
    "axes[1].grid(alpha=0.25)\n",
    "axes[1].set_axisbelow(True)"
   ]
  },
  {
   "cell_type": "markdown",
   "metadata": {},
   "source": [
    "**Part C**: Based on the histograms in **Part B**, characterize the distribution of hand-holding records for both urchin and non-urchin eaters."
   ]
  },
  {
   "cell_type": "markdown",
   "metadata": {
    "collapsed": true
   },
   "source": [
    "Solution: both distributions are unimodal, and perhaps slightly negatively skewed. The typical Urchin eater holds hands for a shorter amount of time than the typical non-Urchin eater. "
   ]
  },
  {
   "cell_type": "markdown",
   "metadata": {},
   "source": [
    "**Part D**: What are the mean and median hand-holding record differences between otters who eat urchins and otters who don't?  Can you think of any reason not to use the mean as a measure of center to compare records for this problem? "
   ]
  },
  {
   "cell_type": "code",
   "execution_count": 19,
   "metadata": {},
   "outputs": [
    {
     "name": "stdout",
     "output_type": "stream",
     "text": [
      "Mean Record Difference = Mean(urchins==0)-Mean(urchins==1) = 9.261 hrs\n",
      "Median Record Difference = Med(urchins==0)-Med(urchins==1) = 8.000 hrs\n"
     ]
    }
   ],
   "source": [
    "mean_diff = dfOtters.loc[dfOtters[\"urchins\"]==0, \"hhrecord\"].mean() - dfOtters.loc[dfOtters[\"urchins\"]==1, \"hhrecord\"].mean()\n",
    "median_diff = dfOtters.loc[dfOtters[\"urchins\"]==0, \"hhrecord\"].median() - dfOtters.loc[dfOtters[\"urchins\"]==1, \"hhrecord\"].median()\n",
    "print(\"Mean Record Difference = Mean(urchins==0)-Mean(urchins==1) = {:.3f} hrs\".format(mean_diff))\n",
    "print(\"Median Record Difference = Med(urchins==0)-Med(urchins==1) = {:.3f} hrs\".format(median_diff))"
   ]
  },
  {
   "cell_type": "markdown",
   "metadata": {},
   "source": [
    "**Part E**: Create side-by-side box-and-whisker plots to compare the hand-holding records of otters who eat urchins and otters who do not.  Use the box-and-whisker plot conventions discussed in lecture. "
   ]
  },
  {
   "cell_type": "code",
   "execution_count": 20,
   "metadata": {},
   "outputs": [
    {
     "data": {
      "text/plain": [
       "Text(0,0.5,'handholding record')"
      ]
     },
     "execution_count": 20,
     "metadata": {},
     "output_type": "execute_result"
    },
    {
     "data": {
      "image/png": "[encoded data removed]",
      "text/plain": [
       "<matplotlib.figure.Figure at 0x115fc4080>"
      ]
     },
     "metadata": {},
     "output_type": "display_data"
    }
   ],
   "source": [
    "ax = dfOtters.boxplot(column=\"hhrecord\",by=[\"urchins\"],figsize=(12,6))\n",
    "plt.xlabel('Urchin Eater?')\n",
    "plt.ylabel('handholding record')"
   ]
  },
  {
   "cell_type": "markdown",
   "metadata": {},
   "source": [
    "**Part F**: Using the box-and-whisker plots from **Part E** comment on the distributions of hand-holding records of otters within each urchin / non-urchin groups as well as the comparison of the two classes. "
   ]
  },
  {
   "cell_type": "markdown",
   "metadata": {},
   "source": [
    "- Non-urchin eaters have a higher median than urchin eaters\n",
    "\n",
    "- Non-urchin eaters have more outliers\n",
    "\n",
    "- IQRs are comparable, although urchin eaters have a slightly larger IQR than non-eaters."
   ]
  },
  {
   "cell_type": "markdown",
   "metadata": {},
   "source": [
    "### Problem 6: Cleaning Election Results Data  \n",
    "***\n",
    "\n",
    "The file 2014\\_election\\_results.csv contains data from congressional district races during the 2014 midterm elections.  The problem is that the data is **extremely dirty**.  Your goal in the problem will be to use Pandas to clean the election result data and then, if possible, determine the names of the winners in each congressional district as well as the vote percentage margin that they won by.  Remember that data cleaning and wrangling is a messy business.  Don't be afraid to roll your sleeves up and get hacky!   \n",
    "\n",
    "**Part A**: Complete the clean_election_data( ) function to return a clean DataFrame that accomplishes the following: \n",
    "\n",
    "- remove rows in the DataFrame that are missing values in columns **STATE**, **D**, and/or **GENERAL PERCENT**\n",
    "\n",
    "<p> </p> \n",
    "\n",
    "- replace unknown names in **CANDIDATE NAME** with:  \n",
    "    - the value from **CANDIDATE NAME (Last)**, if available\n",
    "    - the string \"UNKNOWN\" if impossible to determine the full or last name \n",
    "    - **Note**: besides \"NaN\", data collectors appear to have used the string \"Scattered\" to indicate missing names as well\n",
    "<p> </p> \n",
    "- convert the strings in **GENERAL PERCENT** to values of type float between $0$ and $100$ \n",
    "<p> </p> \n",
    "- restrict the DataFrame to only the columns **STATE**, **D**, **CANDIDATE NAME**, **GENERAL PERCENT**"
   ]
  },
  {
   "cell_type": "code",
   "execution_count": 21,
   "metadata": {},
   "outputs": [],
   "source": [
    "# ----------------------------\n",
    "# A solution \n",
    "# ----------------------------\n",
    "def clean_district_margins():\n",
    "    '''\n",
    "    Function to clean election data \n",
    "    '''\n",
    "    \n",
    "    # read in dirty data \n",
    "    df = pd.read_csv(\"2014_election_results.csv\")\n",
    "    \n",
    "    # drop rows that have no state, district, or vote percentage \n",
    "    df = df.dropna(subset=[\"STATE\", \"D\", \"GENERAL PERCENT\"])\n",
    "    \n",
    "    # replace missing names in CANDIDATE NAME \n",
    "    df.loc[:, \"CANDIDATE NAME\"] = df.loc[:, \"CANDIDATE NAME\"].fillna(\"UNKNOWN\") \n",
    "    df.loc[df[\"CANDIDATE NAME\"].str.contains(\"Scattered\"), \"CANDIDATE NAME\"] = \"UNKNOWN\"\n",
    "    \n",
    "    # replace missing names in CANDIDATE NAME (Last)\n",
    "    df.loc[:, \"CANDIDATE NAME (Last)\"] = df.loc[:, \"CANDIDATE NAME (Last)\"].fillna(\"UNKNOWN\") \n",
    "    df.loc[df[\"CANDIDATE NAME (Last)\"].str.contains(\"Scattered\"), \"CANDIDATE NAME (Last)\"] = \"UNKNOWN\"\n",
    "    \n",
    "    # Set missing names from Last Name column if available \n",
    "    df.loc[:,\"CANDIDATE NAME\"] = df.apply(lambda row: row[\"CANDIDATE NAME (Last)\"] if row[\"CANDIDATE NAME\"] == \"UNKNOWN\" \n",
    "                                          else row[\"CANDIDATE NAME\"], axis=1)\n",
    "    \n",
    "    # get rid of columns we don't care about \n",
    "    df = df.loc[:,[\"STATE\", \"D\", \"CANDIDATE NAME\", \"GENERAL PERCENT\"]]\n",
    "    \n",
    "    # Convert vote percentage strings into numerical values for later sorting\n",
    "    df.loc[:,'GENERAL PERCENT'] = df.loc[:,'GENERAL PERCENT'].apply(\n",
    "        lambda gstr: float(gstr.replace(\",\",\".\").replace(\"%\",\"\")))\n",
    "    \n",
    "    return df"
   ]
  },
  {
   "cell_type": "code",
   "execution_count": 23,
   "metadata": {},
   "outputs": [
    {
     "data": {
      "text/html": [
       "<div>\n",
       "<style scoped>\n",
       "    .dataframe tbody tr th:only-of-type {\n",
       "        vertical-align: middle;\n",
       "    }\n",
       "\n",
       "    .dataframe tbody tr th {\n",
       "        vertical-align: top;\n",
       "    }\n",
       "\n",
       "    .dataframe thead th {\n",
       "        text-align: right;\n",
       "    }\n",
       "</style>\n",
       "<table border=\"1\" class=\"dataframe\">\n",
       "  <thead>\n",
       "    <tr style=\"text-align: right;\">\n",
       "      <th></th>\n",
       "      <th>STATE</th>\n",
       "      <th>D</th>\n",
       "      <th>CANDIDATE NAME</th>\n",
       "      <th>GENERAL PERCENT</th>\n",
       "    </tr>\n",
       "  </thead>\n",
       "  <tbody>\n",
       "    <tr>\n",
       "      <th>0</th>\n",
       "      <td>Alabama</td>\n",
       "      <td>1</td>\n",
       "      <td>Byrne, Bradley</td>\n",
       "      <td>68.16</td>\n",
       "    </tr>\n",
       "    <tr>\n",
       "      <th>1</th>\n",
       "      <td>Alabama</td>\n",
       "      <td>1</td>\n",
       "      <td>LeFlore, Burton R.</td>\n",
       "      <td>31.71</td>\n",
       "    </tr>\n",
       "    <tr>\n",
       "      <th>2</th>\n",
       "      <td>Alabama</td>\n",
       "      <td>1</td>\n",
       "      <td>UNKNOWN</td>\n",
       "      <td>0.13</td>\n",
       "    </tr>\n",
       "    <tr>\n",
       "      <th>5</th>\n",
       "      <td>Alabama</td>\n",
       "      <td>2</td>\n",
       "      <td>Roby, Martha</td>\n",
       "      <td>67.34</td>\n",
       "    </tr>\n",
       "    <tr>\n",
       "      <th>6</th>\n",
       "      <td>Alabama</td>\n",
       "      <td>2</td>\n",
       "      <td>Wright</td>\n",
       "      <td>32.56</td>\n",
       "    </tr>\n",
       "  </tbody>\n",
       "</table>\n",
       "</div>"
      ],
      "text/plain": [
       "     STATE  D      CANDIDATE NAME  GENERAL PERCENT\n",
       "0  Alabama  1      Byrne, Bradley            68.16\n",
       "1  Alabama  1  LeFlore, Burton R.            31.71\n",
       "2  Alabama  1             UNKNOWN             0.13\n",
       "5  Alabama  2        Roby, Martha            67.34\n",
       "6  Alabama  2              Wright            32.56"
      ]
     },
     "execution_count": 23,
     "metadata": {},
     "output_type": "execute_result"
    }
   ],
   "source": [
    "dfClean = clean_district_margins()\n",
    "dfClean.head()"
   ]
  },
  {
   "cell_type": "code",
   "execution_count": 24,
   "metadata": {},
   "outputs": [
    {
     "name": "stdout",
     "output_type": "stream",
     "text": [
      "<class 'pandas.core.frame.DataFrame'>\n",
      "Int64Index: 1369 entries, 0 to 3706\n",
      "Data columns (total 4 columns):\n",
      "STATE              1369 non-null object\n",
      "D                  1369 non-null object\n",
      "CANDIDATE NAME     1369 non-null object\n",
      "GENERAL PERCENT    1369 non-null float64\n",
      "dtypes: float64(1), object(3)\n",
      "memory usage: 53.5+ KB\n"
     ]
    }
   ],
   "source": [
    "dfClean.info()"
   ]
  },
  {
   "cell_type": "markdown",
   "metadata": {},
   "source": [
    "**Part B**: Complete the function winners_and_margins( ) that takes in your clean DataFrame from **Part A** and returns a DataFrame with one row per state-district pair and with columns **STATE**, **D**, **WINNER**, and **MARGIN** where\n",
    "\n",
    "- **STATE** and **D** are as defined in the original DataFrame \n",
    "<p> </p> \n",
    "- **WINNER** is the name of the candidate that had the largest general vote percentage (which may possibly be \"UNKNOWN\")\n",
    "<p> </p> \n",
    "- **MARGIN** is the difference between the winning general vote percentage and the second highest vote percentage.  If there is only one candidate in a particular district you should list the general vote percentage obtained by the sole candidate. \n",
    "\n",
    "<p> </p> \n",
    "\n",
    "Finally, your DataFrame should be **sorted from most contentious races to least contentious** (i.e. from smallest winning margin to the largest). "
   ]
  },
  {
   "cell_type": "code",
   "execution_count": 25,
   "metadata": {},
   "outputs": [],
   "source": [
    "# ----------------------------\n",
    "# A solution \n",
    "# ----------------------------\n",
    "\n",
    "def get_margin(x):\n",
    "    return np.sort(x)[-1] - np.sort(x)[-2] if len(x) > 1 else np.max(x)\n",
    "\n",
    "def winners_and_margins(df):\n",
    "    \n",
    "    # Get DataFrame with winning margins in each state-district combo \n",
    "    dfM = df.groupby([\"STATE\", \"D\"], as_index=False)[\"GENERAL PERCENT\"].agg({\"MARGIN\" : get_margin})\n",
    "    \n",
    "    # Slice out names of winners \n",
    "    mask = df.groupby([\"STATE\", \"D\"], as_index=False)[\"GENERAL PERCENT\"].agg('idxmax')\n",
    "    dfW  = df.loc[mask, [\"STATE\", \"D\", \"CANDIDATE NAME\"]]\n",
    "    dfW.rename(columns={\"CANDIDATE NAME\" : \"WINNER\"}, inplace=True)\n",
    "    \n",
    "    # Merge the DataFrames \n",
    "    dfWinnersMargins = pd.merge(dfM, dfW)\n",
    "    \n",
    "    # Sort by margin \n",
    "    dfWinnersMargins.sort_values(by=\"MARGIN\",inplace=True)\n",
    "    \n",
    "    return dfWinnersMargins"
   ]
  },
  {
   "cell_type": "code",
   "execution_count": 26,
   "metadata": {},
   "outputs": [
    {
     "data": {
      "text/html": [
       "<div>\n",
       "<style scoped>\n",
       "    .dataframe tbody tr th:only-of-type {\n",
       "        vertical-align: middle;\n",
       "    }\n",
       "\n",
       "    .dataframe tbody tr th {\n",
       "        vertical-align: top;\n",
       "    }\n",
       "\n",
       "    .dataframe thead th {\n",
       "        text-align: right;\n",
       "    }\n",
       "</style>\n",
       "<table border=\"1\" class=\"dataframe\">\n",
       "  <thead>\n",
       "    <tr style=\"text-align: right;\">\n",
       "      <th></th>\n",
       "      <th>STATE</th>\n",
       "      <th>D</th>\n",
       "      <th>MARGIN</th>\n",
       "      <th>WINNER</th>\n",
       "    </tr>\n",
       "  </thead>\n",
       "  <tbody>\n",
       "    <tr>\n",
       "      <th>10</th>\n",
       "      <td>Arizona</td>\n",
       "      <td>2</td>\n",
       "      <td>0.07</td>\n",
       "      <td>McSally</td>\n",
       "    </tr>\n",
       "    <tr>\n",
       "      <th>343</th>\n",
       "      <td>Pennsylvania</td>\n",
       "      <td>H</td>\n",
       "      <td>0.17</td>\n",
       "      <td>UNKNOWN</td>\n",
       "    </tr>\n",
       "    <tr>\n",
       "      <th>72</th>\n",
       "      <td>California</td>\n",
       "      <td>7</td>\n",
       "      <td>0.80</td>\n",
       "      <td>Bera, Ami</td>\n",
       "    </tr>\n",
       "    <tr>\n",
       "      <th>98</th>\n",
       "      <td>Florida</td>\n",
       "      <td>2</td>\n",
       "      <td>1.13</td>\n",
       "      <td>Graham, Gwen</td>\n",
       "    </tr>\n",
       "    <tr>\n",
       "      <th>218</th>\n",
       "      <td>Minnesota</td>\n",
       "      <td>8</td>\n",
       "      <td>1.40</td>\n",
       "      <td>Nolan, Rick</td>\n",
       "    </tr>\n",
       "    <tr>\n",
       "      <th>185</th>\n",
       "      <td>Maryland</td>\n",
       "      <td>6</td>\n",
       "      <td>1.45</td>\n",
       "      <td>Delaney, John K.</td>\n",
       "    </tr>\n",
       "    <tr>\n",
       "      <th>29</th>\n",
       "      <td>California</td>\n",
       "      <td>16</td>\n",
       "      <td>1.46</td>\n",
       "      <td>Costa</td>\n",
       "    </tr>\n",
       "    <tr>\n",
       "      <th>421</th>\n",
       "      <td>Washington</td>\n",
       "      <td>4</td>\n",
       "      <td>1.62</td>\n",
       "      <td>Newhouse, Dan</td>\n",
       "    </tr>\n",
       "    <tr>\n",
       "      <th>378</th>\n",
       "      <td>Texas</td>\n",
       "      <td>23</td>\n",
       "      <td>2.10</td>\n",
       "      <td>Hurd, Will</td>\n",
       "    </tr>\n",
       "    <tr>\n",
       "      <th>158</th>\n",
       "      <td>Iowa</td>\n",
       "      <td>1</td>\n",
       "      <td>2.28</td>\n",
       "      <td>Blum, Rod</td>\n",
       "    </tr>\n",
       "    <tr>\n",
       "      <th>132</th>\n",
       "      <td>Illinois</td>\n",
       "      <td>10</td>\n",
       "      <td>2.60</td>\n",
       "      <td>Dold, Robert</td>\n",
       "    </tr>\n",
       "    <tr>\n",
       "      <th>40</th>\n",
       "      <td>California</td>\n",
       "      <td>26</td>\n",
       "      <td>2.66</td>\n",
       "      <td>Brownley, Julia</td>\n",
       "    </tr>\n",
       "    <tr>\n",
       "      <th>177</th>\n",
       "      <td>Louisiana</td>\n",
       "      <td>6</td>\n",
       "      <td>2.76</td>\n",
       "      <td>Edwards, Edwin</td>\n",
       "    </tr>\n",
       "    <tr>\n",
       "      <th>238</th>\n",
       "      <td>Nevada</td>\n",
       "      <td>4</td>\n",
       "      <td>2.77</td>\n",
       "      <td>Hardy, Cresent</td>\n",
       "    </tr>\n",
       "    <tr>\n",
       "      <th>104</th>\n",
       "      <td>Florida</td>\n",
       "      <td>26</td>\n",
       "      <td>2.92</td>\n",
       "      <td>Curbelo, Carlos</td>\n",
       "    </tr>\n",
       "    <tr>\n",
       "      <th>69</th>\n",
       "      <td>California</td>\n",
       "      <td>52</td>\n",
       "      <td>3.18</td>\n",
       "      <td>Peters, Scott</td>\n",
       "    </tr>\n",
       "    <tr>\n",
       "      <th>428</th>\n",
       "      <td>West Virginia</td>\n",
       "      <td>2</td>\n",
       "      <td>3.20</td>\n",
       "      <td>Mooney, Alex X.</td>\n",
       "    </tr>\n",
       "    <tr>\n",
       "      <th>233</th>\n",
       "      <td>Nebraska</td>\n",
       "      <td>2</td>\n",
       "      <td>3.33</td>\n",
       "      <td>Ashford, Brad</td>\n",
       "    </tr>\n",
       "    <tr>\n",
       "      <th>46</th>\n",
       "      <td>California</td>\n",
       "      <td>31</td>\n",
       "      <td>3.46</td>\n",
       "      <td>Aguilar, Pete</td>\n",
       "    </tr>\n",
       "    <tr>\n",
       "      <th>30</th>\n",
       "      <td>California</td>\n",
       "      <td>17</td>\n",
       "      <td>3.50</td>\n",
       "      <td>Honda</td>\n",
       "    </tr>\n",
       "    <tr>\n",
       "      <th>239</th>\n",
       "      <td>New Hampshire</td>\n",
       "      <td>1</td>\n",
       "      <td>3.60</td>\n",
       "      <td>Guinta, Frank C.</td>\n",
       "    </tr>\n",
       "    <tr>\n",
       "      <th>127</th>\n",
       "      <td>Hawaii</td>\n",
       "      <td>1</td>\n",
       "      <td>3.86</td>\n",
       "      <td>Takai, Mark</td>\n",
       "    </tr>\n",
       "    <tr>\n",
       "      <th>38</th>\n",
       "      <td>California</td>\n",
       "      <td>24</td>\n",
       "      <td>3.86</td>\n",
       "      <td>Capps, Lois</td>\n",
       "    </tr>\n",
       "    <tr>\n",
       "      <th>74</th>\n",
       "      <td>California</td>\n",
       "      <td>9</td>\n",
       "      <td>4.74</td>\n",
       "      <td>McNerney, Jerry</td>\n",
       "    </tr>\n",
       "    <tr>\n",
       "      <th>257</th>\n",
       "      <td>New York</td>\n",
       "      <td>1</td>\n",
       "      <td>5.02</td>\n",
       "      <td>Zeldin, Lee M.</td>\n",
       "    </tr>\n",
       "    <tr>\n",
       "      <th>176</th>\n",
       "      <td>Louisiana</td>\n",
       "      <td>5</td>\n",
       "      <td>5.06</td>\n",
       "      <td>Mayo, \"Jamie\"</td>\n",
       "    </tr>\n",
       "    <tr>\n",
       "      <th>402</th>\n",
       "      <td>Utah</td>\n",
       "      <td>4</td>\n",
       "      <td>5.11</td>\n",
       "      <td>Love, Mia B.</td>\n",
       "    </tr>\n",
       "    <tr>\n",
       "      <th>159</th>\n",
       "      <td>Iowa</td>\n",
       "      <td>2</td>\n",
       "      <td>5.12</td>\n",
       "      <td>Loebsack, Dave</td>\n",
       "    </tr>\n",
       "    <tr>\n",
       "      <th>179</th>\n",
       "      <td>Maine</td>\n",
       "      <td>2</td>\n",
       "      <td>5.20</td>\n",
       "      <td>Poliquin, Bruce</td>\n",
       "    </tr>\n",
       "    <tr>\n",
       "      <th>9</th>\n",
       "      <td>Arizona</td>\n",
       "      <td>1</td>\n",
       "      <td>5.22</td>\n",
       "      <td>Kirkpatrick, Ann</td>\n",
       "    </tr>\n",
       "    <tr>\n",
       "      <th>...</th>\n",
       "      <td>...</td>\n",
       "      <td>...</td>\n",
       "      <td>...</td>\n",
       "      <td>...</td>\n",
       "    </tr>\n",
       "    <tr>\n",
       "      <th>365</th>\n",
       "      <td>Texas</td>\n",
       "      <td>11</td>\n",
       "      <td>80.54</td>\n",
       "      <td>Conaway, Mike</td>\n",
       "    </tr>\n",
       "    <tr>\n",
       "      <th>386</th>\n",
       "      <td>Texas</td>\n",
       "      <td>30</td>\n",
       "      <td>81.19</td>\n",
       "      <td>Johnson, Eddie Bernice</td>\n",
       "    </tr>\n",
       "    <tr>\n",
       "      <th>398</th>\n",
       "      <td>Texas</td>\n",
       "      <td>9</td>\n",
       "      <td>81.64</td>\n",
       "      <td>Green, Al</td>\n",
       "    </tr>\n",
       "    <tr>\n",
       "      <th>404</th>\n",
       "      <td>Virgin Islands</td>\n",
       "      <td>0</td>\n",
       "      <td>82.26</td>\n",
       "      <td>Plaskett, Stacey</td>\n",
       "    </tr>\n",
       "    <tr>\n",
       "      <th>346</th>\n",
       "      <td>South Carolina</td>\n",
       "      <td>1</td>\n",
       "      <td>86.82</td>\n",
       "      <td>Sanford, Mark</td>\n",
       "    </tr>\n",
       "    <tr>\n",
       "      <th>411</th>\n",
       "      <td>Virginia</td>\n",
       "      <td>3</td>\n",
       "      <td>88.86</td>\n",
       "      <td>Scott, Robert C. \"Bobby\"</td>\n",
       "    </tr>\n",
       "    <tr>\n",
       "      <th>297</th>\n",
       "      <td>North Carolina</td>\n",
       "      <td>9</td>\n",
       "      <td>89.17</td>\n",
       "      <td>Pittenger, Robert</td>\n",
       "    </tr>\n",
       "    <tr>\n",
       "      <th>279</th>\n",
       "      <td>New York</td>\n",
       "      <td>5</td>\n",
       "      <td>90.00</td>\n",
       "      <td>Meeks, Gregory  W.</td>\n",
       "    </tr>\n",
       "    <tr>\n",
       "      <th>263</th>\n",
       "      <td>New York</td>\n",
       "      <td>15</td>\n",
       "      <td>90.79</td>\n",
       "      <td>Serrano, Jose E.</td>\n",
       "    </tr>\n",
       "    <tr>\n",
       "      <th>191</th>\n",
       "      <td>Massachusetts</td>\n",
       "      <td>4</td>\n",
       "      <td>95.82</td>\n",
       "      <td>Kennedy, Joseph P., III</td>\n",
       "    </tr>\n",
       "    <tr>\n",
       "      <th>188</th>\n",
       "      <td>Massachusetts</td>\n",
       "      <td>1</td>\n",
       "      <td>95.92</td>\n",
       "      <td>Neal, Richard E.</td>\n",
       "    </tr>\n",
       "    <tr>\n",
       "      <th>189</th>\n",
       "      <td>Massachusetts</td>\n",
       "      <td>2</td>\n",
       "      <td>96.40</td>\n",
       "      <td>McGovern</td>\n",
       "    </tr>\n",
       "    <tr>\n",
       "      <th>192</th>\n",
       "      <td>Massachusetts</td>\n",
       "      <td>5</td>\n",
       "      <td>96.58</td>\n",
       "      <td>Clark, Katherine M.</td>\n",
       "    </tr>\n",
       "    <tr>\n",
       "      <th>194</th>\n",
       "      <td>Massachusetts</td>\n",
       "      <td>7</td>\n",
       "      <td>96.66</td>\n",
       "      <td>Capuano, Michael E.</td>\n",
       "    </tr>\n",
       "    <tr>\n",
       "      <th>6</th>\n",
       "      <td>Alabama</td>\n",
       "      <td>7</td>\n",
       "      <td>96.74</td>\n",
       "      <td>Sewell, Terri A.</td>\n",
       "    </tr>\n",
       "    <tr>\n",
       "      <th>3</th>\n",
       "      <td>Alabama</td>\n",
       "      <td>4</td>\n",
       "      <td>97.14</td>\n",
       "      <td>Aderholt, Robert</td>\n",
       "    </tr>\n",
       "    <tr>\n",
       "      <th>195</th>\n",
       "      <td>Massachusetts</td>\n",
       "      <td>8</td>\n",
       "      <td>97.34</td>\n",
       "      <td>Lynch</td>\n",
       "    </tr>\n",
       "    <tr>\n",
       "      <th>100</th>\n",
       "      <td>Florida</td>\n",
       "      <td>21</td>\n",
       "      <td>99.26</td>\n",
       "      <td>Deutch, Ted</td>\n",
       "    </tr>\n",
       "    <tr>\n",
       "      <th>124</th>\n",
       "      <td>Georgia</td>\n",
       "      <td>8</td>\n",
       "      <td>99.82</td>\n",
       "      <td>Scott, James Austin</td>\n",
       "    </tr>\n",
       "    <tr>\n",
       "      <th>120</th>\n",
       "      <td>Georgia</td>\n",
       "      <td>4</td>\n",
       "      <td>99.86</td>\n",
       "      <td>Johnson</td>\n",
       "    </tr>\n",
       "    <tr>\n",
       "      <th>331</th>\n",
       "      <td>Pennsylvania</td>\n",
       "      <td>15</td>\n",
       "      <td>100.00</td>\n",
       "      <td>Dent</td>\n",
       "    </tr>\n",
       "    <tr>\n",
       "      <th>334</th>\n",
       "      <td>Pennsylvania</td>\n",
       "      <td>18</td>\n",
       "      <td>100.00</td>\n",
       "      <td>Murphy, Tim</td>\n",
       "    </tr>\n",
       "    <tr>\n",
       "      <th>114</th>\n",
       "      <td>Georgia</td>\n",
       "      <td>11</td>\n",
       "      <td>100.00</td>\n",
       "      <td>Loudermilk, Barry D.</td>\n",
       "    </tr>\n",
       "    <tr>\n",
       "      <th>116</th>\n",
       "      <td>Georgia</td>\n",
       "      <td>13</td>\n",
       "      <td>100.00</td>\n",
       "      <td>Scott</td>\n",
       "    </tr>\n",
       "    <tr>\n",
       "      <th>117</th>\n",
       "      <td>Georgia</td>\n",
       "      <td>14</td>\n",
       "      <td>100.00</td>\n",
       "      <td>Graves, John Thomas \"Tom\"</td>\n",
       "    </tr>\n",
       "    <tr>\n",
       "      <th>119</th>\n",
       "      <td>Georgia</td>\n",
       "      <td>3</td>\n",
       "      <td>100.00</td>\n",
       "      <td>Westmoreland, Lynn Acton</td>\n",
       "    </tr>\n",
       "    <tr>\n",
       "      <th>121</th>\n",
       "      <td>Georgia</td>\n",
       "      <td>5</td>\n",
       "      <td>100.00</td>\n",
       "      <td>Lewis, John R.</td>\n",
       "    </tr>\n",
       "    <tr>\n",
       "      <th>330</th>\n",
       "      <td>Pennsylvania</td>\n",
       "      <td>14</td>\n",
       "      <td>100.00</td>\n",
       "      <td>Doyle, Mike</td>\n",
       "    </tr>\n",
       "    <tr>\n",
       "      <th>313</th>\n",
       "      <td>Ohio</td>\n",
       "      <td>7</td>\n",
       "      <td>100.00</td>\n",
       "      <td>Gibbs, Bob</td>\n",
       "    </tr>\n",
       "    <tr>\n",
       "      <th>393</th>\n",
       "      <td>Texas</td>\n",
       "      <td>4</td>\n",
       "      <td>100.00</td>\n",
       "      <td>Ratcliffe, John</td>\n",
       "    </tr>\n",
       "  </tbody>\n",
       "</table>\n",
       "<p>440 rows × 4 columns</p>\n",
       "</div>"
      ],
      "text/plain": [
       "              STATE   D  MARGIN                     WINNER\n",
       "10          Arizona   2    0.07                    McSally\n",
       "343    Pennsylvania   H    0.17                    UNKNOWN\n",
       "72       California   7    0.80                  Bera, Ami\n",
       "98          Florida   2    1.13               Graham, Gwen\n",
       "218       Minnesota   8    1.40                Nolan, Rick\n",
       "185        Maryland   6    1.45           Delaney, John K.\n",
       "29       California  16    1.46                      Costa\n",
       "421      Washington   4    1.62              Newhouse, Dan\n",
       "378           Texas  23    2.10                 Hurd, Will\n",
       "158            Iowa   1    2.28                  Blum, Rod\n",
       "132        Illinois  10    2.60               Dold, Robert\n",
       "40       California  26    2.66            Brownley, Julia\n",
       "177       Louisiana   6    2.76             Edwards, Edwin\n",
       "238          Nevada   4    2.77             Hardy, Cresent\n",
       "104         Florida  26    2.92           Curbelo, Carlos \n",
       "69       California  52    3.18              Peters, Scott\n",
       "428   West Virginia   2    3.20            Mooney, Alex X.\n",
       "233        Nebraska   2    3.33             Ashford, Brad \n",
       "46       California  31    3.46              Aguilar, Pete\n",
       "30       California  17    3.50                      Honda\n",
       "239   New Hampshire   1    3.60           Guinta, Frank C.\n",
       "127          Hawaii   1    3.86                Takai, Mark\n",
       "38       California  24    3.86                Capps, Lois\n",
       "74       California   9    4.74            McNerney, Jerry\n",
       "257        New York   1    5.02             Zeldin, Lee M.\n",
       "176       Louisiana   5    5.06              Mayo, \"Jamie\"\n",
       "402            Utah   4    5.11               Love, Mia B.\n",
       "159            Iowa   2    5.12             Loebsack, Dave\n",
       "179           Maine   2    5.20           Poliquin, Bruce \n",
       "9           Arizona   1    5.22           Kirkpatrick, Ann\n",
       "..              ...  ..     ...                        ...\n",
       "365           Texas  11   80.54              Conaway, Mike\n",
       "386           Texas  30   81.19     Johnson, Eddie Bernice\n",
       "398           Texas   9   81.64                  Green, Al\n",
       "404  Virgin Islands   0   82.26           Plaskett, Stacey\n",
       "346  South Carolina   1   86.82              Sanford, Mark\n",
       "411        Virginia   3   88.86   Scott, Robert C. \"Bobby\"\n",
       "297  North Carolina   9   89.17          Pittenger, Robert\n",
       "279        New York   5   90.00         Meeks, Gregory  W.\n",
       "263        New York  15   90.79           Serrano, Jose E.\n",
       "191   Massachusetts   4   95.82    Kennedy, Joseph P., III\n",
       "188   Massachusetts   1   95.92           Neal, Richard E.\n",
       "189   Massachusetts   2   96.40                   McGovern\n",
       "192   Massachusetts   5   96.58        Clark, Katherine M.\n",
       "194   Massachusetts   7   96.66        Capuano, Michael E.\n",
       "6           Alabama   7   96.74           Sewell, Terri A.\n",
       "3           Alabama   4   97.14           Aderholt, Robert\n",
       "195   Massachusetts   8   97.34                      Lynch\n",
       "100         Florida  21   99.26                Deutch, Ted\n",
       "124         Georgia   8   99.82        Scott, James Austin\n",
       "120         Georgia   4   99.86                    Johnson\n",
       "331    Pennsylvania  15  100.00                       Dent\n",
       "334    Pennsylvania  18  100.00                Murphy, Tim\n",
       "114         Georgia  11  100.00       Loudermilk, Barry D.\n",
       "116         Georgia  13  100.00                      Scott\n",
       "117         Georgia  14  100.00  Graves, John Thomas \"Tom\"\n",
       "119         Georgia   3  100.00   Westmoreland, Lynn Acton\n",
       "121         Georgia   5  100.00             Lewis, John R.\n",
       "330    Pennsylvania  14  100.00                Doyle, Mike\n",
       "313            Ohio   7  100.00                Gibbs, Bob \n",
       "393           Texas   4  100.00            Ratcliffe, John\n",
       "\n",
       "[440 rows x 4 columns]"
      ]
     },
     "execution_count": 26,
     "metadata": {},
     "output_type": "execute_result"
    }
   ],
   "source": [
    "dfWinners = winners_and_margins(dfClean)\n",
    "dfWinners"
   ]
  },
  {
   "cell_type": "code",
   "execution_count": null,
   "metadata": {},
   "outputs": [],
   "source": []
  }
 ],
 "metadata": {
  "kernelspec": {
   "display_name": "Python 3",
   "language": "python",
   "name": "python3"
  },
  "language_info": {
   "codemirror_mode": {
    "name": "ipython",
    "version": 3
   },
   "file_extension": ".py",
   "mimetype": "text/x-python",
   "name": "python",
   "nbconvert_exporter": "python",
   "pygments_lexer": "ipython3",
   "version": "3.6.2"
  }
 },
 "nbformat": 4,
 "nbformat_minor": 2
}
