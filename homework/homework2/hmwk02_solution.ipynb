{
 "cells": [
  {
   "cell_type": "markdown",
   "metadata": {},
   "source": [
    "# Homework 2: Introduction to Probability and Simulation \n",
    "***\n",
    "\n",
    "**Name**: \n",
    "\n",
    "**Section**: (001 or 002)\n",
    "***\n",
    "\n",
    "This assignment is due on Moodle by **5pm on Friday February 16th**. Your solutions to theoretical questions should be done in Markdown/MathJax directly below the associated question.  Your solutions to computational questions should include any specified Python code and results as well as written commentary on your conclusions.  Remember that you are encouraged to discuss the problems with your instructors and classmates, but **you must write all code and solutions on your own**.  For a refresher on the course **Collaboration Policy** click [here](https://github.com/chrisketelsen/csci3022/blob/master/resources/syllabus.md#collaboration-policy).  \n",
    "\n",
    "**NOTES**: \n",
    "\n",
    "- Some problems with code may be autograded.  If we provide a function API please do not change it.  If we do not provide a function API then you're free to structure your code however you like. \n",
    "- It is **bad form** to make your reader interpret numerical output from your code.  If a question asks you to compute some value from the data you should show your code output **AND** write a summary of the results in Markdown directly below your code.\n",
    "- Because you can technically evaluate notebook cells is a non-linear order, it's a good idea to do Cell $\\rightarrow$ Run All as a check before submitting your solutions.  That way if we need to run your code you will know that it will work as expected. \n",
    "- Submit only this Jupyter notebook to Moodle.  Do not compress it using tar, rar, zip, etc. "
   ]
  },
  {
   "cell_type": "code",
   "execution_count": 2,
   "metadata": {
    "scrolled": true
   },
   "outputs": [],
   "source": [
    "import pandas as pd\n",
    "import numpy as np\n",
    "import matplotlib.pylab as plt\n",
    "%matplotlib inline"
   ]
  },
  {
   "cell_type": "markdown",
   "metadata": {},
   "source": [
    "### [20 points] Problem 1 \n",
    "***\n",
    "\n",
    "In a box there are 62 fair dice with faces `{1,2,3,4,5,6}`. Call these dice \"Standard.\" In the same box, there are also 2 additional fair dice with faces `{1,1,2,2,3,3}`. Call these dice \"Weird.\"  You grab one die at random from the box.  \n",
    "\n",
    "Work the following problems by hand (but don't be afraid to simulate to check your result!). \n"
   ]
  },
  {
   "cell_type": "markdown",
   "metadata": {},
   "source": [
    "**Part A**: You roll your die one time.  What is the probability that you roll a 1? "
   ]
  },
  {
   "cell_type": "markdown",
   "metadata": {},
   "source": [
    "***\n",
    "**Solution**:\n",
    "\n",
    "$P(r1) = P(r1 \\mid W)P(W) + P(r1 \\mid S) P(S)$\n",
    "\n",
    "$ = \\frac{2}{6}\\frac{2}{64} + \\frac{1}{6}\\frac{62}{64}$\n",
    "\n",
    "$ = \\frac{4}{384} + \\frac{62}{384}$\n",
    "\n",
    "$ = \\frac{66}{384} = \\frac{33}{192} \\approx 0.1719$\n",
    "\n",
    "***"
   ]
  },
  {
   "cell_type": "markdown",
   "metadata": {},
   "source": [
    "**Part B**: Suppose you roll a 1.  What is the probability that the die you chose from the box is Weird? "
   ]
  },
  {
   "cell_type": "markdown",
   "metadata": {},
   "source": [
    "***\n",
    "**Solution**:\n",
    "\n",
    "$$P(W \\mid r1) = \\frac{P(r1\\mid W) P(W)}{P(r1)}$$\n",
    "\n",
    "$$= \\frac{\\frac{2}{6}\\frac{2}{64}}{\\frac{33}{192}}$$\n",
    "\n",
    "$$= \\frac{\\frac{4}{384}}{\\frac{33}{192}}$$\n",
    "\n",
    "$$= \\frac{2}{33}\\approx 0.061$$\n",
    "\n",
    "***"
   ]
  },
  {
   "cell_type": "markdown",
   "metadata": {},
   "source": [
    "**Part C**: Suppose you roll your die $n$ times and record each outcome.  Obviously, if you roll 4, 5, or 6 you know you picked a Standard die. But, if you roll $n$ times in a row and get only 1, 2, or 3,  you would have a stronger belief that you in fact grabbed one of the Weird dice. What is the smallest value of $n$ successive rolls of 1, 2, or 3 that would make you believe that there's a better-than-90% chance that the die you grabbed is Weird?  "
   ]
  },
  {
   "cell_type": "markdown",
   "metadata": {},
   "source": [
    "***\n",
    "**Solution**:\n",
    "\n",
    "Let $E_n$ be the event that we roll $n$ values in a row that are 1,2 or 3. \n",
    "$$P(W \\mid E_n) = \\frac{P(E_n \\mid W) P(W)}{P(E_n)}$$\n",
    "\n",
    "LTP on the denominator to get\n",
    "$$P(W \\mid E_n) = \\frac{P(E_n \\mid W) P(W)}{P(E_n \\mid W) P(W) + P(E_n \\mid S) P(S)}$$\n",
    "\n",
    "Sub in the easy things\n",
    "$$P(W \\mid E_n) = \\frac{P(E_n \\mid W) \\frac{2}{64}}{P(E_n \\mid W) \\frac{2}{64} + P(E_n \\mid S) \\frac{62}{64}}$$\n",
    "\n",
    "Side calculation: what's the probability that I get $\\leq 3$ $n$ times in a row if I have a weird die in hand?\n",
    "$$P(E_n \\mid W) = 1$$\n",
    "\n",
    "Side calculation: what's the probability that I get $\\leq 3$ $n$ times in a row if I have a standard die in hand?\n",
    "$$P(E_n \\mid W) = \\frac{1}{2^n}$$\n",
    "\n",
    "Plug in side calcs:\n",
    "$$P(W \\mid E_n) = \\frac{ 1 \\cdot \\frac{2}{64}}{1 \\cdot \\frac{2}{64} + \\frac{1}{2^n} \\frac{62}{64}}$$\n",
    "\n",
    "Multiply by 64/64\n",
    "$$P(W \\mid E_n) = \\frac{2}{2 + \\frac{62}{2^n}}$$\n",
    "\n",
    "Divide by 2 and impose what we want: $\\geq 0.9$\n",
    "$$P(W \\mid E_n) = \\frac{1}{1 + \\frac{62}{2^{n+1}}} \\geq 0.9$$\n",
    "\n",
    "Algebra...\n",
    "$$\\frac{1}{0.9} \\geq 1 + \\frac{62}{2^{n+1}}$$\n",
    "\n",
    "Algebra...\n",
    "$$\\frac{10}{9}-1 \\geq \\frac{62}{2^{n+1}}$$\n",
    "\n",
    "Algebra...\n",
    "$$ 2^{n+1}\\geq \\frac{62}{\\frac{1}{9}}$$\n",
    "\n",
    "Algebra...\n",
    "$$ n+1 \\geq \\log_2 [62\\cdot9]$$"
   ]
  },
  {
   "cell_type": "code",
   "execution_count": 36,
   "metadata": {},
   "outputs": [
    {
     "data": {
      "text/plain": [
       "9.124121311829187"
      ]
     },
     "execution_count": 36,
     "metadata": {},
     "output_type": "execute_result"
    }
   ],
   "source": [
    "# Compute\n",
    "np.log2(62*9)"
   ]
  },
  {
   "cell_type": "markdown",
   "metadata": {},
   "source": [
    "So if $n+1 \\geq 9.12$ then $n \\geq 8.12$, so we should have $n=9$ (since $n$ must be an integer).\n",
    "\n",
    "***"
   ]
  },
  {
   "cell_type": "code",
   "execution_count": 87,
   "metadata": {},
   "outputs": [
    {
     "name": "stdout",
     "output_type": "stream",
     "text": [
      "1 0.0606\n",
      "2 0.1143\n",
      "3 0.2051\n",
      "4 0.3404\n",
      "5 0.5079\n",
      "6 0.6737\n",
      "7 0.8050\n",
      "8 0.8920\n",
      "9 0.9429\n"
     ]
    }
   ],
   "source": [
    "# Just for fun, double check the sequence of probabilities...\n",
    "for n in range(1,10):\n",
    "    print(n,\"{:.4f}\".format(2/(2+(62/(2**n)))))"
   ]
  },
  {
   "cell_type": "markdown",
   "metadata": {},
   "source": [
    "### [20 points] Problem 2  \n",
    "***\n",
    "\n",
    "In soccer tournaments, [penalty shootouts](https://en.wikipedia.org/wiki/Penalty_shoot-out_(association_football) are used to determine the outcome of the game if the score is tied after regulation play.   In a penalty shootout, each team takes turns attempting 5 shots on the goal from the penalty mark that are defended only by the opposing team's goalkeeper, with the team that makes more successful kicks being declared the winner of the match.  If after 5 shots the score is still tied, the game enters _sudden death_ and the teams continue to take 1 shot each until one team scores and the other does not. \n",
    "\n",
    "Suppose that two teams ( Team $A$ and Team $B~$) are still tied at the end of the first round of 5 penalty shots and are entering sudden death.  Each team will now take one shot each in an attempt to win.  Suppose that the result of one shot is independent of the other shots, Team $A$ makes their shot with probability $p$, and Team $B$ makes their shot with probability $q$.  Let $W$ be the event that \"Team $A$ wins the game\", $E$ be the event that \"the game ends after the first round of sudden death penalty shots\", and $T$ be the event that \"the game is still tied after the first round of sudden death penalty shots\". \n",
    "\n",
    "**Part A**: The shootout continues until Team $A$ or Team $B$ wins.  What is the sample space $\\Omega$ for this experiment?  Represent the outcomes of individual shots by $G$ for a goal and $M$ for a miss and assume that Team $A$ shoots before Team $B$."
   ]
  },
  {
   "cell_type": "markdown",
   "metadata": {},
   "source": [
    "***\n",
    "**Solution**: \n",
    "\n",
    "$$\n",
    "\\Omega = \\{GM, MG, GGGM, GGMG, MMGM, MMMG, \\ldots \\}\n",
    "$$\n",
    "***"
   ]
  },
  {
   "cell_type": "markdown",
   "metadata": {},
   "source": [
    "**Part B**: Determine $P(W \\mid E)$ in terms of $p$ and $q$."
   ]
  },
  {
   "cell_type": "markdown",
   "metadata": {},
   "source": [
    "***\n",
    "**Solution**: We have \n",
    "\n",
    "$$\n",
    "P(W \\mid E) = \\frac{P(W \\cap E)}{P(E)} = \\frac{P(\\{GM\\})}{P(\\{GM, MG\\})} = \\frac{p(1-q)}{p(1-q) + (1-p)q} = \\frac{p(1-q)}{p + q -2pq}\n",
    "$$\n",
    "\n",
    "***"
   ]
  },
  {
   "cell_type": "markdown",
   "metadata": {},
   "source": [
    "**Part C**: Explain why events $W$ and $T$ are independent. "
   ]
  },
  {
   "cell_type": "markdown",
   "metadata": {},
   "source": [
    "***\n",
    "**Solution**:\n",
    "\n",
    "We have many tests for independence that we could employ, mathematically. In words, however, the probability that team A wins and the probability that the game is still tied after the first round *must* be independent. Each round of the shootout begins with the two teams tied, and takes place identically, regardless of what score the teams are tied at. (5 to 5 is the sames as 10 to 10). So Team A's probability of winning beginning on round 1 vs their probability of winning beginning on round 5 (after 4 tied rounds) must be the same. In symbols, that means\n",
    "$$P(W|T) = P(W)$$\n",
    "which means they are independent.\n",
    "***"
   ]
  },
  {
   "cell_type": "markdown",
   "metadata": {},
   "source": [
    "**Part D**: Use the Law of Total Probability to show that $P(W) = p(1-q) + (2pq - p - q +1) ~P(W \\mid T)$. "
   ]
  },
  {
   "cell_type": "markdown",
   "metadata": {},
   "source": [
    "***\n",
    "**Solution**: We'll use the Law of Total Probability and condition on the events that the game ends and that the game remains tied after the first round of sudden death. \n",
    "\n",
    "\\begin{eqnarray}\n",
    "\\nonumber P(W) &=& P(W \\mid E)P(E) + P(W \\mid T)P(T)  \\\\\n",
    "\\\\\n",
    "\\nonumber  &=& P(W \\mid E)P(\\{GM, MG\\}) + P(W \\mid T)P(\\{GG, MM\\})  \\\\\n",
    "\\\\\n",
    "\\nonumber  &=& \\frac{p(1-q)}{p + q -2pq} P(\\{GM, MG\\}) + P(W \\mid T)P(\\{GG, MM\\})  \\quad \\left[\\textrm{From }\\textbf{Part A}\\right] \\\\\n",
    "\\\\\n",
    "\\nonumber  &=& \\frac{p(1-q)}{p + q -2pq} \\left[P(GM)+ P(MG))\\right] + P(W \\mid T)\\left[P(GG) + P(MM)   \\right] \\\\\n",
    "\\\\\n",
    "\\nonumber  &=& \\frac{p(1-q)}{p + q -2pq} \\left[p(1-q)+ (1-p)q\\right] + P(W \\mid T)\\left[pq + (1-p)(1-q)   \\right] \\\\\n",
    "\\\\\n",
    "\\nonumber  &=& \\frac{p(1-q)}{p + q -2pq} \\left[p + q - 2pq\\right] + P(W \\mid T)\\left(2pq - p - q +1 \\right) \\\\\n",
    "\\\\\n",
    "\\nonumber  &=& p(1-q) + P(W \\mid T)\\left(2pq - p - q +1 \\right) \\quad \\checkmark \\\\\n",
    "\\end{eqnarray}\n",
    "\n",
    "\n",
    "***"
   ]
  },
  {
   "cell_type": "markdown",
   "metadata": {},
   "source": [
    "**Part E**: Use the fact from **Part B** that $P(W \\mid T) = P(W)$ to determine $P(W)$ in terms of $p$ and $q$. "
   ]
  },
  {
   "cell_type": "markdown",
   "metadata": {},
   "source": [
    "***\n",
    "**Solution**: We'll use the Law of Total Probability and condition on the events that the game ends and that the game remains tied after the first round of sudden death. \n",
    "\n",
    "Part D tells us:\n",
    "$$P(W) = p(1-q) + P(W \\mid T)\\left(2pq - p - q +1 \\right)$$\n",
    "\n",
    "And Part B tells us:\n",
    "$$P(W \\mid T) = P(W)$$\n",
    "\n",
    "Put them together.\n",
    "$$P(W) = p(1-q) + P(W)\\left(2pq - p - q +1 \\right)$$\n",
    "\n",
    "Solve for $P(W)$.\n",
    "$$P(W) \\left [1- \\left(2pq - p - q +1 \\right) \\right ]= p(1-q)$$\n",
    "\n",
    "Cancel the 1 and -1, and solve.\n",
    "$$P(W) = \\frac{p(1-q)}{-2pq + p + q }$$\n",
    "***"
   ]
  },
  {
   "cell_type": "markdown",
   "metadata": {},
   "source": [
    "**Part F**: Explain why the answers to **Part B** and **Part E** are the same. "
   ]
  },
  {
   "cell_type": "markdown",
   "metadata": {
    "collapsed": true
   },
   "source": [
    "***\n",
    "**Solution**:\n",
    "If there is no winner, it is as if the whole shootout process restarts. The shootout has  no memory of previous rounds. Thus, the probability that A wins must be the same as the probability that A wins in just one round. \n",
    "\n",
    "Therefore, $P(W) = P(W \\mid E)$.\n",
    "***\n"
   ]
  },
  {
   "cell_type": "markdown",
   "metadata": {},
   "source": [
    "**Part G**: Explain the significance of the solution technique for $P(W)$ outlined in **Part D** and **Part E**.  Why did we go this route instead of computing $P(W)$ directly?  Can we always use such techniques?  "
   ]
  },
  {
   "cell_type": "markdown",
   "metadata": {},
   "source": [
    "***\n",
    "**Solution**:\n",
    "We can only use this sort of technique if, indeed $W$ is independent of $T$. In a different problem, where these two events were not independent, this solution approach would not work.\n",
    "***"
   ]
  },
  {
   "cell_type": "markdown",
   "metadata": {},
   "source": [
    "### [25 points] Problem 3 \n",
    "***\n",
    "\n",
    "Jerry and Steve are just your typical North American river otters. They like typical otter things: sushi, the Boulder Reservoir, Kyle's office, Sofie's office, and the Ecology Department.  \n",
    "\n",
    "After CSCI 3022 lets out for the day, there are a bunch of different locations that Jerry and Steve individually end up at.  Sometimes they go get sushi on the hill ($~H~$) or go for a swim at the Res ($~R~$). Sometimes they go straight to office hours with Kyle ($~K~$) or with Sofie ($~S~$), or they read otter-related literature in the Ecology dept ($~E~$). You can see the locations and paths that they take from Muenzinger ($~M~$) and between other locations on map below.\n",
    "\n",
    "Now, on a Wednesday after a really bumpy few days, Jerry and Steve leave class at Muenzinger, very very grumpy. They just wander randomly between their usual spots. Their movement is governed by the following rule: when leaving a particular location, they randomly select one of the available paths to travel along with equal probability. This even includes backtracking as an option! They sure are grumpy. "
   ]
  },
  {
   "cell_type": "markdown",
   "metadata": {},
   "source": [
    "![steve_and_jerry.png](steve_and_jerry.png)"
   ]
  },
  {
   "cell_type": "markdown",
   "metadata": {},
   "source": [
    "**Part A**: Compute (by hand) the probability that Steve ends up at the the Boulder Reservoir after first visiting one other location after leaving Muenzinger. "
   ]
  },
  {
   "cell_type": "markdown",
   "metadata": {
    "collapsed": true
   },
   "source": [
    "***\n",
    "**Solution**:\n",
    "Let $R_2$ be the event that Steve goes to the Reservoir $R$ as his second location. Similarly, let $H_1$ and $K_1$ be the events that Steve goes to the hill and Kyle's as his first location, respectively. By LTP, we have\n",
    "\n",
    "$$P(R_2) = P(R_2 \\mid H_1)P(H_1) + P(R_2\\mid K)P(K_1)$$\n",
    "\n",
    "$$P(R_2) = \\frac{1}{2}\\cdot\\frac{1}{3} + \\frac{1}{4}\\cdot\\frac{1}{3}$$\n",
    "\n",
    "$$P(R_2) = \\frac{2}{12} + \\frac{1}{12} = \\frac{3}{12} = \\frac{1}{4}$$\n",
    "***"
   ]
  },
  {
   "cell_type": "markdown",
   "metadata": {},
   "source": [
    "**Part B**: Compute (by hand) the probability that Jerry ends up at Kyle's office _either_ as his first _or_ second location visited after leaving the Reservoir. (Again, assume that Jerry wanders randomly using the same rules described above.)"
   ]
  },
  {
   "cell_type": "markdown",
   "metadata": {
    "collapsed": true
   },
   "source": [
    "***\n",
    "**Solution**:\n",
    "Let $K_1$ be the event that Jerry goes to Kyle's on his first stop after leaving the Res, and let $K_2$ be the event that Jerry goes to Kyle's on his second stop. \n",
    "\n",
    "Writing down $P(K_1)$ is straightforward. There are four places to go from $R$, and one is $K$. \n",
    "$$P(K_1) = \\frac{1}{4}$$\n",
    "\n",
    "And, we can write down $P(K_2)$ via the law of total probability.\n",
    "$$P(K_2) = P(K_2 \\mid S_1) P(S_1) + P(K_2 \\mid E_1) P(E_1) + P(K_2 \\mid K_1) P(K_1) + P(K_2 \\mid M_1) P(M_1) + P(K_2 \\mid H_1) P(H_1)$$ \n",
    "\n",
    "However, some of these are going to be zero. For example, $P(E_1)=0$ because we can't get to $E$ from $R$. And $P(K_2 \\mid K_1)=0$ because Jerry wanders away, so if he's at $K$ now, he can't be there in the next step. Therefore, we simplify to\n",
    "$$P(K_2) = P(K_2 \\mid S_1) P(S_1) + P(K_2 \\mid M_1) P(M_1) + P(K_2 \\mid H_1) P(H_1)$$ \n",
    "\n",
    "This can be filled in using what we know about the moves around the campus.\n",
    "$$P(K_2) = \\frac{1}{3} \\frac{1}{4} + \\frac{1}{3} \\frac{1}{4} + 0 \\frac{1}{4} = \\frac{1}{6}$$ \n",
    "\n",
    "To put things together, \n",
    "$$P(K_1 \\cup K_2) = P(K_1) + P(K_2) - P(K_1 \\cap K_2)$$\n",
    "\n",
    "Because otters do wander, \n",
    "$$P(K_1 \\cap K_2) = 0$$\n",
    "\n",
    "Therefore, we have $P(K_1 \\cup K_2) = \\frac{1}{4} + \\frac{1}{6} = \\frac{5}{12}$.\n",
    "***"
   ]
  },
  {
   "cell_type": "markdown",
   "metadata": {},
   "source": [
    "**Part C**: Suppose that Jerry goes to the Boulder Reservoir and Steve goes to the Ecology Dept.  Later that afternoon, they both leave and wander around, randomly, as described above. You should assume that they take the same amount of time to go from location to location.  What is the probability that they run into each other in the same location on the first location visited? What is the probability that they run into each other in the same location on the second location visited? What is the probability that they run into each other in either the first or second location visited?"
   ]
  },
  {
   "cell_type": "markdown",
   "metadata": {
    "collapsed": true
   },
   "source": [
    "***\n",
    "**Solution**:\n",
    "The only places they could bump into each other after one movement would be $K$ and $S$.\n",
    "\n",
    "Let $K_1$ and $S_1$ be the events that Jerry goes to $K$ and $S$, respectively, at timestep 1, and let $k_1$ and $s_1$ be similarly defined probabilities for Steve. Remember, Jerry starts at $R$ and Steve starts at $E$.\n",
    "\n",
    "$$P(K_1) = \\frac{1}{4},\\quad P(S_1) = \\frac{1}{4}$$\n",
    "$$P(k_1) = \\frac{1}{2},\\quad P(s_1) = \\frac{1}{2}$$\n",
    "\n",
    "Since they move independently, the probability that they both end up at $K$ is $P(K_1)P(k_1) = \\frac{1}{8}$, and the probability that they both end up at $S$ is $P(S_1)P(s_1) = \\frac{1}{8}$. Thus, the probability that they both end up at $S$ or they both end up at $K$ is $\\frac{1}{8} + \\frac{1}{8} = \\frac{1}{4}$. \n",
    "\n",
    "What about after two movements? Now we need to compute the probability that we find each otter at each of the various locations after two steps. Jerry can go from the Res to $E$, $K$, $M$, $H$, $R$, and $S$! Meanwhile, Steve can go from Ecology to $E$, $K$, $M$, $S$, and $R$...  but not $H$!  Therefore, we need only compute probabilities of the otters being at places they could both possibly be: $E$, $K$, $M$, $R$, and $S$ after two steps.\n",
    "\n",
    "Jerry's paths are:\n",
    "$$\\begin{align}\n",
    "E:\\quad& R \\to S \\to E,\\quad R \\to K \\to E\\\\\n",
    "K:\\quad& R \\to S \\to K,\\quad R \\to M \\to K\\\\\n",
    "M:\\quad& R \\to H \\to M,\\quad R \\to K \\to M\\\\\n",
    "R:\\quad& R \\to H \\to R,\\quad R \\to M \\to R,\\quad R \\to S \\to R,\\quad R \\to K \\to R\\\\\n",
    "S:\\quad& R \\to K \\to S\n",
    "\\end{align}$$\n",
    "\n",
    "Which we can write out in probabilites as:\n",
    "$$\\begin{align}\n",
    "P(E_2) &= P(E_2 \\mid S_1) P(S_1) + P(E_2 \\mid K_1)P(K_1)\\\\\n",
    "& = \\frac{1}{3}\\frac{1}{4} + \\frac{1}{4}\\frac{1}{4}&= \\frac{7}{48}\\\\\n",
    "P(K_2) &= P(K_2 \\mid S_1) P(S_1) + P(K_2 \\mid M_1)P(M_1) \\\\\n",
    "& = \\frac{1}{3}\\frac{1}{4} + \\frac{1}{3}\\frac{1}{4} &= \\frac{1}{6}\\\\\n",
    "P(M_2) &= P(M_2 \\mid H_1) P(H_1) + P(M_2 \\mid K_1) P(K_1)\\\\\n",
    "& = \\frac{1}{2}\\frac{1}{4} + \\frac{1}{4}\\frac{1}{4}&=\\frac{3}{16}\\\\ \n",
    "P(R_2) &= P(R_2 \\mid H_1) P(H_1) + P(R_2 \\mid M_1)P(M_1) + P(R_2 \\mid S_1) P(S_1) + P(R_2 \\mid K_1)P(K_1)\\\\\n",
    "&= \\frac{1}{2}\\frac{1}{4} + \\frac{1}{3}\\frac{1}{4} + \\frac{1}{3}\\frac{1}{4} + \\frac{1}{4} \\frac{1}{4} &=\\frac{17}{48}\\\\\n",
    "P(S_2) &= P(S_2 \\mid K_1) P(K_1)\\\\\n",
    "&= \\frac{1}{4}\\frac{1}{4} &= \\frac{1}{16}\n",
    "\\end{align}$$\n",
    "\n",
    "Steve's paths are:\n",
    "$$\\begin{align}\n",
    "E:\\quad& E \\to S \\to E,\\quad E \\to K \\to E\\\\\n",
    "K:\\quad& E \\to S \\to K\\\\\n",
    "M:\\quad& E \\to K \\to M\\\\\n",
    "R:\\quad& E \\to S \\to R,\\quad E \\to K \\to R\\\\\n",
    "S:\\quad& E \\to K \\to S\n",
    "\\end{align}$$\n",
    "\n",
    "Which we can write out in probabilites as:\n",
    "$$\\begin{align}\n",
    "P(e_2) &= P(e_2 \\mid s_1) P(s_1) + P(e_2 \\mid k_1) P(k_1)\\\\\n",
    "& = \\frac{1}{3}\\frac{1}{2}+ \\frac{1}{4}\\frac{1}{2} &= \\frac{7}{24}\\\\\n",
    "P(k_2) &= P(k_2 \\mid s_1) P(s_1) \\\\\n",
    "& = \\frac{1}{3}\\frac{1}{2} &= \\frac{1}{6}\\\\\n",
    "P(m_2) &= P(m_2 \\mid k_1) P(k_1)\\\\\n",
    "& = \\frac{1}{4}\\frac{1}{2} &=\\frac{1}{8}\\\\ \n",
    "P(r_2) &= P(r_2 \\mid s_1) P(s_1) + P(r_2 \\mid k_1)P(k_1)\\\\\n",
    "&= \\frac{1}{3}\\frac{1}{2} + \\frac{1}{4}\\frac{1}{2} &=\\frac{7}{24}\\\\\n",
    "P(s_2) &= P(s_2 \\mid k_1) P(k_1) \\\\\n",
    "&= \\frac{1}{4}\\frac{1}{2} &=\\frac{1}{8}\n",
    "\\end{align}$$\n",
    "***\n",
    "\n",
    "Finally, the probability that they meet after two steps is:\n",
    "$$\\begin{align}\n",
    "P(meet) &= P(E_2)P(e_2) + P(K_2)P(k_2) + P(M_2)P(m_2) + P(R_2)P(r_2) + P(S_2)P(s_2)\\\\\n",
    "&= \\frac{7}{48}\\frac{7}{24} + \\frac{1}{6}\\frac{1}{6} + \\frac{3}{16}\\frac{1}{8} + \\frac{17}{48}\\frac{7}{24} + \\frac{1}{16}\\frac{1}{8}\\\\\n",
    "&= \\frac{7}{48}\\frac{14}{48} + \\frac{8}{48}\\frac{8}{48} + \\frac{9}{48}\\frac{6}{48} + \\frac{17}{48}\\frac{14}{48} + \\frac{3}{48}\\frac{6}{48}\\\\\n",
    "&= \\frac{98 + 64 + 54 + 238 + 18}{48^2}\\\\\n",
    "&= \\frac{472}{48^2} \\approx 0.20486\n",
    "\\end{align}$$\n"
   ]
  },
  {
   "cell_type": "code",
   "execution_count": 91,
   "metadata": {},
   "outputs": [
    {
     "data": {
      "text/plain": [
       "0.2048611111111111"
      ]
     },
     "execution_count": 91,
     "metadata": {},
     "output_type": "execute_result"
    }
   ],
   "source": [
    "# computation for above\n",
    "np.dot([7/48, 1/6, 3/16, 17/48, 1/16],[7/24, 1/6, 1/8, 7/24, 1/8])"
   ]
  },
  {
   "cell_type": "markdown",
   "metadata": {},
   "source": [
    "Finally, the probability that the meet in either one step (call this $X_1$) or two steps (call this $X_2$) can be computed using the definition of the union of two events:\n",
    "$$P(X_1 \\cup X_2) = P(X_1) + P(X_2) - P(X_2 \\cap X_1)$$\n",
    "\n",
    "In this scenario, we know the probability that they meet after one step $\\frac{1}{4}$ and after two steps $\\frac{472}{48^2}$, but we must compute the probability that they meet after one step AND two steps, $P(X_1 \\cap X_2)$. We can do this by conditioning on them meeting at steps one and two at $K$ and $S$:\n",
    "\n",
    "$$P(X_2 \\cap X_1) = P(X_2 \\cap X_1 \\mid K_1 \\cap k_1) P(K_1 \\cap k_1) + P(X_2 \\cap X_1 \\mid S_1 \\cap s_1) P(S_1 \\cap s_1)$$\n",
    "\n",
    "And we can plug in for the first steps from the first part of the problem. \n",
    "$$P(X_2 \\cap X_1) = P(X_2 \\cap X_1 \\mid K_1 \\cap k_1) \\frac{1}{8} + P(X_2 \\cap X_1 \\mid S_1 \\cap s_1) \\frac{1}{8}$$\n",
    "\n",
    "So, suppose that both otters are at $K$. What's the probability that they then end up at the same place in the next step? There are four paths from $K$, and for each path, they must have both walked in that direction. That means four ways to remain together, times a probability of $\\frac{1}{4}\\frac{1}{4}$ for each of those. Thus, the probability that they stay together after meeting at $K$ is $4 \\frac{1}{16} = \\frac{1}{4}$.\n",
    "\n",
    "Similarly, for $S$, we have 3 paths with probability $1/9$ that the otters stay together along each, for a total probability of $1/3$. Thus, plugging into the equation above, we have\n",
    "$$P(X_2 \\cap X_1) = \\frac{1}{4} \\frac{1}{8} + \\frac{1}{3} \\frac{1}{8} = \\frac{7}{96}$$\n",
    "\n",
    "In a beautiful grand finale, we get\n",
    "$$P(X_1 \\cup X_2) = \\frac{1}{4} + \\frac{472}{48^2} - \\frac{7}{96} \\approx 0.38194$$"
   ]
  },
  {
   "cell_type": "markdown",
   "metadata": {},
   "source": [
    "**Part D**: Write a simulation to confirm that your by-hand calculations in **Part A**, **Part B**, and **Part C** are correct. Make sure you run your simulations for enough trials that your estimates are reasonably close to your analytic results. In addition to showing your code, you should thoroughly explain in Markdown (not just in code comments) what your code is doing and why it is a reasonable approximation of the probabilities in **Part A**, **Part B**, and **Part C**.  "
   ]
  },
  {
   "cell_type": "markdown",
   "metadata": {},
   "source": [
    "***\n",
    "**Solution:**\n",
    "Below, code without thorough comments or Markdown meant only to reproduce the analytical numbers from above."
   ]
  },
  {
   "cell_type": "code",
   "execution_count": 93,
   "metadata": {},
   "outputs": [],
   "source": [
    "# Let's make a dictionary of the neighbors of each location \n",
    "graph={\"R\":[\"H\",\"M\",\"K\",\"S\"],  # neighbors of R\n",
    "         \"H\":[\"M\",\"R\"],  # neighbors of H\n",
    "         \"M\":[\"H\",\"K\",\"R\"], # etc\n",
    "         \"K\":[\"E\",\"S\",\"M\",\"R\"], \n",
    "         \"S\":[\"E\",\"K\",\"R\"],\n",
    "         \"E\":[\"K\",\"S\"]}\n",
    "\n",
    "def sim_otter(initial_location, n_steps, neighbors):\n",
    "    location = initial_location\n",
    "    for step in range(n_steps):\n",
    "        # Choose a random location by using the neighbors graph!\n",
    "        location = np.random.choice(neighbors[location])\n",
    "    return location"
   ]
  },
  {
   "cell_type": "code",
   "execution_count": 78,
   "metadata": {},
   "outputs": [
    {
     "name": "stdout",
     "output_type": "stream",
     "text": [
      "0.2528\n"
     ]
    }
   ],
   "source": [
    "n_sim = 100000\n",
    "# Question A\n",
    "pr2 = np.array([sim_otter(\"M\",2,graph)==\"R\" for kk in range(n_sim)]).sum()/n_sim\n",
    "print(pr2)"
   ]
  },
  {
   "cell_type": "code",
   "execution_count": 79,
   "metadata": {},
   "outputs": [
    {
     "name": "stdout",
     "output_type": "stream",
     "text": [
      "0.41635\n"
     ]
    }
   ],
   "source": [
    "n_sim = 100000\n",
    "# Question B\n",
    "pk2 = np.array([sim_otter(\"R\",2,graph)==\"K\" for kk in range(n_sim)]).sum()/n_sim \n",
    "pk1 = np.array([sim_otter(\"R\",1,graph)==\"K\" for kk in range(n_sim)]).sum()/n_sim\n",
    "print(pk1+pk2)"
   ]
  },
  {
   "cell_type": "code",
   "execution_count": 92,
   "metadata": {},
   "outputs": [
    {
     "name": "stdout",
     "output_type": "stream",
     "text": [
      "0.250486\n",
      "0.205031\n",
      "0.382241\n"
     ]
    }
   ],
   "source": [
    "n_sim = 1000000\n",
    "# Question C-1\n",
    "Jerry = np.array([sim_otter(\"R\",1,graph) for kk in range(n_sim)])\n",
    "Steve = np.array([sim_otter(\"E\",1,graph) for kk in range(n_sim)])\n",
    "print(np.sum(Jerry==Steve)/n_sim)\n",
    "# Question C-2\n",
    "Jerry = np.array([sim_otter(\"R\",2,graph) for kk in range(n_sim)])\n",
    "Steve = np.array([sim_otter(\"E\",2,graph) for kk in range(n_sim)])\n",
    "print(np.sum(Jerry==Steve)/n_sim)\n",
    "# Question C-3\n",
    "Jerry1 = np.array([sim_otter(\"R\",1,graph) for kk in range(n_sim)])\n",
    "Steve1 = np.array([sim_otter(\"E\",1,graph) for kk in range(n_sim)])\n",
    "Jerry2 = np.array([sim_otter(Jerry1[kk],1,graph) for kk in range(n_sim)])\n",
    "Steve2 = np.array([sim_otter(Steve1[kk],1,graph) for kk in range(n_sim)])\n",
    "events = 0\n",
    "for kk in range(n_sim):\n",
    "    if (Jerry1[kk]==Steve1[kk]) or (Jerry2[kk]==Steve2[kk]):\n",
    "        events += 1\n",
    "print(events/n_sim)"
   ]
  },
  {
   "cell_type": "markdown",
   "metadata": {},
   "source": [
    "### [20 points] Problem 4 \n",
    "***\n",
    "\n",
    "In this problem you will write some code to simulate the game of **Miniopoly** (a very rough approximation of [Monopoly](https://en.wikipedia.org/wiki/Monopoly_(game)).  The game consists of a round board with 40 \"squares\" numbered from $0$ to $40$, where squares $0$ and $40$ are [coincident](https://en.wikipedia.org/wiki/Coincident) and called **GO**.  A player starts on **GO** with \\$200 in their pocket.  On each turn the player rolls a pair of dice and then moves a number of spaces equal to the sum of the dice.  Landing on different squares have different results: \n",
    "\n",
    "- Squares 2, 7, 17, 22, 33, and 36 cause you to draw a card.  The cards tell you to collect \\$50 or \\$100, or pay the bank \\$100, \\$125, or \\$150.  \n",
    "\n",
    "<p> </p>\n",
    "\n",
    "- Squares 0, 10, and 20 do not trigger any action \n",
    "\n",
    "<p> </p>\n",
    "\n",
    "- Square 30 is **Go To Jail**, which sends the player directly to **Jail** and ends the turn \n",
    "\n",
    "<p> </p>\n",
    "\n",
    "- If a player starts a turn from **Jail** she rolls two dice: \n",
    "\n",
    "    - If the player rolls doubles (i.e. the dice have equal values) the player moves from Square 10 a number of squares equal to the sum of the dice\n",
    "    \n",
    "    - If the player rolls anything other than doubles she pays the bank \\$10 and remains in **Jail** \n",
    "    \n",
    "<p> </p>\n",
    "\n",
    "- If the player passes or lands on **GO** she collects \\$200. \n",
    "\n",
    "<p> </p>\n",
    "\n",
    "- If the player lands on any other square not mentioned above, she pays the bank an amount equal to the square's number (e.g. if she lands on Square 29 she pays the bank \\$29). \n",
    "\n",
    "<p> </p>\n",
    "\n",
    "- If the player rolls doubles, she gains $10\\times$ the doubled number, in addition to whatever other actions her roll may have caused. For example, rolling two sixes results in a payment of \\$60. This rule does not apply if the player begins the turn from Jail.\n",
    "\n",
    "<p> </p>\n",
    "\n",
    "If at any point the player has \\$0 or less they go bankrupt and the game ends. \n",
    "\n",
    "<br>\n",
    "\n",
    "**Part A**: Complete the function miniopoly_turn below. The function should simulate one turn of Miniopoly.  It should take as arguments the player's current location on the board as well as the player's current cash reserves, and return the player's new location and cash reserves after the turn has completed. Note that if a player goes bankrupt during the game you should return their cash as 0 instead of a negative value.  "
   ]
  },
  {
   "cell_type": "code",
   "execution_count": 3,
   "metadata": {
    "scrolled": true
   },
   "outputs": [],
   "source": [
    "def miniopoly_turn(state, cash):\n",
    "    # bankrupt!\n",
    "    if cash==0:\n",
    "        return state, cash\n",
    "    # roll two dice\n",
    "    a = np.random.choice(6)+1\n",
    "    b = np.random.choice(6)+1\n",
    "    \n",
    "    # if in jail\n",
    "    if state==30:\n",
    "        # did we roll doubles?\n",
    "        if a==b:\n",
    "            # move from state 10\n",
    "            state=10+a+b\n",
    "        else:\n",
    "            cash += -10\n",
    "            return state, cash\n",
    "    # and if not in jail\n",
    "    else:\n",
    "        state = state + a + b    \n",
    "        # doubles only applies outside of jail\n",
    "        if a==b:\n",
    "            cash += 10*a\n",
    "\n",
    "    # pass or land on GO\n",
    "    if state >= 40:\n",
    "        cash += 200\n",
    "        state = state-40\n",
    "    # draw cards\n",
    "    if state in [2,7,17,22,33,36]:\n",
    "        cash += np.random.choice([50,100,-100,-125,-150])\n",
    "        return state, cash \n",
    "    # Jail\n",
    "    if state==30:\n",
    "        return state, cash \n",
    "    if state in list([0,10,20]):\n",
    "        return state,cash\n",
    "    else:\n",
    "        # otherwise, pay up.\n",
    "        cash += -state\n",
    "        return state, cash "
   ]
  },
  {
   "cell_type": "markdown",
   "metadata": {},
   "source": [
    "**Part B**: Use your function from **Part A** to Simulate at least 5000 30-turn games of Miniopoly and make a frequency histogram of the player's cash at the end of the game. "
   ]
  },
  {
   "cell_type": "code",
   "execution_count": 4,
   "metadata": {},
   "outputs": [],
   "source": [
    "def game():\n",
    "    s,c = 0,200\n",
    "    for turn in range(30):\n",
    "        s,c = miniopoly_turn(s,c)\n",
    "        if c <= 0:\n",
    "            return 0\n",
    "    return c\n",
    "\n",
    "ngames = 10000\n",
    "final_cash = np.zeros(ngames)\n",
    "for g in range(ngames):\n",
    "    final_cash[g] = game()"
   ]
  },
  {
   "cell_type": "code",
   "execution_count": 5,
   "metadata": {},
   "outputs": [
    {
     "data": {
      "text/plain": [
       "<matplotlib.axes._subplots.AxesSubplot at 0x10b031128>"
      ]
     },
     "execution_count": 5,
     "metadata": {},
     "output_type": "execute_result"
    },
    {
     "data": {
      "image/png": "[encoded data removed]",
      "text/plain": [
       "<matplotlib.figure.Figure at 0x108466d68>"
      ]
     },
     "metadata": {},
     "output_type": "display_data"
    }
   ],
   "source": [
    "x = pd.Series(final_cash)\n",
    "x.hist()"
   ]
  },
  {
   "cell_type": "markdown",
   "metadata": {},
   "source": [
    "\n",
    "**Part C**: Use your code from **Part A** to estimate the probability that a player goes bankrupt in the first 30 turns of the game. "
   ]
  },
  {
   "cell_type": "code",
   "execution_count": 6,
   "metadata": {},
   "outputs": [
    {
     "data": {
      "text/plain": [
       "0.2618"
      ]
     },
     "execution_count": 6,
     "metadata": {},
     "output_type": "execute_result"
    }
   ],
   "source": [
    "ngames = 10000\n",
    "bankrupt = 0\n",
    "for g in range(ngames):\n",
    "    if game()==0:\n",
    "        bankrupt += 1\n",
    "bankrupt/ngames"
   ]
  },
  {
   "cell_type": "markdown",
   "metadata": {},
   "source": [
    "**Part D**: Use your code from **Part A** to estimate the probability that a player goes bankrupt in the first 30 turns _given_ that they went to **Jail** at least once.  Is a player more or less likely to go bankrupt if they've been to **Jail**?  "
   ]
  },
  {
   "cell_type": "code",
   "execution_count": 19,
   "metadata": {},
   "outputs": [],
   "source": [
    "def jail_game():\n",
    "    visitedJail = False\n",
    "    s,c = 0,200\n",
    "    for turn in range(30):\n",
    "        s,c = miniopoly_turn(s,c)\n",
    "        if s==30:\n",
    "            visitedJail = True\n",
    "        if c <= 0:\n",
    "            if visitedJail:\n",
    "                return 0\n",
    "            else:\n",
    "                return jail_game()\n",
    "    if visitedJail:\n",
    "        return c\n",
    "    else:\n",
    "        return jail_game()"
   ]
  },
  {
   "cell_type": "code",
   "execution_count": 20,
   "metadata": {},
   "outputs": [
    {
     "data": {
      "text/plain": [
       "0.2011"
      ]
     },
     "execution_count": 20,
     "metadata": {},
     "output_type": "execute_result"
    }
   ],
   "source": [
    "ngames = 10000\n",
    "bankrupt = 0\n",
    "for g in range(ngames):\n",
    "    if jail_game()==0:\n",
    "        bankrupt += 1\n",
    "bankrupt/ngames"
   ]
  },
  {
   "cell_type": "markdown",
   "metadata": {},
   "source": [
    "**Part E**: Use your code from **Part A** to estimate the probability (either directly or using Bayes' Rule) that a player has gone to jail at least once, given that the player went bankrupt in the first 30 turns."
   ]
  },
  {
   "cell_type": "code",
   "execution_count": 21,
   "metadata": {},
   "outputs": [],
   "source": [
    "def is_jail_game():\n",
    "    visitedJail = False\n",
    "    s,c = 0,200\n",
    "    for turn in range(30):\n",
    "        s,c = miniopoly_turn(s,c)\n",
    "        if s==30:\n",
    "            return 1\n",
    "        if c <= 0:\n",
    "            return 0\n",
    "    return 0"
   ]
  },
  {
   "cell_type": "code",
   "execution_count": 22,
   "metadata": {},
   "outputs": [
    {
     "data": {
      "text/plain": [
       "0.4614"
      ]
     },
     "execution_count": 22,
     "metadata": {},
     "output_type": "execute_result"
    }
   ],
   "source": [
    "ngames = 10000\n",
    "jail = 0\n",
    "for g in range(ngames):\n",
    "    if is_jail_game()==1:\n",
    "        jail += 1\n",
    "jail/ngames"
   ]
  },
  {
   "cell_type": "markdown",
   "metadata": {},
   "source": [
    "By Bayes, \n",
    "$$P(J\\mid B) = \\frac{P(B|J)P(J)}{P(B)}$$\n",
    "And our ingredients are:\n",
    "$$P(B) = 0.2618$$\n",
    "$$P(B\\mid J) = 0.2011$$\n",
    "$$P(J)=0.4614$$\n",
    "\n",
    "Plugging in:\n",
    "$$P(J|B)=\\frac{0.2011 \\times 0.4614}{0.2618}$$\n",
    "\n",
    "$$P(J|B)=0.3544$$"
   ]
  },
  {
   "cell_type": "markdown",
   "metadata": {},
   "source": [
    "### [15 points] Problem 5 \n",
    "***\n",
    "\n",
    "### Board Game Calamity! \n",
    "\n",
    "Dan, Kyle, and Sofie have been playing board games for ages. Among the games they play a lot are Miniopoly and a similar game with slightly tweaked rules called **Fakeiopoly!**  Being Data-Nerds, they like to record the details of each game they play for future analysis.  Since the games are similar, they store the results for Miniopoly and Fakeiopoly in the same database.  Unfortunately, their data has been corrupted!  The only data that survived are the states (i.e. square numbers) they were on after each of the first 20 turns as well a the amount of cash they had on hand after each of the first 20 turns. This information is stored in the columns **S1**-**S20** and **C1**-**C20** in the following DataFrame. "
   ]
  },
  {
   "cell_type": "code",
   "execution_count": 8,
   "metadata": {},
   "outputs": [
    {
     "data": {
      "text/html": [
       "<div>\n",
       "<style scoped>\n",
       "    .dataframe tbody tr th:only-of-type {\n",
       "        vertical-align: middle;\n",
       "    }\n",
       "\n",
       "    .dataframe tbody tr th {\n",
       "        vertical-align: top;\n",
       "    }\n",
       "\n",
       "    .dataframe thead th {\n",
       "        text-align: right;\n",
       "    }\n",
       "</style>\n",
       "<table border=\"1\" class=\"dataframe\">\n",
       "  <thead>\n",
       "    <tr style=\"text-align: right;\">\n",
       "      <th></th>\n",
       "      <th>S1</th>\n",
       "      <th>S2</th>\n",
       "      <th>S3</th>\n",
       "      <th>S4</th>\n",
       "      <th>S5</th>\n",
       "      <th>S6</th>\n",
       "      <th>S7</th>\n",
       "      <th>S8</th>\n",
       "      <th>S9</th>\n",
       "      <th>S10</th>\n",
       "      <th>...</th>\n",
       "      <th>C22</th>\n",
       "      <th>C23</th>\n",
       "      <th>C24</th>\n",
       "      <th>C25</th>\n",
       "      <th>C26</th>\n",
       "      <th>C27</th>\n",
       "      <th>C28</th>\n",
       "      <th>C29</th>\n",
       "      <th>C30</th>\n",
       "      <th>Game</th>\n",
       "    </tr>\n",
       "  </thead>\n",
       "  <tbody>\n",
       "    <tr>\n",
       "      <th>0</th>\n",
       "      <td>2</td>\n",
       "      <td>6</td>\n",
       "      <td>16</td>\n",
       "      <td>22</td>\n",
       "      <td>32</td>\n",
       "      <td>0</td>\n",
       "      <td>4</td>\n",
       "      <td>13</td>\n",
       "      <td>15</td>\n",
       "      <td>21</td>\n",
       "      <td>...</td>\n",
       "      <td>618</td>\n",
       "      <td>581</td>\n",
       "      <td>777</td>\n",
       "      <td>813</td>\n",
       "      <td>794</td>\n",
       "      <td>771</td>\n",
       "      <td>771</td>\n",
       "      <td>761</td>\n",
       "      <td>751</td>\n",
       "      <td>real</td>\n",
       "    </tr>\n",
       "    <tr>\n",
       "      <th>1</th>\n",
       "      <td>7</td>\n",
       "      <td>16</td>\n",
       "      <td>26</td>\n",
       "      <td>30</td>\n",
       "      <td>38</td>\n",
       "      <td>0</td>\n",
       "      <td>9</td>\n",
       "      <td>17</td>\n",
       "      <td>22</td>\n",
       "      <td>28</td>\n",
       "      <td>...</td>\n",
       "      <td>503</td>\n",
       "      <td>475</td>\n",
       "      <td>385</td>\n",
       "      <td>460</td>\n",
       "      <td>453</td>\n",
       "      <td>438</td>\n",
       "      <td>449</td>\n",
       "      <td>422</td>\n",
       "      <td>408</td>\n",
       "      <td>fake</td>\n",
       "    </tr>\n",
       "    <tr>\n",
       "      <th>2</th>\n",
       "      <td>6</td>\n",
       "      <td>17</td>\n",
       "      <td>19</td>\n",
       "      <td>21</td>\n",
       "      <td>28</td>\n",
       "      <td>36</td>\n",
       "      <td>1</td>\n",
       "      <td>4</td>\n",
       "      <td>12</td>\n",
       "      <td>20</td>\n",
       "      <td>...</td>\n",
       "      <td>435</td>\n",
       "      <td>425</td>\n",
       "      <td>415</td>\n",
       "      <td>405</td>\n",
       "      <td>395</td>\n",
       "      <td>385</td>\n",
       "      <td>375</td>\n",
       "      <td>365</td>\n",
       "      <td>355</td>\n",
       "      <td>real</td>\n",
       "    </tr>\n",
       "    <tr>\n",
       "      <th>3</th>\n",
       "      <td>5</td>\n",
       "      <td>11</td>\n",
       "      <td>21</td>\n",
       "      <td>30</td>\n",
       "      <td>36</td>\n",
       "      <td>2</td>\n",
       "      <td>10</td>\n",
       "      <td>17</td>\n",
       "      <td>21</td>\n",
       "      <td>27</td>\n",
       "      <td>...</td>\n",
       "      <td>713</td>\n",
       "      <td>681</td>\n",
       "      <td>642</td>\n",
       "      <td>692</td>\n",
       "      <td>683</td>\n",
       "      <td>666</td>\n",
       "      <td>640</td>\n",
       "      <td>605</td>\n",
       "      <td>804</td>\n",
       "      <td>fake</td>\n",
       "    </tr>\n",
       "    <tr>\n",
       "      <th>4</th>\n",
       "      <td>3</td>\n",
       "      <td>6</td>\n",
       "      <td>11</td>\n",
       "      <td>18</td>\n",
       "      <td>25</td>\n",
       "      <td>30</td>\n",
       "      <td>39</td>\n",
       "      <td>4</td>\n",
       "      <td>13</td>\n",
       "      <td>22</td>\n",
       "      <td>...</td>\n",
       "      <td>576</td>\n",
       "      <td>481</td>\n",
       "      <td>678</td>\n",
       "      <td>553</td>\n",
       "      <td>534</td>\n",
       "      <td>508</td>\n",
       "      <td>478</td>\n",
       "      <td>378</td>\n",
       "      <td>572</td>\n",
       "      <td>fake</td>\n",
       "    </tr>\n",
       "  </tbody>\n",
       "</table>\n",
       "<p>5 rows × 61 columns</p>\n",
       "</div>"
      ],
      "text/plain": [
       "   S1  S2  S3  S4  S5  S6  S7  S8  S9  S10  ...   C22  C23  C24  C25  C26  \\\n",
       "0   2   6  16  22  32   0   4  13  15   21  ...   618  581  777  813  794   \n",
       "1   7  16  26  30  38   0   9  17  22   28  ...   503  475  385  460  453   \n",
       "2   6  17  19  21  28  36   1   4  12   20  ...   435  425  415  405  395   \n",
       "3   5  11  21  30  36   2  10  17  21   27  ...   713  681  642  692  683   \n",
       "4   3   6  11  18  25  30  39   4  13   22  ...   576  481  678  553  534   \n",
       "\n",
       "   C27  C28  C29  C30  Game  \n",
       "0  771  771  761  751  real  \n",
       "1  438  449  422  408  fake  \n",
       "2  385  375  365  355  real  \n",
       "3  666  640  605  804  fake  \n",
       "4  508  478  378  572  fake  \n",
       "\n",
       "[5 rows x 61 columns]"
      ]
     },
     "execution_count": 8,
     "metadata": {},
     "output_type": "execute_result"
    }
   ],
   "source": [
    "dfLog = pd.read_csv(\"game_log.csv\")\n",
    "dfLog.head()"
   ]
  },
  {
   "cell_type": "markdown",
   "metadata": {},
   "source": [
    "You might notice that there is one extra column in the DataFrame called **Game** which describes whether they were playing Miniopoly (labeled real) or Fakeiopoly (labeled fake).  Unfortunately, the **Game** labels only survived in the first half of the DataFrame.  As you can see, the **Game** labels in the second half of the database were lost. "
   ]
  },
  {
   "cell_type": "code",
   "execution_count": 15,
   "metadata": {},
   "outputs": [
    {
     "data": {
      "text/html": [
       "<div>\n",
       "<style scoped>\n",
       "    .dataframe tbody tr th:only-of-type {\n",
       "        vertical-align: middle;\n",
       "    }\n",
       "\n",
       "    .dataframe tbody tr th {\n",
       "        vertical-align: top;\n",
       "    }\n",
       "\n",
       "    .dataframe thead th {\n",
       "        text-align: right;\n",
       "    }\n",
       "</style>\n",
       "<table border=\"1\" class=\"dataframe\">\n",
       "  <thead>\n",
       "    <tr style=\"text-align: right;\">\n",
       "      <th></th>\n",
       "      <th>S1</th>\n",
       "      <th>S2</th>\n",
       "      <th>S3</th>\n",
       "      <th>S4</th>\n",
       "      <th>S5</th>\n",
       "      <th>S6</th>\n",
       "      <th>S7</th>\n",
       "      <th>S8</th>\n",
       "      <th>S9</th>\n",
       "      <th>S10</th>\n",
       "      <th>...</th>\n",
       "      <th>C22</th>\n",
       "      <th>C23</th>\n",
       "      <th>C24</th>\n",
       "      <th>C25</th>\n",
       "      <th>C26</th>\n",
       "      <th>C27</th>\n",
       "      <th>C28</th>\n",
       "      <th>C29</th>\n",
       "      <th>C30</th>\n",
       "      <th>Game</th>\n",
       "    </tr>\n",
       "  </thead>\n",
       "  <tbody>\n",
       "    <tr>\n",
       "      <th>995</th>\n",
       "      <td>4</td>\n",
       "      <td>12</td>\n",
       "      <td>21</td>\n",
       "      <td>29</td>\n",
       "      <td>38</td>\n",
       "      <td>4</td>\n",
       "      <td>13</td>\n",
       "      <td>24</td>\n",
       "      <td>28</td>\n",
       "      <td>36</td>\n",
       "      <td>...</td>\n",
       "      <td>619</td>\n",
       "      <td>621</td>\n",
       "      <td>632</td>\n",
       "      <td>595</td>\n",
       "      <td>789</td>\n",
       "      <td>777</td>\n",
       "      <td>722</td>\n",
       "      <td>696</td>\n",
       "      <td>683</td>\n",
       "      <td>NaN</td>\n",
       "    </tr>\n",
       "    <tr>\n",
       "      <th>996</th>\n",
       "      <td>2</td>\n",
       "      <td>9</td>\n",
       "      <td>15</td>\n",
       "      <td>24</td>\n",
       "      <td>31</td>\n",
       "      <td>37</td>\n",
       "      <td>37</td>\n",
       "      <td>37</td>\n",
       "      <td>37</td>\n",
       "      <td>37</td>\n",
       "      <td>...</td>\n",
       "      <td>0</td>\n",
       "      <td>0</td>\n",
       "      <td>0</td>\n",
       "      <td>0</td>\n",
       "      <td>0</td>\n",
       "      <td>0</td>\n",
       "      <td>0</td>\n",
       "      <td>0</td>\n",
       "      <td>0</td>\n",
       "      <td>NaN</td>\n",
       "    </tr>\n",
       "    <tr>\n",
       "      <th>997</th>\n",
       "      <td>4</td>\n",
       "      <td>8</td>\n",
       "      <td>17</td>\n",
       "      <td>20</td>\n",
       "      <td>25</td>\n",
       "      <td>37</td>\n",
       "      <td>9</td>\n",
       "      <td>17</td>\n",
       "      <td>20</td>\n",
       "      <td>28</td>\n",
       "      <td>...</td>\n",
       "      <td>542</td>\n",
       "      <td>516</td>\n",
       "      <td>503</td>\n",
       "      <td>465</td>\n",
       "      <td>660</td>\n",
       "      <td>644</td>\n",
       "      <td>625</td>\n",
       "      <td>597</td>\n",
       "      <td>697</td>\n",
       "      <td>NaN</td>\n",
       "    </tr>\n",
       "    <tr>\n",
       "      <th>998</th>\n",
       "      <td>5</td>\n",
       "      <td>11</td>\n",
       "      <td>14</td>\n",
       "      <td>19</td>\n",
       "      <td>22</td>\n",
       "      <td>30</td>\n",
       "      <td>30</td>\n",
       "      <td>30</td>\n",
       "      <td>30</td>\n",
       "      <td>30</td>\n",
       "      <td>...</td>\n",
       "      <td>0</td>\n",
       "      <td>0</td>\n",
       "      <td>0</td>\n",
       "      <td>0</td>\n",
       "      <td>0</td>\n",
       "      <td>0</td>\n",
       "      <td>0</td>\n",
       "      <td>0</td>\n",
       "      <td>0</td>\n",
       "      <td>NaN</td>\n",
       "    </tr>\n",
       "    <tr>\n",
       "      <th>999</th>\n",
       "      <td>7</td>\n",
       "      <td>13</td>\n",
       "      <td>20</td>\n",
       "      <td>29</td>\n",
       "      <td>31</td>\n",
       "      <td>12</td>\n",
       "      <td>18</td>\n",
       "      <td>25</td>\n",
       "      <td>28</td>\n",
       "      <td>35</td>\n",
       "      <td>...</td>\n",
       "      <td>155</td>\n",
       "      <td>117</td>\n",
       "      <td>313</td>\n",
       "      <td>302</td>\n",
       "      <td>304</td>\n",
       "      <td>404</td>\n",
       "      <td>374</td>\n",
       "      <td>339</td>\n",
       "      <td>539</td>\n",
       "      <td>NaN</td>\n",
       "    </tr>\n",
       "  </tbody>\n",
       "</table>\n",
       "<p>5 rows × 61 columns</p>\n",
       "</div>"
      ],
      "text/plain": [
       "     S1  S2  S3  S4  S5  S6  S7  S8  S9  S10  ...   C22  C23  C24  C25  C26  \\\n",
       "995   4  12  21  29  38   4  13  24  28   36  ...   619  621  632  595  789   \n",
       "996   2   9  15  24  31  37  37  37  37   37  ...     0    0    0    0    0   \n",
       "997   4   8  17  20  25  37   9  17  20   28  ...   542  516  503  465  660   \n",
       "998   5  11  14  19  22  30  30  30  30   30  ...     0    0    0    0    0   \n",
       "999   7  13  20  29  31  12  18  25  28   35  ...   155  117  313  302  304   \n",
       "\n",
       "     C27  C28  C29  C30  Game  \n",
       "995  777  722  696  683   NaN  \n",
       "996    0    0    0    0   NaN  \n",
       "997  644  625  597  697   NaN  \n",
       "998    0    0    0    0   NaN  \n",
       "999  404  374  339  539   NaN  \n",
       "\n",
       "[5 rows x 61 columns]"
      ]
     },
     "execution_count": 15,
     "metadata": {},
     "output_type": "execute_result"
    }
   ],
   "source": [
    "dfLog.tail()"
   ]
  },
  {
   "cell_type": "markdown",
   "metadata": {},
   "source": [
    "While they can deal with the loss of information about later turns, doing any kind of meaningful analysis on the data requires knowledge of which game they were playing.  Your job is to see if you can reconstruct the missing **Game** labels in the second half of the DataFrame.  \n",
    "\n",
    "Sadly, Fakeiopoly was a game of their own invention, and the rules were among the lost data.  But, being budding data scientists, you can probably glean some insights into the non-standard rules by exploring the data with intact labels in the first half of the DataFrame. \n",
    "\n",
    "**Part A**: Complete the function predict_game_log below to predict whether each game in the DataFrame is real or fake.  To help you, we've provided a score function that reports the accuracy of your predictions on the rows that have intact labels.  \n",
    "\n",
    "OK, here are the **rules**: \n",
    "\n",
    "- You may **NOT** load any external libraries beyond Pandas, Numpy, and Matplotlib.  Instead of fancy Machine Learning techniques you may have picked up on the streets, you'll have to rely on your probability, heuristics, and exploratory data analysis skills. \n",
    "- You may write any additional functions you like, but you should **NOT** change the way that predict_game_log is called or what it returns. \n",
    "\n",
    "And some final **guidance**: \n",
    "\n",
    "- While we hope you do well, and obtain great accuracies, we're more interested in seeing how you approach the problem.  As part of your solution you should describe in detail how you based your predictions.  A solution with high accuracy and no justification of you approach may receive a low score, while a solution with mediocre accuracy and good justification may receive a high score.  What aspects of the data lead you to believe that your approach might be successful? Supporting evidence might include graphical summaries of the data and extensive description of trial and error. "
   ]
  },
  {
   "cell_type": "code",
   "execution_count": 7,
   "metadata": {
    "collapsed": true
   },
   "outputs": [],
   "source": [
    "def predict_game_log():\n",
    "    '''\n",
    "    Function to read in the corrupted DataFrame and make predictions\n",
    "    about which game is associated with each sequence of states \n",
    "    and cash values.  You should store your predictions (\"real\"/\"fake\")\n",
    "    in the column \"Prediction\" in the DataFrame. \n",
    "    '''\n",
    "    \n",
    "    dfPredict = pd.read_csv(\"https://raw.githubusercontent.com/chrisketelsen/csci3022/master/hmwk/hmwk02/game_log.csv\")\n",
    "    \n",
    "    dfPredict.loc[:, \"Prediction\"] = \"real\"\n",
    "    \n",
    "    return dfPredict "
   ]
  },
  {
   "cell_type": "code",
   "execution_count": 20,
   "metadata": {},
   "outputs": [],
   "source": [
    "def score(df):\n",
    "    '''\n",
    "    Function to score your predictions on the labeled game data. \n",
    "    '''\n",
    "    num_samples = len(df.loc[pd.notnull(df[\"Game\"])])\n",
    "    num_correct = np.sum(df.loc[pd.notnull(df[\"Game\"]), \"Game\"] == df.loc[pd.notnull(df[\"Game\"]), \"Prediction\"])\n",
    "    print(\"accuracy on labeled data: {}\".format(num_correct / num_samples))"
   ]
  },
  {
   "cell_type": "markdown",
   "metadata": {},
   "source": [
    "**[Extra Credit] Part B**: Based on your exploratory data analysis, can you predict how the rules of Fakeiopoly differ from Miniopoly?  Be sure to thoroughly justify your conclusions. "
   ]
  },
  {
   "cell_type": "code",
   "execution_count": null,
   "metadata": {},
   "outputs": [],
   "source": []
  }
 ],
 "metadata": {
  "kernelspec": {
   "display_name": "Python 3",
   "language": "python",
   "name": "python3"
  },
  "language_info": {
   "codemirror_mode": {
    "name": "ipython",
    "version": 3
   },
   "file_extension": ".py",
   "mimetype": "text/x-python",
   "name": "python",
   "nbconvert_exporter": "python",
   "pygments_lexer": "ipython3",
   "version": "3.6.2"
  }
 },
 "nbformat": 4,
 "nbformat_minor": 2
}
